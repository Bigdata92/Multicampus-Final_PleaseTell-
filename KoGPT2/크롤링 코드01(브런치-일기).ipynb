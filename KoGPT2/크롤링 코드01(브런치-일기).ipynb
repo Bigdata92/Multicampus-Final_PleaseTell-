{
 "cells": [
  {
   "cell_type": "code",
   "execution_count": null,
   "metadata": {},
   "outputs": [],
   "source": [
    "# 필요 데이터 크롤링\n",
    "import requests\n",
    "import pandas as pd\n",
    "import time\n",
    "from selenium import webdriver\n",
    "from selenium.webdriver.common.keys import Keys\n",
    "from bs4 import BeautifulSoup\n",
    "from urllib.parse import quote\n",
    "from tqdm.notebook import tqdm\n",
    "URL = 'https://brunch.co.kr'\n",
    "driver = webdriver.Chrome('C:\\\\Users\\\\Bestc\\\\Desktop\\\\빅데이터 지능형 서비스 개발과정(멀티캠퍼스)\\\\설치프로그램\\\\Selenium\\\\chromedriver.exe')\n",
    "driver.get(URL)\n",
    "time.sleep(2)\n",
    "driver.find_element_by_xpath('//*[@id=\"mArticle\"]/div[3]/div[1]/div/a[24]').click()\n",
    "time.sleep(2)\n",
    "driver.close()\n",
    "driver.switch_to.window(driver.window_handles[0])\n",
    "driver.find_element_by_xpath('//*[@id=\"keywordItemListBlock\"]/a[11]').click()\n",
    "time.sleep(2)\n",
    "driver.close()\n",
    "driver.switch_to.window(driver.window_handles[0])\n",
    "driver.find_element_by_xpath('//*[@id=\"keywordItemListBlock\"]/a[9]').click()\n",
    "time.sleep(2)\n",
    "driver.close()\n",
    "driver.switch_to.window(driver.window_handles[0])"
   ]
  },
  {
   "cell_type": "code",
   "execution_count": null,
   "metadata": {},
   "outputs": [],
   "source": [
    "for i in tqdm(range(5000)):\n",
    "    driver.execute_script(\"window.scrollTo(0, document.body.scrollHeight);\")\n",
    "    time.sleep(3)"
   ]
  },
  {
   "cell_type": "code",
   "execution_count": 20,
   "metadata": {},
   "outputs": [
    {
     "data": {
      "application/vnd.jupyter.widget-view+json": {
       "model_id": "a3df61ad128745169d0808dbf8a6f6a5",
       "version_major": 2,
       "version_minor": 0
      },
      "text/plain": [
       "  0%|          | 0/1672 [00:00<?, ?it/s]"
      ]
     },
     "metadata": {},
     "output_type": "display_data"
    },
    {
     "name": "stderr",
     "output_type": "stream",
     "text": [
      "<ipython-input-20-57bf84c94d9d>:6: DeprecationWarning: find_element_by_* commands are deprecated. Please use find_element() instead\n",
      "  driver.find_element_by_xpath(f'//*[@id=\"wrapArticle\"]/div[1]/ul/li[{i}]').click()\n",
      "<ipython-input-20-57bf84c94d9d>:9: DeprecationWarning: find_element_by_* commands are deprecated. Please use find_element() instead\n",
      "  raw_contents = driver.find_element_by_xpath('/html/body/div[3]/div[1]/div[2]/div[1]').text\n",
      "<ipython-input-20-57bf84c94d9d>:10: DeprecationWarning: find_element_by_* commands are deprecated. Please use find_element() instead\n",
      "  raw_title = driver.find_element_by_xpath('/html/body/div[3]/div[1]/div[1]/div/div[3]/h1').text\n"
     ]
    }
   ],
   "source": [
    "import re\n",
    "# title_list, contents_list = [], []\n",
    "for i in tqdm(range(1329, 3001)):\n",
    "    driver.switch_to.window(driver.window_handles[0])\n",
    "    time.sleep(1)\n",
    "    driver.find_element_by_xpath(f'//*[@id=\"wrapArticle\"]/div[1]/ul/li[{i}]').click()\n",
    "    driver.switch_to.window(driver.window_handles[1])\n",
    "    time.sleep(3)\n",
    "    raw_contents = driver.find_element_by_xpath('/html/body/div[3]/div[1]/div[2]/div[1]').text\n",
    "    raw_title = driver.find_element_by_xpath('/html/body/div[3]/div[1]/div[1]/div/div[3]/h1').text\n",
    "    # contents = re.sub('[\\n]', '', raw_contents)\n",
    "    # title = re.sub('[\\n]', '', raw_title)\n",
    "    title_list.append(raw_title)\n",
    "    contents_list.append(raw_contents)\n",
    "    time.sleep(3)\n",
    "    driver.close()\n",
    "    time.sleep(1)"
   ]
  },
  {
   "cell_type": "code",
   "execution_count": 21,
   "metadata": {},
   "outputs": [
    {
     "data": {
      "text/plain": [
       "(3001, 3001)"
      ]
     },
     "execution_count": 21,
     "metadata": {},
     "output_type": "execute_result"
    }
   ],
   "source": [
    "len(contents_list), len(title_list)"
   ]
  },
  {
   "cell_type": "code",
   "execution_count": 22,
   "metadata": {},
   "outputs": [
    {
     "data": {
      "text/plain": [
       "'#송희의좋은생각\\n결국 마음에서시작\\n나의태도에서 시작\\n그리고 인생은 장거리다 천천히 가는방향 목적지만 생각하자\\n나는 내일 죽지않을것이다\\n오늘을 살지만 내일도 있는 사람\\n진짜 기독교와 예술을빼면?\\n오늘은 먹고자고만 하는날 쉴거다 어제넘우울\\n문제풀구\\n어제보다가 역시 하루가쌓여서 어제의내가 오늘의나를 만든다\\n아침요가조지고\\n유산균 먹고\\n뒹굴거리기 좋다\\n밥묵고\\n먹고간식\\n\\n칼로리채우기..\\n걍 오전에 더안먹고 쉬려규 지금 먹어버리기\\n\\n하 넘귀찮다...\\n오늘도 오전은 이걸로끝내야지..나눠먹기귀찬아 주말만 이렇게..\\n쓰고싶을때마누쓰는\\natopic 아토피\\n자란다도 올리구 ㅋㅋㅋ 당근찰구\\n심심해서 옷장절리두 하구 ㅋㅋ 이제 간다웅동\\n웜업 트레드밀 18경사 6분속도5\\n푸쉬업\\n덤벨 위로올리는거\\n스쿼트\\n스쿼트하면사 암워킹이랑\\n샤레레\\n암워킹\\n레그익스텐션\\n힙어브덕션\\n런지 존내많이\\n클로이팅복근\\n레베카복근\\n아침 요가\\n오늘 운동개장먹음\\n\\n집가서!\\n먹구\\n아것도 참막어보는데맛이땅\\n고구마말랭이 이거 맛있군\\n영어모임하구 동생이랑 책사러가기\\n영어모임 짱잼탱..8ㅅ8\\n오늘 하루 힐링이다..8ㅅ8\\n좋은 사람들과 공부는 늘 즐거워!\\n갖고싶으네 넘비쌈 ㅎ\\n걸어가다니까 죽어도 안감 버스탐 ㅋㅋ\\n와중에저거 사고싶다 이미샀눈데내서카일\\n후..피곤.....한것도없는것같은ㄷ 하루가 정신없이겄구만 ㅋㅋㅋㅋㅋ\\n책한권가고 간식 ㅎ이것도 마지막\\n먹고 고정간식 오늘은 이거로 그만먹을래 ㅎ\\n일기도 쓰고 ㅋㅋ 저거막있음\\n근데왜인바디 ㅏ체만 ㅠ\\n흑인바디 믿지밀자\\n근데 아까 책 겨환해주신다고(빵꾸나있었음)\\n랬는데귀찬휴\\n\\n씻고디비저 잘가 빠22완벽하게 핼복한날'"
      ]
     },
     "execution_count": 22,
     "metadata": {},
     "output_type": "execute_result"
    }
   ],
   "source": [
    "df = pd.DataFrame({'제목' : title_list, '내용' : contents_list})\n",
    "df['내용'][0]"
   ]
  },
  {
   "cell_type": "code",
   "execution_count": 23,
   "metadata": {},
   "outputs": [
    {
     "name": "stdout",
     "output_type": "stream",
     "text": [
      "#송희의좋은생각\n",
      "결국 마음에서시작\n",
      "나의태도에서 시작\n",
      "그리고 인생은 장거리다 천천히 가는방향 목적지만 생각하자\n",
      "나는 내일 죽지않을것이다\n",
      "오늘을 살지만 내일도 있는 사람\n",
      "진짜 기독교와 예술을빼면?\n",
      "오늘은 먹고자고만 하는날 쉴거다 어제넘우울\n",
      "문제풀구\n",
      "어제보다가 역시 하루가쌓여서 어제의내가 오늘의나를 만든다\n",
      "아침요가조지고\n",
      "유산균 먹고\n",
      "뒹굴거리기 좋다\n",
      "밥묵고\n",
      "먹고간식\n",
      "\n",
      "칼로리채우기..\n",
      "걍 오전에 더안먹고 쉬려규 지금 먹어버리기\n",
      "\n",
      "하 넘귀찮다...\n",
      "오늘도 오전은 이걸로끝내야지..나눠먹기귀찬아 주말만 이렇게..\n",
      "쓰고싶을때마누쓰는\n",
      "atopic 아토피\n",
      "자란다도 올리구 ㅋㅋㅋ 당근찰구\n",
      "심심해서 옷장절리두 하구 ㅋㅋ 이제 간다웅동\n",
      "웜업 트레드밀 18경사 6분속도5\n",
      "푸쉬업\n",
      "덤벨 위로올리는거\n",
      "스쿼트\n",
      "스쿼트하면사 암워킹이랑\n",
      "샤레레\n",
      "암워킹\n",
      "레그익스텐션\n",
      "힙어브덕션\n",
      "런지 존내많이\n",
      "클로이팅복근\n",
      "레베카복근\n",
      "아침 요가\n",
      "오늘 운동개장먹음\n",
      "\n",
      "집가서!\n",
      "먹구\n",
      "아것도 참막어보는데맛이땅\n",
      "고구마말랭이 이거 맛있군\n",
      "영어모임하구 동생이랑 책사러가기\n",
      "영어모임 짱잼탱..8ㅅ8\n",
      "오늘 하루 힐링이다..8ㅅ8\n",
      "좋은 사람들과 공부는 늘 즐거워!\n",
      "갖고싶으네 넘비쌈 ㅎ\n",
      "걸어가다니까 죽어도 안감 버스탐 ㅋㅋ\n",
      "와중에저거 사고싶다 이미샀눈데내서카일\n",
      "후..피곤.....한것도없는것같은ㄷ 하루가 정신없이겄구만 ㅋㅋㅋㅋㅋ\n",
      "책한권가고 간식 ㅎ이것도 마지막\n",
      "먹고 고정간식 오늘은 이거로 그만먹을래 ㅎ\n",
      "일기도 쓰고 ㅋㅋ 저거막있음\n",
      "근데왜인바디 ㅏ체만 ㅠ\n",
      "흑인바디 믿지밀자\n",
      "근데 아까 책 겨환해주신다고(빵꾸나있었음)\n",
      "랬는데귀찬휴\n",
      "\n",
      "씻고디비저 잘가 빠22완벽하게 핼복한날\n"
     ]
    }
   ],
   "source": [
    "print(df['내용'][0])"
   ]
  },
  {
   "cell_type": "code",
   "execution_count": 24,
   "metadata": {},
   "outputs": [
    {
     "data": {
      "text/plain": [
       "'#송희의좋은생각 결국 마음에서시작 나의태도에서 시작 그리고 인생은 장거리다 천천히 가는방향 목적지만 생각하자 나는 내일 죽지않을것이다 오늘을 살지만 내일도 있는 사람 진짜 기독교와 예술을빼면? 오늘은 먹고자고만 하는날 쉴거다 어제넘우울 문제풀구 어제보다가 역시 하루가쌓여서 어제의내가 오늘의나를 만든다 아침요가조지고 유산균 먹고 뒹굴거리기 좋다 밥묵고 먹고간식 칼로리채우기.. 걍 오전에 더안먹고 쉬려규 지금 먹어버리기 하 넘귀찮다... 오늘도 오전은 이걸로끝내야지..나눠먹기귀찬아 주말만 이렇게.. 쓰고싶을때마누쓰는 atopic 아토피 자란다도 올리구 ㅋㅋㅋ 당근찰구 심심해서 옷장절리두 하구 ㅋㅋ 이제 간다웅동 웜업 트레드밀 18경사 6분속도5 푸쉬업 덤벨 위로올리는거 스쿼트 스쿼트하면사 암워킹이랑 샤레레 암워킹 레그익스텐션 힙어브덕션 런지 존내많이 클로이팅복근 레베카복근 아침 요가 오늘 운동개장먹음 집가서! 먹구 아것도 참막어보는데맛이땅 고구마말랭이 이거 맛있군 영어모임하구 동생이랑 책사러가기 영어모임 짱잼탱..8ㅅ8 오늘 하루 힐링이다..8ㅅ8 좋은 사람들과 공부는 늘 즐거워! 갖고싶으네 넘비쌈 ㅎ 걸어가다니까 죽어도 안감 버스탐 ㅋㅋ 와중에저거 사고싶다 이미샀눈데내서카일 후..피곤.....한것도없는것같은ㄷ 하루가 정신없이겄구만 ㅋㅋㅋㅋㅋ 책한권가고 간식 ㅎ이것도 마지막 먹고 고정간식 오늘은 이거로 그만먹을래 ㅎ 일기도 쓰고 ㅋㅋ 저거막있음 근데왜인바디 ㅏ체만 ㅠ 흑인바디 믿지밀자 근데 아까 책 겨환해주신다고(빵꾸나있었음) 랬는데귀찬휴 씻고디비저 잘가 빠22완벽하게 핼복한날'"
      ]
     },
     "execution_count": 24,
     "metadata": {},
     "output_type": "execute_result"
    }
   ],
   "source": [
    "test_content = df['내용'][0].replace('\\n', ' ')\n",
    "test_content.replace('  ', ' ')"
   ]
  },
  {
   "cell_type": "code",
   "execution_count": 25,
   "metadata": {},
   "outputs": [],
   "source": [
    "path = 'C:/Workspace/python/빅데이터 지능형서비스 개발 팀프로젝트/Final Project/Data/KoGPT2_Data/Crawling Data/'\n",
    "df.to_csv(path + 'Crawling(brunch_일기_1~3000).csv', index = False)\n",
    "df['내용'].to_csv(path + 'Crawling(brunch_일기_1~3000).txt', index = False)"
   ]
  },
  {
   "cell_type": "code",
   "execution_count": 26,
   "metadata": {},
   "outputs": [
    {
     "data": {
      "text/plain": [
       "'#송희의좋은생각\\n결국 마음에서시작\\n나의태도에서 시작\\n그리고 인생은 장거리다 천천히 가는방향 목적지만 생각하자\\n나는 내일 죽지않을것이다\\n오늘을 살지만 내일도 있는 사람\\n진짜 기독교와 예술을빼면?\\n오늘은 먹고자고만 하는날 쉴거다 어제넘우울\\n문제풀구\\n어제보다가 역시 하루가쌓여서 어제의내가 오늘의나를 만든다\\n아침요가조지고\\n유산균 먹고\\n뒹굴거리기 좋다\\n밥묵고\\n먹고간식\\n\\n칼로리채우기..\\n걍 오전에 더안먹고 쉬려규 지금 먹어버리기\\n\\n하 넘귀찮다...\\n오늘도 오전은 이걸로끝내야지..나눠먹기귀찬아 주말만 이렇게..\\n쓰고싶을때마누쓰는\\natopic 아토피\\n자란다도 올리구 ㅋㅋㅋ 당근찰구\\n심심해서 옷장절리두 하구 ㅋㅋ 이제 간다웅동\\n웜업 트레드밀 18경사 6분속도5\\n푸쉬업\\n덤벨 위로올리는거\\n스쿼트\\n스쿼트하면사 암워킹이랑\\n샤레레\\n암워킹\\n레그익스텐션\\n힙어브덕션\\n런지 존내많이\\n클로이팅복근\\n레베카복근\\n아침 요가\\n오늘 운동개장먹음\\n\\n집가서!\\n먹구\\n아것도 참막어보는데맛이땅\\n고구마말랭이 이거 맛있군\\n영어모임하구 동생이랑 책사러가기\\n영어모임 짱잼탱..8ㅅ8\\n오늘 하루 힐링이다..8ㅅ8\\n좋은 사람들과 공부는 늘 즐거워!\\n갖고싶으네 넘비쌈 ㅎ\\n걸어가다니까 죽어도 안감 버스탐 ㅋㅋ\\n와중에저거 사고싶다 이미샀눈데내서카일\\n후..피곤.....한것도없는것같은ㄷ 하루가 정신없이겄구만 ㅋㅋㅋㅋㅋ\\n책한권가고 간식 ㅎ이것도 마지막\\n먹고 고정간식 오늘은 이거로 그만먹을래 ㅎ\\n일기도 쓰고 ㅋㅋ 저거막있음\\n근데왜인바디 ㅏ체만 ㅠ\\n흑인바디 믿지밀자\\n근데 아까 책 겨환해주신다고(빵꾸나있었음)\\n랬는데귀찬휴\\n\\n씻고디비저 잘가 빠22완벽하게 핼복한날'"
      ]
     },
     "execution_count": 26,
     "metadata": {},
     "output_type": "execute_result"
    }
   ],
   "source": [
    "df1 = pd.read_csv(path + 'Crawling(brunch_일기_1~3000).csv')\n",
    "df1['내용'][0]"
   ]
  },
  {
   "cell_type": "code",
   "execution_count": 29,
   "metadata": {},
   "outputs": [
    {
     "data": {
      "application/vnd.jupyter.widget-view+json": {
       "model_id": "e12c66f1bc464a43aa26ff1b2ce561c7",
       "version_major": 2,
       "version_minor": 0
      },
      "text/plain": [
       "  0%|          | 0/1427 [00:00<?, ?it/s]"
      ]
     },
     "metadata": {},
     "output_type": "display_data"
    },
    {
     "name": "stderr",
     "output_type": "stream",
     "text": [
      "<ipython-input-29-e8caafbe1bdf>:6: DeprecationWarning: find_element_by_* commands are deprecated. Please use find_element() instead\n",
      "  driver.find_element_by_xpath(f'//*[@id=\"wrapArticle\"]/div[1]/ul/li[{i}]').click()\n",
      "<ipython-input-29-e8caafbe1bdf>:9: DeprecationWarning: find_element_by_* commands are deprecated. Please use find_element() instead\n",
      "  raw_contents = driver.find_element_by_xpath('/html/body/div[3]/div[1]/div[2]/div[1]').text\n",
      "<ipython-input-29-e8caafbe1bdf>:10: DeprecationWarning: find_element_by_* commands are deprecated. Please use find_element() instead\n",
      "  raw_title = driver.find_element_by_xpath('/html/body/div[3]/div[1]/div[1]/div/div[3]/h1').text\n"
     ]
    }
   ],
   "source": [
    "import re\n",
    "# title_list, contents_list = [], []\n",
    "for i in tqdm(range(4574, 6001)):\n",
    "    driver.switch_to.window(driver.window_handles[0])\n",
    "    time.sleep(1)\n",
    "    driver.find_element_by_xpath(f'//*[@id=\"wrapArticle\"]/div[1]/ul/li[{i}]').click()\n",
    "    driver.switch_to.window(driver.window_handles[1])\n",
    "    time.sleep(3)\n",
    "    raw_contents = driver.find_element_by_xpath('/html/body/div[3]/div[1]/div[2]/div[1]').text\n",
    "    raw_title = driver.find_element_by_xpath('/html/body/div[3]/div[1]/div[1]/div/div[3]/h1').text\n",
    "    # contents = re.sub('[\\n]', '', raw_contents)\n",
    "    # title = re.sub('[\\n]', '', raw_title)\n",
    "    title_list.append(raw_title)\n",
    "    contents_list.append(raw_contents)\n",
    "    time.sleep(3)\n",
    "    driver.close()\n",
    "    time.sleep(1)"
   ]
  },
  {
   "cell_type": "code",
   "execution_count": 30,
   "metadata": {},
   "outputs": [
    {
     "data": {
      "text/plain": [
       "(3000, 3000)"
      ]
     },
     "execution_count": 30,
     "metadata": {},
     "output_type": "execute_result"
    }
   ],
   "source": [
    "len(contents_list), len(title_list)"
   ]
  },
  {
   "cell_type": "code",
   "execution_count": 31,
   "metadata": {},
   "outputs": [
    {
     "data": {
      "text/plain": [
       "'하루 종일 무슨 생각을 할 수가 없다. 이유를 알 수 없는 두통이 어젯밤부터 지속되고 있다. 두통약을 먹어도 좋아지지가 않는다. 머리가 아프니, 뭘 해도 하는 것 같지가 않다. 일을 하고 있는데, 내가 제대로 하고 있는 게 맞는지를 모르겠다. \\n\\n왜 이렇게 두통이 심할까? 어제 급하게 먹은 점심이 체한 것 같아 소화제도 먹어봤고, 피곤해서 오는 두통인가 싶어, 두통약도 먹어봤지만, 좋아지지 않는다. 동생은 냉방병일 수도 있다고 했다. 생각해 보니, 요즘 직장에서도 집에서도 에어컨을 많이 키는 것 같기는 하다. 정말 냉방병이면 어떻게 치료를 해야 하나...\\n\\n요즘 왜 이렇게 컨디션이 좋아지지가 않는 걸까? 조금 좋아지는가 싶다가, 또 안 좋아지고, 또 안 좋아지고... 여름을 타는 건가? \\n\\n차라리 특별히 어딘가 딱 아프면, 병원에 가서 치료를 받거나 할 텐데, 딱히 어디가 막 아픈 건 아닌데, 묘하게 기분 나쁘게 여기저기가 좋지 않다. 이런 건 뭐... 컨디션이 좋지 않다라고밖에 설명을 할 수가 없다. 그런데 컨디션이 좋지 않은 건 어떻게 치료를 해야 하는 걸까?\\n\\n요즘 좀 뜸하게 먹던 영양제도 다시 먹고, 비타민도 더 챙겨 먹고 하는데... 떨어진 컨디션이 다시 회복되는 것 같지 않다. \\n\\n이 상태에서 빨리 벗어나고 싶은데... 어떻게 해야 할지 정말 모르겠다. '"
      ]
     },
     "execution_count": 31,
     "metadata": {},
     "output_type": "execute_result"
    }
   ],
   "source": [
    "df = pd.DataFrame({'제목' : title_list, '내용' : contents_list})\n",
    "df['내용'][0]"
   ]
  },
  {
   "cell_type": "code",
   "execution_count": 32,
   "metadata": {},
   "outputs": [
    {
     "data": {
      "text/plain": [
       "'하루 종일 무슨 생각을 할 수가 없다. 이유를 알 수 없는 두통이 어젯밤부터 지속되고 있다. 두통약을 먹어도 좋아지지가 않는다. 머리가 아프니, 뭘 해도 하는 것 같지가 않다. 일을 하고 있는데, 내가 제대로 하고 있는 게 맞는지를 모르겠다.  왜 이렇게 두통이 심할까? 어제 급하게 먹은 점심이 체한 것 같아 소화제도 먹어봤고, 피곤해서 오는 두통인가 싶어, 두통약도 먹어봤지만, 좋아지지 않는다. 동생은 냉방병일 수도 있다고 했다. 생각해 보니, 요즘 직장에서도 집에서도 에어컨을 많이 키는 것 같기는 하다. 정말 냉방병이면 어떻게 치료를 해야 하나... 요즘 왜 이렇게 컨디션이 좋아지지가 않는 걸까? 조금 좋아지는가 싶다가, 또 안 좋아지고, 또 안 좋아지고... 여름을 타는 건가?  차라리 특별히 어딘가 딱 아프면, 병원에 가서 치료를 받거나 할 텐데, 딱히 어디가 막 아픈 건 아닌데, 묘하게 기분 나쁘게 여기저기가 좋지 않다. 이런 건 뭐... 컨디션이 좋지 않다라고밖에 설명을 할 수가 없다. 그런데 컨디션이 좋지 않은 건 어떻게 치료를 해야 하는 걸까? 요즘 좀 뜸하게 먹던 영양제도 다시 먹고, 비타민도 더 챙겨 먹고 하는데... 떨어진 컨디션이 다시 회복되는 것 같지 않다.  이 상태에서 빨리 벗어나고 싶은데... 어떻게 해야 할지 정말 모르겠다. '"
      ]
     },
     "execution_count": 32,
     "metadata": {},
     "output_type": "execute_result"
    }
   ],
   "source": [
    "test_content = df['내용'][0].replace('\\n', ' ')\n",
    "test_content.replace('  ', ' ')"
   ]
  },
  {
   "cell_type": "code",
   "execution_count": 33,
   "metadata": {},
   "outputs": [],
   "source": [
    "path = 'C:/Workspace/python/빅데이터 지능형서비스 개발 팀프로젝트/Final Project/Data/KoGPT2_Data/Crawling Data/'\n",
    "df.to_csv(path + 'Crawling(brunch_일기_3001~6000).csv', index = False)\n",
    "df['내용'].to_csv(path + 'Crawling(brunch_일기_3001~6000).txt', index = False)"
   ]
  },
  {
   "cell_type": "code",
   "execution_count": 34,
   "metadata": {},
   "outputs": [
    {
     "data": {
      "text/plain": [
       "'하루 종일 무슨 생각을 할 수가 없다. 이유를 알 수 없는 두통이 어젯밤부터 지속되고 있다. 두통약을 먹어도 좋아지지가 않는다. 머리가 아프니, 뭘 해도 하는 것 같지가 않다. 일을 하고 있는데, 내가 제대로 하고 있는 게 맞는지를 모르겠다. \\n\\n왜 이렇게 두통이 심할까? 어제 급하게 먹은 점심이 체한 것 같아 소화제도 먹어봤고, 피곤해서 오는 두통인가 싶어, 두통약도 먹어봤지만, 좋아지지 않는다. 동생은 냉방병일 수도 있다고 했다. 생각해 보니, 요즘 직장에서도 집에서도 에어컨을 많이 키는 것 같기는 하다. 정말 냉방병이면 어떻게 치료를 해야 하나...\\n\\n요즘 왜 이렇게 컨디션이 좋아지지가 않는 걸까? 조금 좋아지는가 싶다가, 또 안 좋아지고, 또 안 좋아지고... 여름을 타는 건가? \\n\\n차라리 특별히 어딘가 딱 아프면, 병원에 가서 치료를 받거나 할 텐데, 딱히 어디가 막 아픈 건 아닌데, 묘하게 기분 나쁘게 여기저기가 좋지 않다. 이런 건 뭐... 컨디션이 좋지 않다라고밖에 설명을 할 수가 없다. 그런데 컨디션이 좋지 않은 건 어떻게 치료를 해야 하는 걸까?\\n\\n요즘 좀 뜸하게 먹던 영양제도 다시 먹고, 비타민도 더 챙겨 먹고 하는데... 떨어진 컨디션이 다시 회복되는 것 같지 않다. \\n\\n이 상태에서 빨리 벗어나고 싶은데... 어떻게 해야 할지 정말 모르겠다. '"
      ]
     },
     "execution_count": 34,
     "metadata": {},
     "output_type": "execute_result"
    }
   ],
   "source": [
    "df2 = pd.read_csv(path + 'Crawling(brunch_일기_3001~6000).csv')\n",
    "df2['내용'][0]"
   ]
  },
  {
   "cell_type": "code",
   "execution_count": 74,
   "metadata": {},
   "outputs": [
    {
     "data": {
      "application/vnd.jupyter.widget-view+json": {
       "model_id": "022f3099fac440fd957bd86f02e03ef7",
       "version_major": 2,
       "version_minor": 0
      },
      "text/plain": [
       "  0%|          | 0/1314 [00:00<?, ?it/s]"
      ]
     },
     "metadata": {},
     "output_type": "display_data"
    },
    {
     "name": "stderr",
     "output_type": "stream",
     "text": [
      "<ipython-input-74-06f474bba2e7>:6: DeprecationWarning: find_element_by_* commands are deprecated. Please use find_element() instead\n",
      "  driver.find_element_by_xpath(f'//*[@id=\"wrapArticle\"]/div[1]/ul/li[{i}]').click()\n",
      "<ipython-input-74-06f474bba2e7>:9: DeprecationWarning: find_element_by_* commands are deprecated. Please use find_element() instead\n",
      "  raw_contents = driver.find_element_by_xpath('/html/body/div[3]/div[1]/div[2]/div[1]').text\n",
      "<ipython-input-74-06f474bba2e7>:10: DeprecationWarning: find_element_by_* commands are deprecated. Please use find_element() instead\n",
      "  raw_title = driver.find_element_by_xpath('/html/body/div[3]/div[1]/div[1]/div/div[3]/h1').text\n"
     ]
    }
   ],
   "source": [
    "import re\n",
    "# title_list, contents_list = [], []\n",
    "for i in tqdm(range(7687, 9001)):\n",
    "    driver.switch_to.window(driver.window_handles[0])\n",
    "    time.sleep(1)\n",
    "    driver.find_element_by_xpath(f'//*[@id=\"wrapArticle\"]/div[1]/ul/li[{i}]').click()\n",
    "    driver.switch_to.window(driver.window_handles[1])\n",
    "    time.sleep(3)\n",
    "    raw_contents = driver.find_element_by_xpath('/html/body/div[3]/div[1]/div[2]/div[1]').text\n",
    "    raw_title = driver.find_element_by_xpath('/html/body/div[3]/div[1]/div[1]/div/div[3]/h1').text\n",
    "    # contents = re.sub('[\\n]', '', raw_contents)\n",
    "    # title = re.sub('[\\n]', '', raw_title)\n",
    "    title_list.append(raw_title)\n",
    "    contents_list.append(raw_contents)\n",
    "    time.sleep(3)\n",
    "    driver.close()\n",
    "    time.sleep(1)"
   ]
  },
  {
   "cell_type": "code",
   "execution_count": 75,
   "metadata": {},
   "outputs": [
    {
     "data": {
      "text/plain": [
       "(2999, 2999)"
      ]
     },
     "execution_count": 75,
     "metadata": {},
     "output_type": "execute_result"
    }
   ],
   "source": [
    "len(contents_list), len(title_list)"
   ]
  },
  {
   "cell_type": "code",
   "execution_count": 85,
   "metadata": {},
   "outputs": [
    {
     "data": {
      "text/plain": [
       "'\\'감사합니다\\'라고 외치면 행운이 온다고?\\n\\n\\n감사한 마음을 가져라\\n\\n하루에 \\'감사합니다\\'라는 말을 수백 번 반복해라\\n\\n감사일기를 써라 \\n\\n자기 계발서를 읽다 보면 \\'감사\\'의 중요성을 늘 빼놓지 않는다. 우리의 하루를 \\'감사\\'로 도배했을 때 우리의 인생은 훨씬 더 좋은 방향으로 나아갈 수 있음을, 안 풀리던 일 들도 잘 풀리게 될 수 있음을 알려준다. 돈이 드는 것도 아니고 힘이 드는 것도 아니니까 속는 셈 치고 오늘부터 별것 아닌 일에도 \\'감사합니다\\'를 외치기로 한다. 또 \\'감사일기\\'까지 쓰기로 한다. 나 역시도 속는 셈 치고 감사일기를 썼던 때가 있었다. 아침에 일어날 수 있음에 감사하고, 믹스커피 한 잔 먹을 수 있음에 감사하고, 오늘 읽을 수 있는 책들이 있음에 감사함 들을 기록했다. 정말 사소한 부분 하나에서라도 감사함을 찾아 기록하고 온전히 감사하려고 노력했다. 하루를 감사로 시작하니까 확실히 다르긴 달랐다. 뭐든지 잘 풀릴 것만 같고 내 마음이 정화되는 기분이랄까. \\n\\n\\n\\n얼마나 더 감사해야 하는지 \\n\\n\\n책에서 시키는 대로 감사일기를 썼다. 하루를 조금 더 산뜻하게 시작할 수 있는 것 말고는 크게 달라지는 것은 없었다. 여전히 생각은 많고 안 풀리는 문제는 늘 존재했다. 수많은 책들이 감사의 중요성을 말하지만 얼마나 감사를 외쳐야 하는지는 알려주지 않았다. 물론 감사한 마음을 가지는 데에 기한이 어디 있겠느냐 마는. 책에서 알려준 것만큼 그렇게 일이 잘 풀리지 않음에 조급함이 밀려왔다. \\n\\n우리는 내 삶을 감사로 바꾸기 전에 어떤 마인드로 살아왔는지 생각해 봐야 한다. \\n\\n\"망했어\"\\n\\n\"짜증 나\"\\n\\n\"난 역시 되는 일이 하나도 없어\"\\n\\n이런 말들을 수없이 많이 해왔다. 특히나 시험이 끝난 후에 본인이 시험을 잘 봤음에도 혹시나 모를 상황에 대비한 것인지, 겸손하려고 한 것인지, 정말 불안해서 그런 것인지 \"망했어\"라는 말을 많이 하지는 않았는지 생각해볼 필요가 있다. 오랜만에 산 로또가 당첨이 되지 않으면 \"난 역시 되는 일이 하나도 없어\" 라며 자책하지는 않았는지.\\n\\n마이너스적인 말로 도배를 해왔던 내 인생을 아침시간 잠깐 5분의 감사로 드라마틱하게 바뀔 거라 기대한 조급한 마음. 감사라는 말이 가져다주는 행운이 오려면 \\'시간차\\'가 필요했음을 알려주는 책을 찾지 못했었다. \\n\\n\\n살면서 지금까지 부정적인 말을 내뱉었던 순간이 5만 번 정도 될까? \\n\\n\\n\"행복해지고 싶다.\" 고 바로 주문을 했으니까 즉시 행운을 가져다줄 것이라는 너무나도 순수한 믿음이었다.\\n\\n이 책에서는 이렇게 설명하고 있다. 불행한 언어습관(돈가스 덮밥), 감사의 언어습관(짜장면). 돈가스 덮밥이 먹고 싶어 10그릇을 주문했다. 그런데 먹다 보니까 슬슬 짜장면이 생각난다. 하지만 10그릇의 돈가스 덮밥을 다 비워내야만 한다. 그동안 쌓이고 쌓였던 말들이 없어지기 전까지는 짜장면 1그릇을 먹을 수 없다. 새로운 말버릇을 갖추고 잠재의식이 새로운 전제를 받아들이려면 시간이 필요한 것이다. 여기에는 시간차나 수정 현상이 발생한다. 지금까지의 주문이 눈앞에 나타나면서 상황이 바뀌고 이전의 주문과 새로운 주문 사이에 놓이는 시기가 찾아오는 것이다. 많은 사람들이 그 사이에 좌절을 한다. 바꾸어 말하면, 그것이 승부처라는 뜻이다. \\n\\n이 시간차에 무릎을 꿇고 \"그래. 짜장면은 나오지 않을 거야. 됐어. 이제 필요 없어.\"라는 식으로 말하면 어떻게 될까? 간신히 짜장면이라는 주문이 통하게 되었는데 돈가스 덮밥으로 다시 바뀌어버린다. 그리고 \"역시 내게는 돈가스 덮밥밖에 나오지 않아.\"라고 하면서 다시 돈가스 덮밥을 주문하게 되니까 아무리 많은 시간이 흘러도 눈앞에 나오는 건 돈가스 덮밥뿐이다. \\n\\n하지만 여기에서 감사의 힘을 믿고 \"돈가스 덮밥을 모두 먹고 나면 짜장면이 나올 거야.\"라고 믿을 수 있으면 돈가스 덮밥 이후에는 반드시 짜장면이 나온다. 말버릇을 긍정적으로 바꾸고 마음의 전제를 바꾸면 돈가스 덮밥과 동시에 짜장면이 나오게 되고 얼마 지나지 않아 짜장면만 나오게 되는 것이다. \\n\\n우리가 무언가를 바란다면 시간차는 반드시 필요하다. 그 시간차가 발생하는 동안 우리의 노력도 필요할 것이고 바라는 마음을 가졌으니 그 결과 쪽으로 다가가고 있다는 믿음도 필요하다. \\n\\n\\n\\n감사의 마인드로 잘 될 수밖에 없는 명확한 이유 \\n\\n\\n매일 \\'감사합니다\\'라는 말을 중얼거리는 사람이, 우리 주변이 얼마나 있을까? \\n\\n\\n거의 없다.\\n\\n그렇기 때문에 감사의 마인드로 살아간다면 내가 원하는 방향으로 인생을 바꿀 수 있지 않을까. '"
      ]
     },
     "execution_count": 85,
     "metadata": {},
     "output_type": "execute_result"
    }
   ],
   "source": [
    "df = pd.DataFrame({'제목' : title_list, '내용' : contents_list})\n",
    "df['내용'][2]"
   ]
  },
  {
   "cell_type": "code",
   "execution_count": 86,
   "metadata": {},
   "outputs": [
    {
     "data": {
      "text/plain": [
       "'\\'감사합니다\\'라고 외치면 행운이 온다고?  감사한 마음을 가져라 하루에 \\'감사합니다\\'라는 말을 수백 번 반복해라 감사일기를 써라  자기 계발서를 읽다 보면 \\'감사\\'의 중요성을 늘 빼놓지 않는다. 우리의 하루를 \\'감사\\'로 도배했을 때 우리의 인생은 훨씬 더 좋은 방향으로 나아갈 수 있음을, 안 풀리던 일 들도 잘 풀리게 될 수 있음을 알려준다. 돈이 드는 것도 아니고 힘이 드는 것도 아니니까 속는 셈 치고 오늘부터 별것 아닌 일에도 \\'감사합니다\\'를 외치기로 한다. 또 \\'감사일기\\'까지 쓰기로 한다. 나 역시도 속는 셈 치고 감사일기를 썼던 때가 있었다. 아침에 일어날 수 있음에 감사하고, 믹스커피 한 잔 먹을 수 있음에 감사하고, 오늘 읽을 수 있는 책들이 있음에 감사함 들을 기록했다. 정말 사소한 부분 하나에서라도 감사함을 찾아 기록하고 온전히 감사하려고 노력했다. 하루를 감사로 시작하니까 확실히 다르긴 달랐다. 뭐든지 잘 풀릴 것만 같고 내 마음이 정화되는 기분이랄까.   얼마나 더 감사해야 하는지  책에서 시키는 대로 감사일기를 썼다. 하루를 조금 더 산뜻하게 시작할 수 있는 것 말고는 크게 달라지는 것은 없었다. 여전히 생각은 많고 안 풀리는 문제는 늘 존재했다. 수많은 책들이 감사의 중요성을 말하지만 얼마나 감사를 외쳐야 하는지는 알려주지 않았다. 물론 감사한 마음을 가지는 데에 기한이 어디 있겠느냐 마는. 책에서 알려준 것만큼 그렇게 일이 잘 풀리지 않음에 조급함이 밀려왔다.  우리는 내 삶을 감사로 바꾸기 전에 어떤 마인드로 살아왔는지 생각해 봐야 한다.  \"망했어\" \"짜증 나\" \"난 역시 되는 일이 하나도 없어\" 이런 말들을 수없이 많이 해왔다. 특히나 시험이 끝난 후에 본인이 시험을 잘 봤음에도 혹시나 모를 상황에 대비한 것인지, 겸손하려고 한 것인지, 정말 불안해서 그런 것인지 \"망했어\"라는 말을 많이 하지는 않았는지 생각해볼 필요가 있다. 오랜만에 산 로또가 당첨이 되지 않으면 \"난 역시 되는 일이 하나도 없어\" 라며 자책하지는 않았는지. 마이너스적인 말로 도배를 해왔던 내 인생을 아침시간 잠깐 5분의 감사로 드라마틱하게 바뀔 거라 기대한 조급한 마음. 감사라는 말이 가져다주는 행운이 오려면 \\'시간차\\'가 필요했음을 알려주는 책을 찾지 못했었다.  살면서 지금까지 부정적인 말을 내뱉었던 순간이 5만 번 정도 될까?  \"행복해지고 싶다.\" 고 바로 주문을 했으니까 즉시 행운을 가져다줄 것이라는 너무나도 순수한 믿음이었다. 이 책에서는 이렇게 설명하고 있다. 불행한 언어습관(돈가스 덮밥), 감사의 언어습관(짜장면). 돈가스 덮밥이 먹고 싶어 10그릇을 주문했다. 그런데 먹다 보니까 슬슬 짜장면이 생각난다. 하지만 10그릇의 돈가스 덮밥을 다 비워내야만 한다. 그동안 쌓이고 쌓였던 말들이 없어지기 전까지는 짜장면 1그릇을 먹을 수 없다. 새로운 말버릇을 갖추고 잠재의식이 새로운 전제를 받아들이려면 시간이 필요한 것이다. 여기에는 시간차나 수정 현상이 발생한다. 지금까지의 주문이 눈앞에 나타나면서 상황이 바뀌고 이전의 주문과 새로운 주문 사이에 놓이는 시기가 찾아오는 것이다. 많은 사람들이 그 사이에 좌절을 한다. 바꾸어 말하면, 그것이 승부처라는 뜻이다.  이 시간차에 무릎을 꿇고 \"그래. 짜장면은 나오지 않을 거야. 됐어. 이제 필요 없어.\"라는 식으로 말하면 어떻게 될까? 간신히 짜장면이라는 주문이 통하게 되었는데 돈가스 덮밥으로 다시 바뀌어버린다. 그리고 \"역시 내게는 돈가스 덮밥밖에 나오지 않아.\"라고 하면서 다시 돈가스 덮밥을 주문하게 되니까 아무리 많은 시간이 흘러도 눈앞에 나오는 건 돈가스 덮밥뿐이다.  하지만 여기에서 감사의 힘을 믿고 \"돈가스 덮밥을 모두 먹고 나면 짜장면이 나올 거야.\"라고 믿을 수 있으면 돈가스 덮밥 이후에는 반드시 짜장면이 나온다. 말버릇을 긍정적으로 바꾸고 마음의 전제를 바꾸면 돈가스 덮밥과 동시에 짜장면이 나오게 되고 얼마 지나지 않아 짜장면만 나오게 되는 것이다.  우리가 무언가를 바란다면 시간차는 반드시 필요하다. 그 시간차가 발생하는 동안 우리의 노력도 필요할 것이고 바라는 마음을 가졌으니 그 결과 쪽으로 다가가고 있다는 믿음도 필요하다.   감사의 마인드로 잘 될 수밖에 없는 명확한 이유  매일 \\'감사합니다\\'라는 말을 중얼거리는 사람이, 우리 주변이 얼마나 있을까?  거의 없다. 그렇기 때문에 감사의 마인드로 살아간다면 내가 원하는 방향으로 인생을 바꿀 수 있지 않을까. '"
      ]
     },
     "execution_count": 86,
     "metadata": {},
     "output_type": "execute_result"
    }
   ],
   "source": [
    "test_content = df['내용'][2].replace('\\n', ' ')\n",
    "test_content.replace('  ', ' ')"
   ]
  },
  {
   "cell_type": "code",
   "execution_count": 87,
   "metadata": {},
   "outputs": [],
   "source": [
    "path = 'C:/Workspace/python/빅데이터 지능형서비스 개발 팀프로젝트/Final Project/Data/KoGPT2_Data/Crawling Data/'\n",
    "df.to_csv(path + 'Crawling(brunch_일기_6001~9000).csv', index = False)\n",
    "df['내용'].to_csv(path + 'Crawling(brunch_일기_6001~9000).txt', index = False)"
   ]
  },
  {
   "cell_type": "code",
   "execution_count": 88,
   "metadata": {},
   "outputs": [
    {
     "data": {
      "text/plain": [
       "'https://youtu.be/BzCLzWz3g98\\n제품 보기 https://brandnu.mynuskin.co.kr/\\n후원자코드 KR00415386 이자경\\nNUSKIN Platform Business : bsltaacrk@naver.com\\n뉴스킨 플랫폼 비즈니스 문의 : bsltaacrk@naver.com\\n01048851989'"
      ]
     },
     "execution_count": 88,
     "metadata": {},
     "output_type": "execute_result"
    }
   ],
   "source": [
    "df3 = pd.read_csv(path + 'Crawling(brunch_일기_6001~9000).csv')\n",
    "df3['내용'][1]"
   ]
  },
  {
   "cell_type": "code",
   "execution_count": 89,
   "metadata": {},
   "outputs": [
    {
     "data": {
      "application/vnd.jupyter.widget-view+json": {
       "model_id": "b135875d05b24892b96495e60aafb873",
       "version_major": 2,
       "version_minor": 0
      },
      "text/plain": [
       "  0%|          | 0/2119 [00:00<?, ?it/s]"
      ]
     },
     "metadata": {},
     "output_type": "display_data"
    },
    {
     "name": "stderr",
     "output_type": "stream",
     "text": [
      "<ipython-input-89-4667455e1bb9>:6: DeprecationWarning: find_element_by_* commands are deprecated. Please use find_element() instead\n",
      "  driver.find_element_by_xpath(f'//*[@id=\"wrapArticle\"]/div[1]/ul/li[{i}]').click()\n",
      "<ipython-input-89-4667455e1bb9>:9: DeprecationWarning: find_element_by_* commands are deprecated. Please use find_element() instead\n",
      "  raw_contents = driver.find_element_by_xpath('/html/body/div[3]/div[1]/div[2]/div[1]').text\n",
      "<ipython-input-89-4667455e1bb9>:10: DeprecationWarning: find_element_by_* commands are deprecated. Please use find_element() instead\n",
      "  raw_title = driver.find_element_by_xpath('/html/body/div[3]/div[1]/div[1]/div/div[3]/h1').text\n"
     ]
    }
   ],
   "source": [
    "import re\n",
    "title_list, contents_list = [], []\n",
    "for i in tqdm(range(9001, 11120)):\n",
    "    driver.switch_to.window(driver.window_handles[0])\n",
    "    time.sleep(1)\n",
    "    driver.find_element_by_xpath(f'//*[@id=\"wrapArticle\"]/div[1]/ul/li[{i}]').click()\n",
    "    driver.switch_to.window(driver.window_handles[1])\n",
    "    time.sleep(3)\n",
    "    raw_contents = driver.find_element_by_xpath('/html/body/div[3]/div[1]/div[2]/div[1]').text\n",
    "    raw_title = driver.find_element_by_xpath('/html/body/div[3]/div[1]/div[1]/div/div[3]/h1').text\n",
    "    # contents = re.sub('[\\n]', '', raw_contents)\n",
    "    # title = re.sub('[\\n]', '', raw_title)\n",
    "    title_list.append(raw_title)\n",
    "    contents_list.append(raw_contents)\n",
    "    time.sleep(3)\n",
    "    driver.close()\n",
    "    time.sleep(1)"
   ]
  },
  {
   "cell_type": "code",
   "execution_count": 90,
   "metadata": {},
   "outputs": [
    {
     "data": {
      "text/plain": [
       "(2119, 2119)"
      ]
     },
     "execution_count": 90,
     "metadata": {},
     "output_type": "execute_result"
    }
   ],
   "source": [
    "len(contents_list), len(title_list)"
   ]
  },
  {
   "cell_type": "code",
   "execution_count": 91,
   "metadata": {},
   "outputs": [
    {
     "data": {
      "text/plain": [
       "\" 스무한 번째 날, 하루를 관통하는 키워드는 '간절함'.\\n\\n 새로운 친구들이 오기 전에 냉장고를 다 비워야겠다. 조카님 간식으로 가져온 치즈나 두부, 이유식, 된장국 등등이 냉장고에 남아 있었다. 거기에 어제 밑반찬을 만들고 남은 소시지도 있고, 게란도 많이 남았다. 1인 1 주문을 지키려고 명월국민학교에서 샀던 사과주스도 있고, 슬슬 생기를 잃어 가는 대추 방울토마토와 포도도 있다. 김치도 조금 남아 있네. 아침과 점심에 나눠 하나하나 처리해야겠다.\\n 일단 아침에는 남아있던 유기농 치즈와 비엔나소시지, 포도, 사과주스를 이용해 아침을 차렸다. 커피를 안 내리긴 처음인 것 같네. 점심에 뽀로로 연두부와 방울토마토 계란 볶음까지 먹고 나니 냉장고가 다시 가벼워지면서 마음이 조금 더 편해졌다.\\n  \\n \\n 오랜만에 게임에 푹 빠졌다. 마침 또 제주도에 혼자 쉬고 있다 보니 무인도에 놀러 가는 캐릭터와 하나가 된 것 마냥 감정 이입해서 최선을 다하고 있다. 폴딩도어랑 창문 다 열고, 노래 틀어 놓고 거실에 누워 게임을 하면 무릉도원이 따로 없다. 주민들을 사냥(?)하는 것도 아니고, 레벨이 오르는 것도 아닌데 왜 하는 거냐고 했었는데, 이제는 그래서 더 하고 싶어 진다. 사람 마음이라는 게 이렇다. 특별히 뭐 하는 것도 없는데 마냥 좋다. 시간이 진짜 살살 녹는다.\\n\\n 오늘부터 2박 동안 머물 친구들이 공항에서 출발한다고 연락이 왔다. 한 명은 대학생 때부터 알고 지내온 동생이고, 다른 한 명은 작년에 부산국제영화제 기간에 만난 친구였다. 그때 점심 같이 먹고 커피 한 잔 하고 나서 서울에서 한 번 밥 먹자며 헤어졌는데, 서울이 아니라 제주에서 밥을 먹게 됐다. 그래도 이렇게 기회가 돼서 또 만난다고 하니 반갑고 고맙다. 오기 쉬운 길은 아니었을 텐데. 아무튼 친구들은 제주에 도착해 여행을 하고 저녁 시간에 맞춰서 온다고 했으니 시간을 맞춰 준비하기 위해 스위치를 내려놓고 오름으로 향했다.\\n 오름에 다녀온 후, 햇빛에 말려둔 침구류를 거두고 필로우 미스트도 뿌려 뒀다. 하이볼 재료들을 사 오신다는 말에 얼음들도 미리 좀 준비했다. 그리고 또다시 동물의 숲 좀 하고 있다 보니 어도초등학교에 도착했다고 연락이 왔다. 마중을 나가 주차안내(?)를 하고 에스코트해서 집으로 모셔왔다. 다행히 집에 꽤 맘에 드신 듯하다.\\n\\n 저녁에 같이 먹기로 한 숙성고등어회가 '배달'이 된다다. 제주집에서 처음으로 '배달음식'을 먹는 날이다. 아니, 이게 배달이 된다고...? 가게 주인아저씨가 이 동네 사시는 건가..? 아무튼, 친구들이 배고픔에 지쳐 조금씩 날카로워질 때쯤(ㅋㅋㅋ) 고등어회가 도착했다. 딱새우 대신에 고등어회를 더 주셨다는데, 배 터지게 먹었다. 깻잎에 김 깔고, 알밥 올리고, 고등어회 얹고, 양파절임 얹고, 잘 싸서 먹으면 진짜 술술 들어간다. 고등어회만 따로 먹어도 생고등어회보다 덜 비리고 먹을만하다. 셋 다 술을 달리는 편이 아니라 얼마나 다행인지, 이거 술이랑 먹으면 진짜 술을 물 먹듯 마실 수 있을 것만 같다.\\n\\n 어쩌다 보니, 저녁 내내 나누었던 대화는 다 잊히고, '간절함'이라는 단어 하나만 남았다. 대화 주제는 꽤 다양했던 것 같은데, 남은 건 '간절함' 뿐이다. '간절함'이라는 개념 자체를 잃어버린 채 살아온 지 꽤 된 것 같다. 흔히들 말하는 번아웃이겠지. 거기에 미래가 점점 더 나아질 것 같다는 막연한 희망마저도 어릴 때나 부리는 객기 같은 거라는 생각이 끼어든 순간부터였던 것 같다. 그때부터, 간절히 무언가를 원하고, 바라고, 성취하고자 했던 적이 없는 것 같다. 그랬다, 사실 제주로 한 달 도망치듯 온 것도 이 때문이었다. 이게 문제라는 걸 알기에 조금이라도 더 간절한 것들을 고민하고 찾아보기 위해. 대화의 끝자락쯤, 이러한 생각에 다다랐을 때부터, 한참을 멍하니 그 말을 곱씹었던 것 같다. 지금도 계속 그런 상태고. 그래도, 그게 뭔지 모르겠지만 간절하게 이루고 싶은 무언가 하나하나 찾아서 이루고 싶다는 생각이 드는 걸 보면, 아직 늦지는 않았나 보다. 옛날부터 잘 해왔던 것처럼, 자그마한 것들부터라도 하나하나, 해나가면서 조금씩 더 간절히 바라는 것을 이루기 위해 간절히 진심을 담아 노력해볼 때가 오고 있는 것 같다.\""
      ]
     },
     "execution_count": 91,
     "metadata": {},
     "output_type": "execute_result"
    }
   ],
   "source": [
    "df = pd.DataFrame({'제목' : title_list, '내용' : contents_list})\n",
    "df['내용'][0]"
   ]
  },
  {
   "cell_type": "code",
   "execution_count": 92,
   "metadata": {},
   "outputs": [
    {
     "data": {
      "text/plain": [
       "\" 스무한 번째 날, 하루를 관통하는 키워드는 '간절함'.  새로운 친구들이 오기 전에 냉장고를 다 비워야겠다. 조카님 간식으로 가져온 치즈나 두부, 이유식, 된장국 등등이 냉장고에 남아 있었다. 거기에 어제 밑반찬을 만들고 남은 소시지도 있고, 게란도 많이 남았다. 1인 1 주문을 지키려고 명월국민학교에서 샀던 사과주스도 있고, 슬슬 생기를 잃어 가는 대추 방울토마토와 포도도 있다. 김치도 조금 남아 있네. 아침과 점심에 나눠 하나하나 처리해야겠다. 일단 아침에는 남아있던 유기농 치즈와 비엔나소시지, 포도, 사과주스를 이용해 아침을 차렸다. 커피를 안 내리긴 처음인 것 같네. 점심에 뽀로로 연두부와 방울토마토 계란 볶음까지 먹고 나니 냉장고가 다시 가벼워지면서 마음이 조금 더 편해졌다.    오랜만에 게임에 푹 빠졌다. 마침 또 제주도에 혼자 쉬고 있다 보니 무인도에 놀러 가는 캐릭터와 하나가 된 것 마냥 감정 이입해서 최선을 다하고 있다. 폴딩도어랑 창문 다 열고, 노래 틀어 놓고 거실에 누워 게임을 하면 무릉도원이 따로 없다. 주민들을 사냥(?)하는 것도 아니고, 레벨이 오르는 것도 아닌데 왜 하는 거냐고 했었는데, 이제는 그래서 더 하고 싶어 진다. 사람 마음이라는 게 이렇다. 특별히 뭐 하는 것도 없는데 마냥 좋다. 시간이 진짜 살살 녹는다.  오늘부터 2박 동안 머물 친구들이 공항에서 출발한다고 연락이 왔다. 한 명은 대학생 때부터 알고 지내온 동생이고, 다른 한 명은 작년에 부산국제영화제 기간에 만난 친구였다. 그때 점심 같이 먹고 커피 한 잔 하고 나서 서울에서 한 번 밥 먹자며 헤어졌는데, 서울이 아니라 제주에서 밥을 먹게 됐다. 그래도 이렇게 기회가 돼서 또 만난다고 하니 반갑고 고맙다. 오기 쉬운 길은 아니었을 텐데. 아무튼 친구들은 제주에 도착해 여행을 하고 저녁 시간에 맞춰서 온다고 했으니 시간을 맞춰 준비하기 위해 스위치를 내려놓고 오름으로 향했다. 오름에 다녀온 후, 햇빛에 말려둔 침구류를 거두고 필로우 미스트도 뿌려 뒀다. 하이볼 재료들을 사 오신다는 말에 얼음들도 미리 좀 준비했다. 그리고 또다시 동물의 숲 좀 하고 있다 보니 어도초등학교에 도착했다고 연락이 왔다. 마중을 나가 주차안내(?)를 하고 에스코트해서 집으로 모셔왔다. 다행히 집에 꽤 맘에 드신 듯하다.  저녁에 같이 먹기로 한 숙성고등어회가 '배달'이 된다다. 제주집에서 처음으로 '배달음식'을 먹는 날이다. 아니, 이게 배달이 된다고...? 가게 주인아저씨가 이 동네 사시는 건가..? 아무튼, 친구들이 배고픔에 지쳐 조금씩 날카로워질 때쯤(ㅋㅋㅋ) 고등어회가 도착했다. 딱새우 대신에 고등어회를 더 주셨다는데, 배 터지게 먹었다. 깻잎에 김 깔고, 알밥 올리고, 고등어회 얹고, 양파절임 얹고, 잘 싸서 먹으면 진짜 술술 들어간다. 고등어회만 따로 먹어도 생고등어회보다 덜 비리고 먹을만하다. 셋 다 술을 달리는 편이 아니라 얼마나 다행인지, 이거 술이랑 먹으면 진짜 술을 물 먹듯 마실 수 있을 것만 같다.  어쩌다 보니, 저녁 내내 나누었던 대화는 다 잊히고, '간절함'이라는 단어 하나만 남았다. 대화 주제는 꽤 다양했던 것 같은데, 남은 건 '간절함' 뿐이다. '간절함'이라는 개념 자체를 잃어버린 채 살아온 지 꽤 된 것 같다. 흔히들 말하는 번아웃이겠지. 거기에 미래가 점점 더 나아질 것 같다는 막연한 희망마저도 어릴 때나 부리는 객기 같은 거라는 생각이 끼어든 순간부터였던 것 같다. 그때부터, 간절히 무언가를 원하고, 바라고, 성취하고자 했던 적이 없는 것 같다. 그랬다, 사실 제주로 한 달 도망치듯 온 것도 이 때문이었다. 이게 문제라는 걸 알기에 조금이라도 더 간절한 것들을 고민하고 찾아보기 위해. 대화의 끝자락쯤, 이러한 생각에 다다랐을 때부터, 한참을 멍하니 그 말을 곱씹었던 것 같다. 지금도 계속 그런 상태고. 그래도, 그게 뭔지 모르겠지만 간절하게 이루고 싶은 무언가 하나하나 찾아서 이루고 싶다는 생각이 드는 걸 보면, 아직 늦지는 않았나 보다. 옛날부터 잘 해왔던 것처럼, 자그마한 것들부터라도 하나하나, 해나가면서 조금씩 더 간절히 바라는 것을 이루기 위해 간절히 진심을 담아 노력해볼 때가 오고 있는 것 같다.\""
      ]
     },
     "execution_count": 92,
     "metadata": {},
     "output_type": "execute_result"
    }
   ],
   "source": [
    "test_content = df['내용'][0].replace('\\n', ' ')\n",
    "test_content.replace('  ', ' ')"
   ]
  },
  {
   "cell_type": "code",
   "execution_count": 93,
   "metadata": {},
   "outputs": [],
   "source": [
    "path = 'C:/Workspace/python/빅데이터 지능형서비스 개발 팀프로젝트/Final Project/Data/KoGPT2_Data/Crawling Data/'\n",
    "df.to_csv(path + 'Crawling(brunch_일기_9001~11120).csv', index = False)\n",
    "df['내용'].to_csv(path + 'Crawling(brunch_일기_9001~11120).txt', index = False)"
   ]
  },
  {
   "cell_type": "code",
   "execution_count": 94,
   "metadata": {},
   "outputs": [
    {
     "data": {
      "text/plain": [
       "\" 스무한 번째 날, 하루를 관통하는 키워드는 '간절함'.\\n\\n 새로운 친구들이 오기 전에 냉장고를 다 비워야겠다. 조카님 간식으로 가져온 치즈나 두부, 이유식, 된장국 등등이 냉장고에 남아 있었다. 거기에 어제 밑반찬을 만들고 남은 소시지도 있고, 게란도 많이 남았다. 1인 1 주문을 지키려고 명월국민학교에서 샀던 사과주스도 있고, 슬슬 생기를 잃어 가는 대추 방울토마토와 포도도 있다. 김치도 조금 남아 있네. 아침과 점심에 나눠 하나하나 처리해야겠다.\\n 일단 아침에는 남아있던 유기농 치즈와 비엔나소시지, 포도, 사과주스를 이용해 아침을 차렸다. 커피를 안 내리긴 처음인 것 같네. 점심에 뽀로로 연두부와 방울토마토 계란 볶음까지 먹고 나니 냉장고가 다시 가벼워지면서 마음이 조금 더 편해졌다.\\n  \\n \\n 오랜만에 게임에 푹 빠졌다. 마침 또 제주도에 혼자 쉬고 있다 보니 무인도에 놀러 가는 캐릭터와 하나가 된 것 마냥 감정 이입해서 최선을 다하고 있다. 폴딩도어랑 창문 다 열고, 노래 틀어 놓고 거실에 누워 게임을 하면 무릉도원이 따로 없다. 주민들을 사냥(?)하는 것도 아니고, 레벨이 오르는 것도 아닌데 왜 하는 거냐고 했었는데, 이제는 그래서 더 하고 싶어 진다. 사람 마음이라는 게 이렇다. 특별히 뭐 하는 것도 없는데 마냥 좋다. 시간이 진짜 살살 녹는다.\\n\\n 오늘부터 2박 동안 머물 친구들이 공항에서 출발한다고 연락이 왔다. 한 명은 대학생 때부터 알고 지내온 동생이고, 다른 한 명은 작년에 부산국제영화제 기간에 만난 친구였다. 그때 점심 같이 먹고 커피 한 잔 하고 나서 서울에서 한 번 밥 먹자며 헤어졌는데, 서울이 아니라 제주에서 밥을 먹게 됐다. 그래도 이렇게 기회가 돼서 또 만난다고 하니 반갑고 고맙다. 오기 쉬운 길은 아니었을 텐데. 아무튼 친구들은 제주에 도착해 여행을 하고 저녁 시간에 맞춰서 온다고 했으니 시간을 맞춰 준비하기 위해 스위치를 내려놓고 오름으로 향했다.\\n 오름에 다녀온 후, 햇빛에 말려둔 침구류를 거두고 필로우 미스트도 뿌려 뒀다. 하이볼 재료들을 사 오신다는 말에 얼음들도 미리 좀 준비했다. 그리고 또다시 동물의 숲 좀 하고 있다 보니 어도초등학교에 도착했다고 연락이 왔다. 마중을 나가 주차안내(?)를 하고 에스코트해서 집으로 모셔왔다. 다행히 집에 꽤 맘에 드신 듯하다.\\n\\n 저녁에 같이 먹기로 한 숙성고등어회가 '배달'이 된다다. 제주집에서 처음으로 '배달음식'을 먹는 날이다. 아니, 이게 배달이 된다고...? 가게 주인아저씨가 이 동네 사시는 건가..? 아무튼, 친구들이 배고픔에 지쳐 조금씩 날카로워질 때쯤(ㅋㅋㅋ) 고등어회가 도착했다. 딱새우 대신에 고등어회를 더 주셨다는데, 배 터지게 먹었다. 깻잎에 김 깔고, 알밥 올리고, 고등어회 얹고, 양파절임 얹고, 잘 싸서 먹으면 진짜 술술 들어간다. 고등어회만 따로 먹어도 생고등어회보다 덜 비리고 먹을만하다. 셋 다 술을 달리는 편이 아니라 얼마나 다행인지, 이거 술이랑 먹으면 진짜 술을 물 먹듯 마실 수 있을 것만 같다.\\n\\n 어쩌다 보니, 저녁 내내 나누었던 대화는 다 잊히고, '간절함'이라는 단어 하나만 남았다. 대화 주제는 꽤 다양했던 것 같은데, 남은 건 '간절함' 뿐이다. '간절함'이라는 개념 자체를 잃어버린 채 살아온 지 꽤 된 것 같다. 흔히들 말하는 번아웃이겠지. 거기에 미래가 점점 더 나아질 것 같다는 막연한 희망마저도 어릴 때나 부리는 객기 같은 거라는 생각이 끼어든 순간부터였던 것 같다. 그때부터, 간절히 무언가를 원하고, 바라고, 성취하고자 했던 적이 없는 것 같다. 그랬다, 사실 제주로 한 달 도망치듯 온 것도 이 때문이었다. 이게 문제라는 걸 알기에 조금이라도 더 간절한 것들을 고민하고 찾아보기 위해. 대화의 끝자락쯤, 이러한 생각에 다다랐을 때부터, 한참을 멍하니 그 말을 곱씹었던 것 같다. 지금도 계속 그런 상태고. 그래도, 그게 뭔지 모르겠지만 간절하게 이루고 싶은 무언가 하나하나 찾아서 이루고 싶다는 생각이 드는 걸 보면, 아직 늦지는 않았나 보다. 옛날부터 잘 해왔던 것처럼, 자그마한 것들부터라도 하나하나, 해나가면서 조금씩 더 간절히 바라는 것을 이루기 위해 간절히 진심을 담아 노력해볼 때가 오고 있는 것 같다.\""
      ]
     },
     "execution_count": 94,
     "metadata": {},
     "output_type": "execute_result"
    }
   ],
   "source": [
    "df4 = pd.read_csv(path + 'Crawling(brunch_일기_9001~11120).csv')\n",
    "df4['내용'][0]"
   ]
  },
  {
   "cell_type": "code",
   "execution_count": 97,
   "metadata": {},
   "outputs": [
    {
     "data": {
      "text/plain": [
       "(3001, 3000, 2999, 2119)"
      ]
     },
     "execution_count": 97,
     "metadata": {},
     "output_type": "execute_result"
    }
   ],
   "source": [
    "len(df1), len(df2), len(df3), len(df4)"
   ]
  },
  {
   "cell_type": "code",
   "execution_count": 101,
   "metadata": {},
   "outputs": [
    {
     "data": {
      "text/plain": [
       "11119"
      ]
     },
     "execution_count": 101,
     "metadata": {},
     "output_type": "execute_result"
    }
   ],
   "source": [
    "df = pd.concat([df1, df2])\n",
    "df = pd.concat([df, df3])\n",
    "df = pd.concat([df, df4])\n",
    "len(df)"
   ]
  },
  {
   "cell_type": "code",
   "execution_count": 103,
   "metadata": {},
   "outputs": [
    {
     "data": {
      "text/html": [
       "<div>\n",
       "<style scoped>\n",
       "    .dataframe tbody tr th:only-of-type {\n",
       "        vertical-align: middle;\n",
       "    }\n",
       "\n",
       "    .dataframe tbody tr th {\n",
       "        vertical-align: top;\n",
       "    }\n",
       "\n",
       "    .dataframe thead th {\n",
       "        text-align: right;\n",
       "    }\n",
       "</style>\n",
       "<table border=\"1\" class=\"dataframe\">\n",
       "  <thead>\n",
       "    <tr style=\"text-align: right;\">\n",
       "      <th></th>\n",
       "      <th>제목</th>\n",
       "      <th>내용</th>\n",
       "    </tr>\n",
       "  </thead>\n",
       "  <tbody>\n",
       "    <tr>\n",
       "      <th>0</th>\n",
       "      <td>11월 7일</td>\n",
       "      <td>#송희의좋은생각\\n결국 마음에서시작\\n나의태도에서 시작\\n그리고 인생은 장거리다 천...</td>\n",
       "    </tr>\n",
       "    <tr>\n",
       "      <th>1</th>\n",
       "      <td>내 삶에 대한 태도</td>\n",
       "      <td>사람은 무언가를 해야 한다는 인식에 매여 살면 참 힘든 것 같다. 난 최근까지도 의...</td>\n",
       "    </tr>\n",
       "    <tr>\n",
       "      <th>2</th>\n",
       "      <td>감정을 숨기는 사람</td>\n",
       "      <td>살짝 변태같이 느껴질 수도 있겠지만 나는 내가 쓴 글이 나름 재미있게 느껴진다.\\n...</td>\n",
       "    </tr>\n",
       "    <tr>\n",
       "      <th>3</th>\n",
       "      <td>말이 필요 없는 사이</td>\n",
       "      <td>2021.가을. \\n\\n\"색아, 너만 알고 있어\"\\n토요일 밤 열두시에 현이한테 전...</td>\n",
       "    </tr>\n",
       "    <tr>\n",
       "      <th>4</th>\n",
       "      <td>20170530 지하철 일기</td>\n",
       "      <td>20170530 화요일 맑음 - 더위\\n\\n화요일인데 금요일 같다. 오늘은 대체로 ...</td>\n",
       "    </tr>\n",
       "  </tbody>\n",
       "</table>\n",
       "</div>"
      ],
      "text/plain": [
       "                제목                                                 내용\n",
       "0           11월 7일  #송희의좋은생각\\n결국 마음에서시작\\n나의태도에서 시작\\n그리고 인생은 장거리다 천...\n",
       "1       내 삶에 대한 태도  사람은 무언가를 해야 한다는 인식에 매여 살면 참 힘든 것 같다. 난 최근까지도 의...\n",
       "2       감정을 숨기는 사람  살짝 변태같이 느껴질 수도 있겠지만 나는 내가 쓴 글이 나름 재미있게 느껴진다.\\n...\n",
       "3      말이 필요 없는 사이  2021.가을. \\n\\n\"색아, 너만 알고 있어\"\\n토요일 밤 열두시에 현이한테 전...\n",
       "4  20170530 지하철 일기  20170530 화요일 맑음 - 더위\\n\\n화요일인데 금요일 같다. 오늘은 대체로 ..."
      ]
     },
     "execution_count": 103,
     "metadata": {},
     "output_type": "execute_result"
    }
   ],
   "source": [
    "df.head()"
   ]
  },
  {
   "cell_type": "code",
   "execution_count": 111,
   "metadata": {},
   "outputs": [
    {
     "data": {
      "text/plain": [
       "722"
      ]
     },
     "execution_count": 111,
     "metadata": {},
     "output_type": "execute_result"
    }
   ],
   "source": [
    "df['제목'].duplicated().sum()"
   ]
  },
  {
   "cell_type": "code",
   "execution_count": 115,
   "metadata": {},
   "outputs": [
    {
     "data": {
      "text/plain": [
       "(10397, 2)"
      ]
     },
     "execution_count": 115,
     "metadata": {},
     "output_type": "execute_result"
    }
   ],
   "source": [
    "df = df.drop_duplicates(['제목'], keep = 'first')\n",
    "df.shape"
   ]
  },
  {
   "cell_type": "code",
   "execution_count": 119,
   "metadata": {},
   "outputs": [
    {
     "data": {
      "text/plain": [
       "(0, 105)"
      ]
     },
     "execution_count": 119,
     "metadata": {},
     "output_type": "execute_result"
    }
   ],
   "source": [
    "df['제목'].duplicated().sum(), df['내용'].duplicated().sum()"
   ]
  },
  {
   "cell_type": "code",
   "execution_count": 121,
   "metadata": {},
   "outputs": [
    {
     "data": {
      "text/plain": [
       "(10292, 2)"
      ]
     },
     "execution_count": 121,
     "metadata": {},
     "output_type": "execute_result"
    }
   ],
   "source": [
    "df = df.drop_duplicates(['내용'], keep = 'first')\n",
    "df.shape"
   ]
  },
  {
   "cell_type": "code",
   "execution_count": 122,
   "metadata": {},
   "outputs": [
    {
     "data": {
      "text/plain": [
       "(0, 0)"
      ]
     },
     "execution_count": 122,
     "metadata": {},
     "output_type": "execute_result"
    }
   ],
   "source": [
    "df['제목'].duplicated().sum(), df['내용'].duplicated().sum()"
   ]
  },
  {
   "cell_type": "code",
   "execution_count": 127,
   "metadata": {},
   "outputs": [],
   "source": [
    "df.drop(0, inplace = True)"
   ]
  },
  {
   "cell_type": "code",
   "execution_count": 131,
   "metadata": {},
   "outputs": [],
   "source": [
    "df.to_csv(path + 'Crawling(brunch_일기_10291개).csv', index = False)\n",
    "df['내용'].to_csv(path + 'Crawling(brunch_일기_10291개).txt', index = False)"
   ]
  },
  {
   "cell_type": "code",
   "execution_count": 133,
   "metadata": {},
   "outputs": [
    {
     "data": {
      "text/plain": [
       "10291"
      ]
     },
     "execution_count": 133,
     "metadata": {},
     "output_type": "execute_result"
    }
   ],
   "source": [
    "df = pd.read_csv(path + 'Crawling(brunch_일기_10291개).csv')\n",
    "len(df)"
   ]
  },
  {
   "cell_type": "code",
   "execution_count": 134,
   "metadata": {},
   "outputs": [
    {
     "data": {
      "text/html": [
       "<div>\n",
       "<style scoped>\n",
       "    .dataframe tbody tr th:only-of-type {\n",
       "        vertical-align: middle;\n",
       "    }\n",
       "\n",
       "    .dataframe tbody tr th {\n",
       "        vertical-align: top;\n",
       "    }\n",
       "\n",
       "    .dataframe thead th {\n",
       "        text-align: right;\n",
       "    }\n",
       "</style>\n",
       "<table border=\"1\" class=\"dataframe\">\n",
       "  <thead>\n",
       "    <tr style=\"text-align: right;\">\n",
       "      <th></th>\n",
       "      <th>제목</th>\n",
       "      <th>내용</th>\n",
       "    </tr>\n",
       "  </thead>\n",
       "  <tbody>\n",
       "    <tr>\n",
       "      <th>0</th>\n",
       "      <td>내 삶에 대한 태도</td>\n",
       "      <td>사람은 무언가를 해야 한다는 인식에 매여 살면 참 힘든 것 같다. 난 최근까지도 의...</td>\n",
       "    </tr>\n",
       "    <tr>\n",
       "      <th>1</th>\n",
       "      <td>감정을 숨기는 사람</td>\n",
       "      <td>살짝 변태같이 느껴질 수도 있겠지만 나는 내가 쓴 글이 나름 재미있게 느껴진다.\\n...</td>\n",
       "    </tr>\n",
       "    <tr>\n",
       "      <th>2</th>\n",
       "      <td>말이 필요 없는 사이</td>\n",
       "      <td>2021.가을. \\n\\n\"색아, 너만 알고 있어\"\\n토요일 밤 열두시에 현이한테 전...</td>\n",
       "    </tr>\n",
       "    <tr>\n",
       "      <th>3</th>\n",
       "      <td>20170530 지하철 일기</td>\n",
       "      <td>20170530 화요일 맑음 - 더위\\n\\n화요일인데 금요일 같다. 오늘은 대체로 ...</td>\n",
       "    </tr>\n",
       "    <tr>\n",
       "      <th>4</th>\n",
       "      <td>10월의 악몽은 지나갔건만...</td>\n",
       "      <td>&lt;크리스마스의 악몽&gt;이라는 영화 제목처럼, 제게는 &lt;10월의 악몽&gt;이 있습니다. \\...</td>\n",
       "    </tr>\n",
       "  </tbody>\n",
       "</table>\n",
       "</div>"
      ],
      "text/plain": [
       "                  제목                                                 내용\n",
       "0         내 삶에 대한 태도  사람은 무언가를 해야 한다는 인식에 매여 살면 참 힘든 것 같다. 난 최근까지도 의...\n",
       "1         감정을 숨기는 사람  살짝 변태같이 느껴질 수도 있겠지만 나는 내가 쓴 글이 나름 재미있게 느껴진다.\\n...\n",
       "2        말이 필요 없는 사이  2021.가을. \\n\\n\"색아, 너만 알고 있어\"\\n토요일 밤 열두시에 현이한테 전...\n",
       "3    20170530 지하철 일기  20170530 화요일 맑음 - 더위\\n\\n화요일인데 금요일 같다. 오늘은 대체로 ...\n",
       "4  10월의 악몽은 지나갔건만...  <크리스마스의 악몽>이라는 영화 제목처럼, 제게는 <10월의 악몽>이 있습니다. \\..."
      ]
     },
     "execution_count": 134,
     "metadata": {},
     "output_type": "execute_result"
    }
   ],
   "source": [
    "df.head()"
   ]
  }
 ],
 "metadata": {
  "interpreter": {
   "hash": "fe3bab233825460445dbfeea6dcd52ef5815a3fa13c858fea07ac830aa383284"
  },
  "kernelspec": {
   "display_name": "Python 3.8.10 64-bit ('base': conda)",
   "name": "python3"
  },
  "language_info": {
   "codemirror_mode": {
    "name": "ipython",
    "version": 3
   },
   "file_extension": ".py",
   "mimetype": "text/x-python",
   "name": "python",
   "nbconvert_exporter": "python",
   "pygments_lexer": "ipython3",
   "version": "3.8.10"
  },
  "orig_nbformat": 4
 },
 "nbformat": 4,
 "nbformat_minor": 2
}
