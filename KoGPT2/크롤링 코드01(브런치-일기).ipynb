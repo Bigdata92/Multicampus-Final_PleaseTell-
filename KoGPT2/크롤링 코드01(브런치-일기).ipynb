{
 "cells": [
  {
   "cell_type": "code",
   "execution_count": null,
   "metadata": {},
   "outputs": [],
   "source": [
    "# 필요 데이터 크롤링\n",
    "import requests\n",
    "import pandas as pd\n",
    "import time\n",
    "from selenium import webdriver\n",
    "from selenium.webdriver.common.keys import Keys\n",
    "from bs4 import BeautifulSoup\n",
    "from urllib.parse import quote\n",
    "from tqdm.notebook import tqdm\n",
    "URL = 'https://brunch.co.kr'\n",
    "driver = webdriver.Chrome('C:\\\\Users\\\\Bestc\\\\Desktop\\\\빅데이터 지능형 서비스 개발과정(멀티캠퍼스)\\\\설치프로그램\\\\Selenium\\\\chromedriver.exe')\n",
    "driver.get(URL)\n",
    "time.sleep(2)\n",
    "driver.find_element_by_xpath('//*[@id=\"mArticle\"]/div[3]/div[1]/div/a[24]').click()\n",
    "time.sleep(2)\n",
    "driver.close()\n",
    "driver.switch_to.window(driver.window_handles[0])\n",
    "driver.find_element_by_xpath('//*[@id=\"keywordItemListBlock\"]/a[11]').click()\n",
    "time.sleep(2)\n",
    "driver.close()\n",
    "driver.switch_to.window(driver.window_handles[0])\n",
    "driver.find_element_by_xpath('//*[@id=\"keywordItemListBlock\"]/a[9]').click()\n",
    "time.sleep(2)\n",
    "driver.close()\n",
    "driver.switch_to.window(driver.window_handles[0])"
   ]
  },
  {
   "cell_type": "code",
   "execution_count": null,
   "metadata": {},
   "outputs": [],
   "source": [
    "for i in tqdm(range(5000)):\n",
    "    driver.execute_script(\"window.scrollTo(0, document.body.scrollHeight);\")\n",
    "    time.sleep(3)"
   ]
  },
  {
   "cell_type": "code",
   "execution_count": null,
   "metadata": {},
   "outputs": [],
   "source": [
    "import re\n",
    "title_list, contents_list = [], []\n",
    "for i in tqdm(range(1, 3001)):\n",
    "    driver.switch_to.window(driver.window_handles[0])\n",
    "    time.sleep(1)\n",
    "    driver.find_element_by_xpath(f'//*[@id=\"wrapArticle\"]/div[1]/ul/li[{i}]').click()\n",
    "    driver.switch_to.window(driver.window_handles[1])\n",
    "    time.sleep(3)\n",
    "    raw_contents = driver.find_element_by_xpath('/html/body/div[3]/div[1]/div[2]/div[1]').text\n",
    "    raw_title = driver.find_element_by_xpath('/html/body/div[3]/div[1]/div[1]/div/div[3]/h1').text\n",
    "    # contents = re.sub('[\\n]', '', raw_contents)\n",
    "    # title = re.sub('[\\n]', '', raw_title)\n",
    "    title_list.append(raw_title)\n",
    "    contents_list.append(raw_contents)\n",
    "    time.sleep(3)\n",
    "    driver.close()\n",
    "    time.sleep(1)"
   ]
  },
  {
   "cell_type": "code",
   "execution_count": null,
   "metadata": {},
   "outputs": [
    {
     "data": {
      "text/plain": [
       "(4, 4)"
      ]
     },
     "execution_count": 6,
     "metadata": {},
     "output_type": "execute_result"
    }
   ],
   "source": [
    "len(contents_list), len(title_list)"
   ]
  },
  {
   "cell_type": "code",
   "execution_count": null,
   "metadata": {},
   "outputs": [],
   "source": [
    "df = pd.DataFrame({'제목' : title_list, '내용' : contents_list})\n",
    "df['내용'][0]"
   ]
  },
  {
   "cell_type": "code",
   "execution_count": null,
   "metadata": {},
   "outputs": [],
   "source": [
    "print(df['내용'][0])"
   ]
  },
  {
   "cell_type": "code",
   "execution_count": null,
   "metadata": {},
   "outputs": [],
   "source": [
    "test_content = df['내용'][0].replace('\\n', ' ')\n",
    "test_content.replace('  ', ' ')"
   ]
  },
  {
   "cell_type": "code",
   "execution_count": null,
   "metadata": {},
   "outputs": [],
   "source": [
    "path = 'C:/Workspace/python/빅데이터 지능형서비스 개발 팀프로젝트/Final Project/Data/KoGPT2_Data/Crawling Data/'\n",
    "df.to_csv(path + 'Crawling(brunch_일기_1~3000).csv', index = False)\n",
    "df['내용'].to_csv(path + 'Crawling(brunch_일기_1~3000).txt', index = False)"
   ]
  },
  {
   "cell_type": "code",
   "execution_count": null,
   "metadata": {},
   "outputs": [
    {
     "data": {
      "text/plain": [
       "'늦은 밤,\\nTV를 보던 남편이 말했다. \\n\\n\"아, 초밥 먹고 싶다.\"\\n\\n\"먹어요. 뭐가 문제예요?\\n우리가, 돈이 없어요? 시간이 없어요?\\n열정?\"\\n\\n\"열정, 열정, 열정!\"\\n\\n개떡 같은 개그를 찰떡같이 받아주는 \\n남편이 고맙다.\\n\\n하긴 한밤중에 뭔가 먹고 싶다면\\n사러 갈 열정\\n주문할 열정\\n차리고 치울 열정\\n그 하찮은 일에도 열정이 필요하긴 하지.\\n정말 열정 없이 되는 일이 하나도 없구나. '"
      ]
     },
     "execution_count": 9,
     "metadata": {},
     "output_type": "execute_result"
    }
   ],
   "source": [
    "df1 = pd.read_csv(path + 'Crawling(brunch_일기_1~3000).csv')\n",
    "df1['내용'][0]"
   ]
  },
  {
   "cell_type": "code",
   "execution_count": null,
   "metadata": {},
   "outputs": [],
   "source": [
    "import re\n",
    "title_list, contents_list = [], []\n",
    "for i in tqdm(range(3001, 6001)):\n",
    "    driver.switch_to.window(driver.window_handles[0])\n",
    "    time.sleep(1)\n",
    "    driver.find_element_by_xpath(f'//*[@id=\"wrapArticle\"]/div[1]/ul/li[{i}]').click()\n",
    "    driver.switch_to.window(driver.window_handles[1])\n",
    "    time.sleep(3)\n",
    "    raw_contents = driver.find_element_by_xpath('/html/body/div[3]/div[1]/div[2]/div[1]').text\n",
    "    raw_title = driver.find_element_by_xpath('/html/body/div[3]/div[1]/div[1]/div/div[3]/h1').text\n",
    "    # contents = re.sub('[\\n]', '', raw_contents)\n",
    "    # title = re.sub('[\\n]', '', raw_title)\n",
    "    title_list.append(raw_title)\n",
    "    contents_list.append(raw_contents)\n",
    "    time.sleep(3)\n",
    "    driver.close()\n",
    "    time.sleep(1)"
   ]
  },
  {
   "cell_type": "code",
   "execution_count": null,
   "metadata": {},
   "outputs": [],
   "source": [
    "len(contents_list), len(title_list)"
   ]
  },
  {
   "cell_type": "code",
   "execution_count": null,
   "metadata": {},
   "outputs": [],
   "source": [
    "test_content = df['내용'][0].replace('\\n', ' ')\n",
    "test_content.replace('  ', ' ')"
   ]
  },
  {
   "cell_type": "code",
   "execution_count": null,
   "metadata": {},
   "outputs": [],
   "source": [
    "path = 'C:/Workspace/python/빅데이터 지능형서비스 개발 팀프로젝트/Final Project/Data/KoGPT2_Data/Crawling Data/'\n",
    "df.to_csv(path + 'Crawling(brunch_일기_3001~6000).csv', index = False)\n",
    "df['내용'].to_csv(path + 'Crawling(brunch_일기_3001~6000).txt', index = False)"
   ]
  },
  {
   "cell_type": "code",
   "execution_count": null,
   "metadata": {},
   "outputs": [],
   "source": [
    "df2 = pd.read_csv(path + 'Crawling(brunch_일기_3001~6000).csv')\n",
    "df2['내용'][0]"
   ]
  },
  {
   "cell_type": "code",
   "execution_count": null,
   "metadata": {},
   "outputs": [],
   "source": [
    "import re\n",
    "title_list, contents_list = [], []\n",
    "for i in tqdm(range(6001, 9001)):\n",
    "    driver.switch_to.window(driver.window_handles[0])\n",
    "    time.sleep(1)\n",
    "    driver.find_element_by_xpath(f'//*[@id=\"wrapArticle\"]/div[1]/ul/li[{i}]').click()\n",
    "    driver.switch_to.window(driver.window_handles[1])\n",
    "    time.sleep(3)\n",
    "    raw_contents = driver.find_element_by_xpath('/html/body/div[3]/div[1]/div[2]/div[1]').text\n",
    "    raw_title = driver.find_element_by_xpath('/html/body/div[3]/div[1]/div[1]/div/div[3]/h1').text\n",
    "    # contents = re.sub('[\\n]', '', raw_contents)\n",
    "    # title = re.sub('[\\n]', '', raw_title)\n",
    "    title_list.append(raw_title)\n",
    "    contents_list.append(raw_contents)\n",
    "    time.sleep(3)\n",
    "    driver.close()\n",
    "    time.sleep(1)"
   ]
  },
  {
   "cell_type": "code",
   "execution_count": null,
   "metadata": {},
   "outputs": [],
   "source": [
    "len(contents_list), len(title_list)"
   ]
  },
  {
   "cell_type": "code",
   "execution_count": null,
   "metadata": {},
   "outputs": [],
   "source": [
    "test_content = df['내용'][0].replace('\\n', ' ')\n",
    "test_content.replace('  ', ' ')"
   ]
  },
  {
   "cell_type": "code",
   "execution_count": null,
   "metadata": {},
   "outputs": [],
   "source": [
    "path = 'C:/Workspace/python/빅데이터 지능형서비스 개발 팀프로젝트/Final Project/Data/KoGPT2_Data/Crawling Data/'\n",
    "df.to_csv(path + 'Crawling(brunch_일기_6001~9000).csv', index = False)\n",
    "df['내용'].to_csv(path + 'Crawling(brunch_일기_6001~9000).txt', index = False)"
   ]
  },
  {
   "cell_type": "code",
   "execution_count": null,
   "metadata": {},
   "outputs": [],
   "source": [
    "df3 = pd.read_csv(path + 'Crawling(brunch_일기_6001~9000).csv')\n",
    "df3['내용'][0]"
   ]
  },
  {
   "cell_type": "code",
   "execution_count": null,
   "metadata": {},
   "outputs": [],
   "source": [
    "import re\n",
    "title_list, contents_list = [], []\n",
    "for i in tqdm(range(9001, 11120)):\n",
    "    driver.switch_to.window(driver.window_handles[0])\n",
    "    time.sleep(1)\n",
    "    driver.find_element_by_xpath(f'//*[@id=\"wrapArticle\"]/div[1]/ul/li[{i}]').click()\n",
    "    driver.switch_to.window(driver.window_handles[1])\n",
    "    time.sleep(3)\n",
    "    raw_contents = driver.find_element_by_xpath('/html/body/div[3]/div[1]/div[2]/div[1]').text\n",
    "    raw_title = driver.find_element_by_xpath('/html/body/div[3]/div[1]/div[1]/div/div[3]/h1').text\n",
    "    # contents = re.sub('[\\n]', '', raw_contents)\n",
    "    # title = re.sub('[\\n]', '', raw_title)\n",
    "    title_list.append(raw_title)\n",
    "    contents_list.append(raw_contents)\n",
    "    time.sleep(3)\n",
    "    driver.close()\n",
    "    time.sleep(1)"
   ]
  },
  {
   "cell_type": "code",
   "execution_count": null,
   "metadata": {},
   "outputs": [],
   "source": [
    "len(contents_list), len(title_list)"
   ]
  },
  {
   "cell_type": "code",
   "execution_count": null,
   "metadata": {},
   "outputs": [],
   "source": [
    "test_content = df['내용'][0].replace('\\n', ' ')\n",
    "test_content.replace('  ', ' ')"
   ]
  },
  {
   "cell_type": "code",
   "execution_count": null,
   "metadata": {},
   "outputs": [],
   "source": [
    "path = 'C:/Workspace/python/빅데이터 지능형서비스 개발 팀프로젝트/Final Project/Data/KoGPT2_Data/Crawling Data/'\n",
    "df.to_csv(path + 'Crawling(brunch_일기_9001~11120).csv', index = False)\n",
    "df['내용'].to_csv(path + 'Crawling(brunch_일기_9001~11120).txt', index = False)"
   ]
  },
  {
   "cell_type": "code",
   "execution_count": null,
   "metadata": {},
   "outputs": [],
   "source": [
    "df4 = pd.read_csv(path + 'Crawling(brunch_일기_9001~11120).csv')\n",
    "df4['내용'][0]"
   ]
  }
 ],
 "metadata": {
  "interpreter": {
   "hash": "fe3bab233825460445dbfeea6dcd52ef5815a3fa13c858fea07ac830aa383284"
  },
  "kernelspec": {
   "display_name": "Python 3.8.10 64-bit ('base': conda)",
   "name": "python3"
  },
  "language_info": {
   "codemirror_mode": {
    "name": "ipython",
    "version": 3
   },
   "file_extension": ".py",
   "mimetype": "text/x-python",
   "name": "python",
   "nbconvert_exporter": "python",
   "pygments_lexer": "ipython3",
   "version": "3.8.10"
  },
  "orig_nbformat": 4
 },
 "nbformat": 4,
 "nbformat_minor": 2
}
