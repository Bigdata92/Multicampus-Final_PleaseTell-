{
 "cells": [
  {
   "cell_type": "code",
   "execution_count": 1,
   "metadata": {},
   "outputs": [],
   "source": [
    "# 필요 데이터 크롤링\n",
    "import requests\n",
    "import pandas as pd\n",
    "import time\n",
    "from selenium import webdriver\n",
    "from selenium.webdriver.common.keys import Keys\n",
    "from bs4 import BeautifulSoup\n",
    "from urllib.parse import quote\n",
    "from tqdm.notebook import tqdm\n",
    "from selenium.webdriver import ActionChains\n",
    "from selenium.webdriver.common.by import By"
   ]
  },
  {
   "cell_type": "code",
   "execution_count": 2,
   "metadata": {},
   "outputs": [
    {
     "name": "stderr",
     "output_type": "stream",
     "text": [
      "<ipython-input-2-5641933d181e>:1: DeprecationWarning: executable_path has been deprecated, please pass in a Service object\n",
      "  driver = webdriver.Chrome(executable_path = 'C:/Users/Bestc/Desktop/빅데이터 지능형 서비스 개발과정(멀티캠퍼스)/설치프로그램/Selenium/chromedriver.exe')\n"
     ]
    }
   ],
   "source": [
    "driver = webdriver.Chrome(executable_path = 'C:/Users/Bestc/Desktop/빅데이터 지능형 서비스 개발과정(멀티캠퍼스)/설치프로그램/Selenium/chromedriver.exe')\n",
    "URL = 'https://www.wishbeen.co.kr/city?serviceType=global&tab=specialTip&curationTag=8a1355ac13e558c9'\n",
    "driver.get(URL)"
   ]
  },
  {
   "cell_type": "code",
   "execution_count": null,
   "metadata": {},
   "outputs": [],
   "source": [
    "from tqdm.notebook import tqdm\n",
    "\n",
    "content_list = []\n",
    "title_list = []\n",
    "\n",
    "for page_num in tqdm(range(1, 9)): # 8페이지가 마지막 페이지 \n",
    "    URL = f'https://www.wishbeen.co.kr/city?serviceType=global&tab=specialTip&curationTag=8a1355ac13e558c9&viewPageNum={page_num}&perPage=20'\n",
    "    driver.get(URL)\n",
    "    for i in range(1, 21): # 한페이지당 게시글이 20개 / 마지막 페이지는 게시글이 10개\n",
    "        driver.find_element(By.XPATH, f'//*[@id=\"contents\"]/div/div/div[2]/div[1]/div[{i}]/a').send_keys(Keys.CONTROL + \"\\n\")\n",
    "        time.sleep(2)\n",
    "        driver.switch_to.window(driver.window_handles[1])\n",
    "        text_list = []\n",
    "        title = driver.find_element(By.XPATH, f'//*[@id=\"view\"]/div/div[2]/div/h1').text \n",
    "        title_list.append(title)\n",
    "        texts = driver.find_element(By.XPATH, f'//*[@id=\"story-tab\"]').text\n",
    "        texts = texts.split('\\n')\n",
    "        for text in texts:\n",
    "            if text != '' and 'Artravel+' not in text and '좋아요' not in text and '댓글' not in text and 'Top' not in text\\\n",
    "                and '공유하기' not in text and '여행기' not in text and ':' not in text and 'Day' not in text and '0' != text\\\n",
    "                and '>' not in text and '경유' not in text and '-' not in text and '+' not in text and 'www' not in text and 'KRW' not in text\\\n",
    "                and '인천국제공항 (Incheon International Airport, ICN)' != text and '경유 1회' != text and '숙박' != text \\\n",
    "                and '민박 집이용 1일 약 15,000원 한달경비' != text and '1' != text and '2' != text and '3' != text and '4' != text\\\n",
    "                and '도시간 이동 약' != text and '항공료' != text and '항공' != text and '교통' != text:\n",
    "                text_list.append(text)\n",
    "        content = ' '.join(text_list)\n",
    "        content = content.replace('\\\\', ' ')\n",
    "        content = content.replace('  ', ' ')\n",
    "        content_list.append(content)\n",
    "        driver.close()\n",
    "        driver.switch_to.window(driver.window_handles[0])\n",
    "    if page_num == 8:\n",
    "        for i in range(1, 13): # 한페이지당 게시글이 20개 / 마지막 페이지는 게시글이 13개\n",
    "            driver.find_element(By.XPATH, f'//*[@id=\"contents\"]/div/div/div[2]/div[1]/div[{i}]/a').send_keys(Keys.CONTROL + \"\\n\")\n",
    "            time.sleep(2)\n",
    "            driver.switch_to.window(driver.window_handles[1])\n",
    "            text_list = []\n",
    "            title = driver.find_element(By.XPATH, f'//*[@id=\"view\"]/div/div[2]/div/h1').text \n",
    "            title_list.append(title)\n",
    "            texts = driver.find_element(By.XPATH, f'//*[@id=\"story-tab\"]').text\n",
    "            texts = texts.split('\\n')\n",
    "            for text in texts:\n",
    "                if text != '' and 'Artravel+' not in text and '좋아요' not in text and '댓글' not in text and 'Top' not in text\\\n",
    "                    and '공유하기' not in text and '여행기' not in text and ':' not in text and 'Day' not in text and '0' != text\\\n",
    "                    and '>' not in text and '경유' not in text and '-' not in text and '+' not in text and 'www' not in text and 'KRW' not in text\\\n",
    "                    and '인천국제공항 (Incheon International Airport, ICN)' != text and '경유 1회' != text and '숙박' != text \\\n",
    "                    and '민박 집이용 1일 약 15,000원 한달경비' != text and '1' != text and '2' != text and '3' != text and '4' != text\\\n",
    "                    and '도시간 이동 약' != text and '항공료' != text and '항공' != text and '교통' != text:\n",
    "                    text_list.append(text)\n",
    "            content = ' '.join(text_list)\n",
    "            content = content.replace('\\\\', ' ')\n",
    "            content = content.replace('  ', ' ')\n",
    "            content_list.append(content)\n",
    "            driver.close()\n",
    "            driver.switch_to.window(driver.window_handles[0])"
   ]
  },
  {
   "cell_type": "code",
   "execution_count": 129,
   "metadata": {},
   "outputs": [
    {
     "name": "stdout",
     "output_type": "stream",
     "text": [
      "내 발자국을 따라와 [나미비아·앙골라]\n"
     ]
    },
    {
     "data": {
      "text/plain": [
       "152"
      ]
     },
     "execution_count": 129,
     "metadata": {},
     "output_type": "execute_result"
    }
   ],
   "source": [
    "n = 151\n",
    "print(title_list[n])\n",
    "content_list[n]\n",
    "len(content_list)"
   ]
  },
  {
   "cell_type": "code",
   "execution_count": 130,
   "metadata": {},
   "outputs": [],
   "source": [
    "df_trip_wishbeen = pd.DataFrame({'title' : title_list, 'content' : content_list})\n",
    "df_trip_wishbeen.to_csv('C:/Workspace/python/빅데이터 지능형서비스 개발 팀프로젝트/Final Project/Data/KoGPT2_Data/Crawling Data/df_trip_wishbeen.csv', index= False)\n",
    "df_trip_wishbeen['content'].to_csv('C:/Workspace/python/빅데이터 지능형서비스 개발 팀프로젝트/Final Project/Data/KoGPT2_Data/Crawling Data/df_trip_wishbeen.txt', index= False)"
   ]
  },
  {
   "cell_type": "code",
   "execution_count": 131,
   "metadata": {},
   "outputs": [],
   "source": [
    "df_trip_wishbeen = pd.read_csv('C:/Workspace/python/빅데이터 지능형서비스 개발 팀프로젝트/Final Project/Data/KoGPT2_Data/Crawling Data/df_trip_wishbeen.csv')"
   ]
  },
  {
   "cell_type": "code",
   "execution_count": null,
   "metadata": {},
   "outputs": [],
   "source": [
    "n = 147\n",
    "df_trip_wishbeen.content[n].split('. ')"
   ]
  },
  {
   "cell_type": "code",
   "execution_count": 67,
   "metadata": {},
   "outputs": [],
   "source": [
    "driver.close()\n",
    "driver.switch_to.window(driver.window_handles[0])"
   ]
  },
  {
   "cell_type": "code",
   "execution_count": 106,
   "metadata": {},
   "outputs": [],
   "source": [
    "i = 8\n",
    "driver.find_element(By.XPATH, f'//*[@id=\"contents\"]/div/div/div[2]/div[1]/div[{i}]/a').send_keys(Keys.CONTROL + \"\\n\")\n",
    "driver.switch_to.window(driver.window_handles[1])"
   ]
  },
  {
   "cell_type": "code",
   "execution_count": 124,
   "metadata": {},
   "outputs": [],
   "source": [
    "content_list = []\n",
    "text_list = []\n",
    "texts = driver.find_element(By.XPATH, f'//*[@id=\"story-tab\"]').text\n",
    "texts = texts.split('\\n')\n",
    "# print(texts)\n",
    "for text in texts:\n",
    "    if text != '' and 'Artravel+' not in text and '좋아요' not in text and '댓글' not in text and 'Top' not in text\\\n",
    "        and '공유하기' not in text and '여행기' not in text and ':' not in text and 'Day' not in text and '0' != text\\\n",
    "        and '>' not in text and '경유' not in text and '-' not in text and '+' not in text and 'www' not in text and 'KRW' not in text\\\n",
    "        and '인천국제공항 (Incheon International Airport, ICN)' != text and '경유 1회' != text and '숙박' != text \\\n",
    "        and '민박 집이용 1일 약 15,000원 한달경비' != text and '1' != text and '2' != text and '3' != text and '4' != text\\\n",
    "        and '도시간 이동 약' != text and '항공료' != text and '항공' != text and '교통' != text:\n",
    "        text_list.append(text)\n",
    "content = ' '.join(text_list)\n",
    "content_list.append(content)"
   ]
  },
  {
   "cell_type": "code",
   "execution_count": 125,
   "metadata": {},
   "outputs": [
    {
     "data": {
      "text/plain": [
       "['아바나 호세 마르띠 국제공항 (Havana José Martí Airport) 쿠바를 여행지로 정한 두 가지 이유 내가 쿠바로 여행지를 정한 것은 두 가지 이유 때문이다. 이 두 가지를 비유하자면 번개와 천둥 같았다고나 할까. 2연타.  보통 날 평소와 다름없이 커피와 파이로 그날의 에너지를 충전하면서 본업에 충실하고 있을 때였다. 그때 왜 영문 기사 헤드라인에 있던 한 단어가 갑자기 툭 튀어나와 음절 단위로 쪼개졌을까. 지금 생각해보면 직업병이 분명하다. 낱낱이 쪼개진 단어는 바로 인큐베이터 (in·cuba·tor) 그 순간 나는 쿠바에 가기만 하면 새로 태어날 것만 같은 망상에 사로잡혔다. 누가 설명할 수 있을까 첫눈에 반해서 사랑에 빠지기도 하잖아. 쿠바 하면 음악이 가장 먼저 떠올라 관련 정보를 검색하던 중, 쿠바 힙합에서 또 한 번 눈이 멈췄다. 쿠바 하면 재즈 아닌가. 음악을 모르긴 몰라도 쿠바 힙합? 강한 호기심에 이끌려 찾아본 첫 번째 뮤비가 Orishas의 El kilo. 보기 전에 잠깐, 여행 중독에 걸린 사람들은 조심해야 한다. HOT 하다못해 LIT! 그렇게 번개와 천둥을 맞고 내 마음에 불이 붙은 그 날 나는 홀린 듯이 티켓을 끊고 퇴사를 준비했다.  그렇게 나는 In/Cuba/Tor 쿠바로 갔다. 쿠바 까삐똘리오 (Capitolio Nacional) 원 투 쓰리로 내릴 정류장을 설명해도 갸우뚱 고개를 저었다. 원 투 쓰리로 내릴 정류장을 설명해도 갸우뚱 고개를 저었다.  배낭은 무겁고 말은 안 통하고 게다가 출근 시간. 울고 싶었다.  그냥 집에 가고 싶었다.  일단 내려보자 하고 결심했는데, 큰 배낭을 메고 출근 인파를 뚫기엔 역부족이었다.  두려움과 자괴감을 내려놓고 넋이 나간 채 서 있는데 사람들이 썰물처럼 빠졌다.  여기다 시내구나. 내렸다기보다는 떠밀려 내린 곳이 다행히 아바나의 관광 중심 까삐돌리오 앞이었다.  영어는 일단 포기해야겠다는 생각에 숙소 주소가 적힌 메모를 내밀며 행인 1에게 말을 걸었다.  그러자 신기한 일이 일어났다.  행인 1이 길을 알려주지 않고 그냥 따라오라고 했다.  얼떨결에 쫓아가는데 행인 1이 가던 길을 멈추고 행인 2에게 말을 걸었다.  추측하건대 “얘 여기 간데, 난 여기서 반대쪽으로 가야 하는데 너 데려다줄 수 있어?” 같았다.  행인 2가 흔쾌히 또 자기를 따라오라고 한다.  신종 납치? 모든 감각이 공격 태세를 갖추었다.  팁을 달라는 건가 싶기도 했고 식당이나 상점 브로커인가 싶기도 했다.  그렇게 머릿속에서 스릴러 한 편이 완성될 때쯤 나는 행인 1,2 를 거쳐 숙소에 도착했고,  행인 2는 아디오스! 한마디 던지고 골목 속으로 사라졌다.  내 편견과 선입견에 금이 가기 시작했다. 까삐돌리오 하바나 (La Havana) 아바나는 여러모로 충격이었다. 내가 사진으로 보았고 영화에서 보았던 아바나는 아바나가 아니었다고 장담한다.  강렬한 색채는 기대 이상이었고 말레꼰은 파도가 잔잔한 날이 많았다.  나는 어느 나라를 가든 수도에 오래 머물지 않는 편이다. 대도시는 왠지 쓸쓸했다.  아바나에서 처음 머문 숙소는 한국 사람들이 많이 오가는 곳이었는데, 그 숙소에서 내가 만난 사람들은 관광객이라기보다 탐험가에 가까워 보였다. 멋있어. 멋이 있는 사람들.  우리는 밤마다 값싼 럼을 마시면서 낯선 도시에서 보낸 각자의 하루를 나누었다.  해외여행 처음으로 수도에서 일주일을 보냈다. 내가 만난 친구들, 매일 새로운 자극으로 새겨지는 순간의 연속.  아직도 그때 사진을 보면 가슴이 뛴다. 아. 갈증을 1초 만에 사라지게 한 구아바 쥬스도 빠질 수 없지.  구석구석 골목골목 발도장과 사진을 번갈아 남기고 나서야 나는 비로소 귀소본능처럼 쿠바의 남부로 향했다.  집에 가는 기분으로. 고향이 부산이다. 아바나 산타클라라 (Santa Clara) 쥬라기 공원의 공룡이 금방이라도 뛰쳐나올 것만 같은 비냘레스를 과감히 포기하고 아랫동네 체의 도시 산타클라라로 갔다. 산타클라라는 체가 잠든 체 게바라 기념관이 있는 작고 조용한 동네라 이틀만 머물렀다.  그곳에서 나는 또 한 번 선의에 감사 대신 의심으로 맞선 나 자신을 질책하고 반성했다.  그날은 오전에 체의 기념관에 갔다가 달리 할 일이 없어 시내 중심인 비달광장에서 멍하게 앉아 오후를 보내고 있었다.  그때 등이 굽은 할머니가 다가와 손에 동전을 내밀며 말을 걸었다.  동전 주머니를 차고 있고 남루한 차림새로 봐서 당연히 나에게도 돈을 구걸하는 건가 보다 싶어 나는 가진 돈이 없다고 거짓말했다. 그런데도 할머니는 자리를 떠나지 않고 계속해서 손바닥의 동전을 내밀었다. 모른 척하면 가시겠지 했는데 할머니가 내 시선 정면으로 다가와서 동전을 내 손에 쥐여주셨다.  내 행색이 여유로워 보이진 않지만 돈을 쥐여줄 정도인가 만감이 교차하는데 할머니가 동전 앞면을 가리키며 ‘체! 체!’ 하면서 뒤돌아 가셨다. 쿵. 할머니는 그저 체 게바라가 새겨진 동전을 내게 주고 싶었던 것.  체가 새겨진 3페소의 동전은 외국인과 내국인의 상용 화폐가 다른 쿠바에서 내국인만 쓰는 동전인데, 외국인들이 굳이 구하려고 하지 않는 이상 사용하지 않는 동전의 한 종류였다. 그 사실을 알고 난 그때의 부끄러움이란. 체의 도시에서 받은 그 동전은 평생 내가 갚아야 할 마음의 빚으로 남았다.   트리니다드 (Trinidad) 늘 그렇듯 바다가 보고 싶었다. 버스를 타고 건너 동네 트리니다드로 향했다.  지극히 주관적인 생각으로 도시 전체적인 색깔이 아바나가 크레용으로 그려진 느낌이라면  트리니다드는 파스텔 느낌이었다.  기대를 많이 하고 갔음에도 불구하고 부족함이 없었다.  현실과 환상이 파도를 따라 번갈아 밀려왔다.  야자수와 코코넛이 가득한 캐리비안 배경의 꿈속으로 뛰어든 기분이었다.   계획한 일정보다 트리니다드에 더 오랫동안 머문 이유는 바다 때문이기도 하지만  바다만큼 좋은 이유가 하나 더 있었다.  바로 칸찬차라!  쿠바는 헤밍웨이의 모히또로 유명한데 모히또에 버금가는 술이 하나 더 있다는 사실.  칸찬차라는 럼에 사탕수수와 레몬즙을 넣은 트니리다드 넘버원 칵테일이다.  일주일 넘게 머무는 동안 칸찬차라 홍보대사처럼 스치는 모든 사람에게 칸찬차라를 권했다.  눈 뜨면 5천원으로 랍스타 한 마리를 먹고 종일 해변에서 수영과 낮잠을 반복하다가,  그림 같은 석양을 보면서 칸찬차라를 마시고, 밤마다 마요르 광장에서 재즈 공연이 펼쳐지는데 무엇이 더 필요할까.  여기가 천국.   산티아고 데 쿠바 (Santiago de Cuba) 역시 논리보다 경험이 속도가 빠르다. 어느 나라를 가나 장기 여행객들에게 돈보다 시간보다 아쉬운 게 바로 비자가 아닐까.  나 역시 30일의 장벽을 넘지 못하고 바쁘게 최종 목적지로 향했다.  시외버스로 반나절을 달려 쿠바 제2의 도시이자 부에나 비스타 소셜 클럽의 상징적인 도시 산티아고 데 쿠바에 도착했다.  여기구나 바카디의 고장이.  쿠바의 부산이라 생각하니 더 정겹고 실제로도 부산과 비슷한 분위기로 대도시지만  아바나보다 훨씬 여유로운 기분이 들었다.  서울 사람들이 부산에 오면 이런 기분인가. 부산이 고향이라 잘 몰랐는데 그제야 조금 알 것 같았다.  역시 논리보다 경험이 속도가 빠르다.  쿠바 여행에서 시간, 돈, 비자 삼박자가 허락한다면 꼭 산티아고 데 쿠바까지 가보길.   산티아고데쿠바 하바나 (La Havana) 서둘러 아바나로 돌아왔다.  집으로 돌아갈 시간. 일정 마지막 이틀 내내 비가 내렸다.  한 달 몰아친 일정에 완벽한 날씨였다.  그렇게 나는 여름에서 겨울로, 물과 전기가 금이던 곳에서 24시 편의점과 무료 와이파이가 공기 같은 나라로 돌아왔다.  한 달을 훌쩍 건너뛴 기분이 들었고, 여권에도 남지 않는 나라에 내가 머문 흔적은 내 기록뿐이었다.  여행 중 말이 잘 안 통하는 나라에서 가장 말을 많이 했고, 풍경 못지않게 기억되는 사람들이 많았다. 그 어느 계절이든 그때의 기억이 나를 찾아오면 내 마음은 끝없는 여름에 머물 것이다. ‘시간을 팝니다’라는 가게가 있다면 누구든 사고 싶을 것이다. 어렵지 않다. 과거든 미래든 상상은 무료다. 그 어딜 여행하든 돌아와 현재 여기서 가장 행복하길. 오늘 마음이 한여름 청춘이길.']"
      ]
     },
     "execution_count": 125,
     "metadata": {},
     "output_type": "execute_result"
    }
   ],
   "source": [
    "content_list"
   ]
  }
 ],
 "metadata": {
  "interpreter": {
   "hash": "fe3bab233825460445dbfeea6dcd52ef5815a3fa13c858fea07ac830aa383284"
  },
  "kernelspec": {
   "display_name": "Python 3.8.10 64-bit ('base': conda)",
   "language": "python",
   "name": "python3"
  },
  "language_info": {
   "codemirror_mode": {
    "name": "ipython",
    "version": 3
   },
   "file_extension": ".py",
   "mimetype": "text/x-python",
   "name": "python",
   "nbconvert_exporter": "python",
   "pygments_lexer": "ipython3",
   "version": "3.8.10"
  },
  "orig_nbformat": 4
 },
 "nbformat": 4,
 "nbformat_minor": 2
}
