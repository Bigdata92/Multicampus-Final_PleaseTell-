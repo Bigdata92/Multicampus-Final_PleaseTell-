{
 "cells": [
  {
   "cell_type": "code",
   "execution_count": 7,
   "metadata": {},
   "outputs": [],
   "source": [
    "# 문학광장_수필 데이터 크롤링\n",
    "import requests\n",
    "import pandas as pd\n",
    "import time\n",
    "from selenium import webdriver\n",
    "from selenium.webdriver.common.keys import Keys\n",
    "from bs4 import BeautifulSoup\n",
    "from urllib.parse import quote\n",
    "from tqdm.notebook import tqdm\n",
    "from selenium.webdriver import ActionChains\n",
    "from selenium.webdriver.common.by import By"
   ]
  },
  {
   "cell_type": "code",
   "execution_count": 196,
   "metadata": {},
   "outputs": [
    {
     "name": "stderr",
     "output_type": "stream",
     "text": [
      "<ipython-input-196-689e03bdf30b>:1: DeprecationWarning: executable_path has been deprecated, please pass in a Service object\n",
      "  driver = webdriver.Chrome(executable_path = 'C:\\\\Users\\\\Bestc\\\\Desktop\\\\빅데이터 지능형 서비스 개발과정(멀티캠퍼스)\\\\설치프로그램\\\\Selenium\\\\chromedriver.exe')\n"
     ]
    },
    {
     "data": {
      "application/vnd.jupyter.widget-view+json": {
       "model_id": "8640cbf8a57249dbafdc1d06878c5c63",
       "version_major": 2,
       "version_minor": 0
      },
      "text/plain": [
       "  0%|          | 0/348 [00:00<?, ?it/s]"
      ]
     },
     "metadata": {},
     "output_type": "display_data"
    }
   ],
   "source": [
    "driver = webdriver.Chrome(executable_path = 'C:\\\\Users\\\\Bestc\\\\Desktop\\\\빅데이터 지능형 서비스 개발과정(멀티캠퍼스)\\\\설치프로그램\\\\Selenium\\\\chromedriver.exe')\n",
    "title_list = []\n",
    "content_list = []\n",
    "writer_list = []\n",
    "for page_num in tqdm(range(1, 349)):\n",
    "    URL = f'https://teen.munjang.or.kr/archives/category/write/life/page/{page_num}/'\n",
    "    driver.get(URL)\n",
    "    time.sleep(2)\n",
    "\n",
    "# 게시글 클릭을 위해서는 포스트번호가 필요함 -> 뷰티풀 소프를 이용하여 html코드 중 필요한 post_num 추출\n",
    "    html = driver.page_source\n",
    "    soup = BeautifulSoup(html, 'html.parser')\n",
    "    post_name_list = []\n",
    "    key = 'class=\"post-'\n",
    "    for i in range(len(soup.select('main > article'))):\n",
    "        raw_post_name = str(soup.select('main > article')[i])\n",
    "        for k in range(len(raw_post_name.split(' '))):\n",
    "            if key in raw_post_name.split(' ')[k] and 'readmore' not in raw_post_name.split(' ')[k]:\n",
    "                post_name_list.append(raw_post_name.split(' ')[k].replace(key, ''))\n",
    "    n = 0\n",
    "    for post_num in post_name_list:\n",
    "        # driver.execute_script(f\"window.scrollTo(0, {250 + 220 * n})\")\n",
    "        # n += 1\n",
    "        # time.sleep(1)\n",
    "        writer = driver.find_element(By.XPATH, f'//*[@id=\"post-{post_num}\"]/div/div[1]/figure/span').text\n",
    "        raw_title = driver.find_element(By.XPATH, f'//*[@id=\"post-{post_num}\"]/div/div[2]/div[1]/a').text\n",
    "        driver.find_element(By.XPATH, f'//*[@id=\"post-{post_num}\"]/div/div[2]/div[1]/a').click()\n",
    "        time.sleep(2)\n",
    "        raw_content = driver.find_element(By.XPATH, f'//*[@id=\"post-{post_num}\"]/div[1]').text\n",
    "        title_list.append(raw_title)\n",
    "        content_list.append(raw_content)\n",
    "        writer_list.append(writer)\n",
    "        time.sleep(2)\n",
    "        driver.back()\n",
    "        time.sleep(2)"
   ]
  },
  {
   "cell_type": "code",
   "execution_count": 193,
   "metadata": {},
   "outputs": [
    {
     "data": {
      "text/plain": [
       "'멘토\\n문부일'"
      ]
     },
     "execution_count": 193,
     "metadata": {},
     "output_type": "execute_result"
    }
   ],
   "source": [
    "driver.find_element(By.XPATH, f'//*[@id=\"post-128222\"]/div/div[1]/figure/span').text"
   ]
  },
  {
   "cell_type": "code",
   "execution_count": 173,
   "metadata": {},
   "outputs": [
    {
     "data": {
      "text/plain": [
       "(4, 4, 4)"
      ]
     },
     "execution_count": 173,
     "metadata": {},
     "output_type": "execute_result"
    }
   ],
   "source": [
    "len(title_list), len(content_list), len(writer_list)"
   ]
  },
  {
   "cell_type": "code",
   "execution_count": 178,
   "metadata": {},
   "outputs": [
    {
     "data": {
      "text/plain": [
       "(['[공지] 10월 장원 발표+ 함께 보고 싶은 시트콤 영상',\n",
       "  '[공지] 9월 장원 발표 및 함께 읽고 싶은 책 추천!',\n",
       "  '[공지] 8월 장원 및 9월에 함께 읽고 싶은 책',\n",
       "  '[공지] 7월 장원발표, 함께 읽고 싶은 책'],\n",
       " ['멘토\\n문부일', '멘토\\n문부일', '멘토\\n문부일', '멘토\\n문부일'],\n",
       " [\"안녕하세요. 11월이 시작되었습니다. 내일은 입동이라고 하네요.\\n곧 겨울로 접어드는데, 오늘은 포근하고 햇살도 좋습니다. 이렇게 늦가을이 흘러가고 있습니다.\\n여러분, 잘 지내시나요?  정확히 12일이 지나면 수능이 옵니다.\\n저는 공부를 잘하겠다는 마음이 1도 없었으니, 당연히 수능 부담이 전혀 없었습니다.\\n수능 날, 정말 마음이 편했습니다. 수능만 보면 이제 해방이구나! 이제 어른이구나! 이렇게 환호하며 시험장에 갔던 기억이!^^\\n여러분들도 원하는 점수 얻고 수능에서 해방되시길 바랍니다!^^\\n저는 최근에 청소년문학 단편집 수정을 끝냈고, 장편 초고 수정도 마쳤습니다. 물론 장편은 또 수정을 해야겠지만 일단 당분간 제 손을 떠나서 정말 홀가분하네요.\\n왜 글을 써야할까, 이런 망상을 하면서 계속하면서!^^\\n  10월에 올라온 작품을 꼼꼼하게 읽었습니다. 예의상 하는 말이 아니라 좋은 작품이 여럿 있었습니다.\\n그 중에서  가고일 님의 작품 '20211021 '을 이달 장원으로 선정합니다. 다른 작품도 좋았으나, 이 작품의 무게감, 구체적인 경험, 문제의식이 상당합니다.\\n첫 문장, '가끔 내 이름 한가운데 박힌 예,가 미리 예豫가 아닌 예외例外의 예例가 아닐까 생각한다. 본보기 예例, 바깥 외外. 본보기의 바깥에 있다.'\\n이 문장이 이 글의 주제가 아닐까 싶은데요. 많은 사람들의 삶의 흐름과 조금 다른 삶, 다른 시선, 생각의 폭. 그 낯선 이야기가 매혹적입니다.\\n앞으로 더욱 색다른 글, 개성 넘치는 글을 많이 써주십시오.\\n  11월 함께 보면 좋은 유쾌한 영상을 공유합니다. 최근 MBC다큐플렉스에 소개된 명작 시트콤 '거침없이 하이킥'입니다.\\n'호박 고구마'라고 하면 요즘 청소년들도 많이 아는 그 영상입니다.\\n2006년 방영을 시작해 지금도 유튜브에서 인기가  많은데요. 그 중에서 스토리 전개가 좋고, 구성도 잘 되어 있는 몇 가지를 소개합니다.\\n특히 캐릭터가 무엇인지, 어떻게 좋은 캐릭터를 만들 수 있는지 살펴볼 수 있습니다. 고정관념을 깨는, 익숙함을 잘 비트는 그 역량!^^\\n기분이 좋아지는 영상이니 꼭 시청하세요!^^ 제목을 클릭하시면 영상으로 연결이 됩니다!\\n  1)  이순재의 방송굴욕 3종세트! The humiliation three sets of Lee Soon-jae! – YouTube \\n복선을 어떻게 배치하면 좋은지 알 수 있어요. 마지막 사건들을 보면서 앞에 배치한 복선이 무엇인지 생각하기\\n2)  나문희, 밍크코트 사수기! Na Moon-hee, mink stole defend! – YouTube     \\n식상한 할머니 캐릭터를 새롭게 만들어냅니다.\\n3) MC서민정, 찬성에게 랩 배우다! Seo MinJung learns to rap for Chansung – YouTube   \\n음치를 소재로 재미있게 이야기를 풀어내는 솜씨!\\n  즐거운 영상 보면서 기분 전환하세요!^^\\n11월입니다. 추운 겨울, 독서와 함께 글도 열심히 쓰세요. 물론 건강이 가장 중요합니다!^^\\n               \",\n",
       "  \"안녕하세요.\\n어느덧 가을이 왔습니다. 환절기라 감기 걸리기 쉬운 계절인데 다들 건강하신가요?\\n저는 8월에 썼던 장편 초고를 다시 수정하기 시작했습니다. 출간 날짜를 맞출 수 있을까, 고민하면서! 역시 글쓰기는 너무 어렵네요.\\n이 세상에는 의미있는 일이 참 많은데 왜 나는 글을 쓰고 있을까? 혼자 망상, 공상, 상상을 하면서 수정하고 있습니다!^^\\n여러분들은 왜 글을 쓰시나요?\\n  9월에 올라온 수필을 꼼꼼하게 읽었습니다. 문제의식 있는 작품, 감동적인 작품, 문장력이 뛰어난 작품, 시선이 매력적인 작품이 참 많았습니다.\\n'취향', '운동안에 온정', '매미보다 금방 뒤집히곤 했지만', '행복, 어쩌면 가까이에 있을지도', '변함없이', '숲 속 글 발자국들', '어린 아이의 가벼운  웃음처럼',\\n'구성품- 사막과 중력, 불청객 같은 약간의 소금과 다량의 꿈',  '요즈음'을 주목했습니다.\\n그 중에서 벌새 님의 '숲 속 글 발자국들'을 장원으로 선정합니다. 축하드립니다.\\n자신이 글을 왜 쓰는지, 글을 쓰면서 어떻게 변화했는지 진솔하게 담아냈습니다. 또한 자신이 쓴 글도 소개해 구체적이라서 공감할 수 있었습니다.\\n장점이 많았습니다.  글쓰기의 즐거움이 독자들에게 생생하게 전달되었습니다. 앞으로 조금 더 시각을 확대하면 주제도 더 탄탄해지리라 기대합니다.\\n  10월, 책읽기 글쓰기 좋은 계절입니다. 이 시간에 좋은 책 소개합니다.\\n'책만 보는 바보', 안소영\\n조선 후기 실학자인 이덕무의 삶을 진솔하게 그린 책입니다.\\n서자 출신이라 사회적인 한계, 경제적인 어려움도 많았지만 이덕무는 책읽기를 하며 그 시간을 견뎌냅니다.\\n책을 너무 많이 읽어서 별명이 '책만 보는 바보' 였다고 합니다.\\n세상 사람들 대부분이 부와 권력을 원할 때, 그 흐름과 상관없이 자신의 길을 가는 그 우직함이 매력입니다.\\n감동도 있고, 책읽기 글쓰기의 의미를 다시 생각하도록 하는 좋은 책입니다.  글쓰기가 힘들 때, 삶이 고단할 때 읽으면 큰 위로가 될 것입니다.\\n  10월입니다. 모두 건강하세요.\",\n",
       "  \"안녕하세요. 9월이 시작되었습니다. 어느덧 완연한 가을입니다.\\n아침 저녁으로 쌀쌀하고 요즘은 비도 많이 오네요. 건강을 더 잘 챙겨야겠죠?\\n다들 어떻게 지내세요?\\n저는 청소년 역사인문학 책을 8월, 9월 연달아 출간했어요. 오프라인에서 만날 기회가 있다면 드렸을 텐데 아쉽네요.\\n요즘 창작 슬럼프에 빠져서 잠시 문학이 아닌 비문학, 역사 관련 글을 잠깐 써보았습니다. 원래 문학보다 역사를 더 좋아하기도 했고!\\n  8월에 올라온 수필들을 꼼꼼하게 읽었습니다. 그러면서 수필은 무엇일까? 다시 생각도 했습니다.\\n'불꺼진 화요일', '푸아그라의 비망록', '덧붙이는 글', '선율로 이어지다', '주제를 찾아서', '표류하는 한계를 뚫고, '나를 위한 6000원이었을까?' '가장 쓸쓸한 1년'을 주목했습니다.\\n눈에 확 들어오는 작품이 없어서 여러 번 정독하며 오랫동안 고민한 결과,\\n  8월 장원으로 노란 나그네 님의 '나를 위한 6000원이었을까?를 선정합니다.\\n구체적인 자기 고백, 진한 감동과 여운이 장점이었습니다.  특히 자기연민에 빠질 수 있는 상황인데도 거리를 잘 유지하고 있습니다.\\n부족한 점이 있지만 장점을 더 높이 평가했습니다. 이번 장원 선정을 계기로 조금 더 노력하면 좋겠습니다.  축하드립니다.\\n  9월, 이달에도 좋은 글 많이 써주세요. 저도 열심히 쓸게요!\\n그리고 여러분들이 올린 소중한 작품들 모두 부지런히, 꼼꼼하게, 즐겁게, 진지하게  읽으면서 소통할게요. 감사합니다.\\n저도 여러분들의 작품을 읽으면서 위로받을 때가 참 많습니다. 글의 힘입니다.\\n  9월, 정말 독서하기 좋은 계절입니다. 청소년들의 삶을 위로하는 단편집을 추천합니다.\\n<모나크 나비> 김혜정, 바람의 아이들\\n위로가 필요할 때, 나비처럼 훨훨 어디론가 날아가고 싶을 때 읽어보십시오.\\n특히 문장력, 묘사력, 구성이 좋아 작품을 쓸 때 큰 도움이 될 겁니다. 문학성이 뛰어난 작품입니다.\\n문장력이 부족해 고민하는 글틴러는 이 작품을 꼼꼼하게 읽으면 좋겠습니다.\\n       \",\n",
       "  \"멘토\\n문부일\\n[공지] 7월 장원발표, 함께 읽고 싶은 책 2021-08-04\\n안녕하세요.  무더위가 이어지는 8월 초입니다. 잘 지내고 계시죠? 더위보다 코로나로 인해 더 힘든 시기입니다.  글틴러중에도 수험생이 계실 텐데, 수능도 곧 디데이 100일이 다가옵니다. 무덥지만 조금 더 기운을 내시길 바라며!   7월에 올라온 작품을 여러 번 읽었습니다. 글틴 수필 게시판에 올라온 작품을 웬만하면 빨리 의견을 남기려고 노력합니다. 저도 습작생 때 공모전에 글을 내고, 초조하게 결과 발표를 기다리던 시절이 있었으니까요.  다들 열심히 글을 써주셔서 감사합니다.   점점 작품의 주제, 문제의식도 좋아지고, 생각이나 시각의 폭이 넓어지고 있습니다. 다만 기승전결 구성을 조금 더 신경쓰면 완성도가 높아지겠죠? 이달에 주목한 작품은, '하얀 얼굴 그리기', '지난 여름[…]\"])"
      ]
     },
     "execution_count": 178,
     "metadata": {},
     "output_type": "execute_result"
    }
   ],
   "source": [
    "title_list, writer_list, content_list"
   ]
  }
 ],
 "metadata": {
  "interpreter": {
   "hash": "fe3bab233825460445dbfeea6dcd52ef5815a3fa13c858fea07ac830aa383284"
  },
  "kernelspec": {
   "display_name": "Python 3.8.10 64-bit ('base': conda)",
   "language": "python",
   "name": "python3"
  },
  "language_info": {
   "codemirror_mode": {
    "name": "ipython",
    "version": 3
   },
   "file_extension": ".py",
   "mimetype": "text/x-python",
   "name": "python",
   "nbconvert_exporter": "python",
   "pygments_lexer": "ipython3",
   "version": "3.8.10"
  },
  "orig_nbformat": 4
 },
 "nbformat": 4,
 "nbformat_minor": 2
}
