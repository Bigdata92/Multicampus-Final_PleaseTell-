{
 "cells": [
  {
   "cell_type": "code",
   "execution_count": 1,
   "metadata": {},
   "outputs": [],
   "source": [
    "import numpy as np\n",
    "import pandas as pd"
   ]
  },
  {
   "cell_type": "code",
   "execution_count": 42,
   "metadata": {},
   "outputs": [
    {
     "data": {
      "text/html": [
       "<div>\n",
       "<style scoped>\n",
       "    .dataframe tbody tr th:only-of-type {\n",
       "        vertical-align: middle;\n",
       "    }\n",
       "\n",
       "    .dataframe tbody tr th {\n",
       "        vertical-align: top;\n",
       "    }\n",
       "\n",
       "    .dataframe thead th {\n",
       "        text-align: right;\n",
       "    }\n",
       "</style>\n",
       "<table border=\"1\" class=\"dataframe\">\n",
       "  <thead>\n",
       "    <tr style=\"text-align: right;\">\n",
       "      <th></th>\n",
       "      <th>제목</th>\n",
       "      <th>글쓴이</th>\n",
       "      <th>내용</th>\n",
       "    </tr>\n",
       "  </thead>\n",
       "  <tbody>\n",
       "    <tr>\n",
       "      <th>0</th>\n",
       "      <td>[공지] 10월 장원 발표+ 함께 보고 싶은 시트콤 영상</td>\n",
       "      <td>멘토\\n문부일</td>\n",
       "      <td>안녕하세요. 11월이 시작되었습니다. 내일은 입동이라고 하네요.\\n곧 겨울로 접어드...</td>\n",
       "    </tr>\n",
       "    <tr>\n",
       "      <th>1</th>\n",
       "      <td>[공지] 9월 장원 발표 및 함께 읽고 싶은 책 추천!</td>\n",
       "      <td>멘토\\n문부일</td>\n",
       "      <td>안녕하세요.\\n어느덧 가을이 왔습니다. 환절기라 감기 걸리기 쉬운 계절인데 다들 건...</td>\n",
       "    </tr>\n",
       "    <tr>\n",
       "      <th>2</th>\n",
       "      <td>[공지] 8월 장원 및 9월에 함께 읽고 싶은 책</td>\n",
       "      <td>멘토\\n문부일</td>\n",
       "      <td>안녕하세요. 9월이 시작되었습니다. 어느덧 완연한 가을입니다.\\n아침 저녁으로 쌀쌀...</td>\n",
       "    </tr>\n",
       "    <tr>\n",
       "      <th>3</th>\n",
       "      <td>[공지] 7월 장원발표, 함께 읽고 싶은 책</td>\n",
       "      <td>멘토\\n문부일</td>\n",
       "      <td>안녕하세요.  무더위가 이어지는 8월 초입니다. 잘 지내고 계시죠?\\n더위보다 코로...</td>\n",
       "    </tr>\n",
       "    <tr>\n",
       "      <th>4</th>\n",
       "      <td>[공지] 6월 장원 발표, 함께 읽고 싶은 책 추천해요!</td>\n",
       "      <td>멘토\\n문부일</td>\n",
       "      <td>안녕하세요. 7월 7일이네요.\\n장마가 시작되어서 폭우가 내리는 곳이 많습니다.  ...</td>\n",
       "    </tr>\n",
       "  </tbody>\n",
       "</table>\n",
       "</div>"
      ],
      "text/plain": [
       "                                제목      글쓴이  \\\n",
       "0  [공지] 10월 장원 발표+ 함께 보고 싶은 시트콤 영상  멘토\\n문부일   \n",
       "1   [공지] 9월 장원 발표 및 함께 읽고 싶은 책 추천!  멘토\\n문부일   \n",
       "2      [공지] 8월 장원 및 9월에 함께 읽고 싶은 책  멘토\\n문부일   \n",
       "3         [공지] 7월 장원발표, 함께 읽고 싶은 책  멘토\\n문부일   \n",
       "4  [공지] 6월 장원 발표, 함께 읽고 싶은 책 추천해요!  멘토\\n문부일   \n",
       "\n",
       "                                                  내용  \n",
       "0  안녕하세요. 11월이 시작되었습니다. 내일은 입동이라고 하네요.\\n곧 겨울로 접어드...  \n",
       "1  안녕하세요.\\n어느덧 가을이 왔습니다. 환절기라 감기 걸리기 쉬운 계절인데 다들 건...  \n",
       "2  안녕하세요. 9월이 시작되었습니다. 어느덧 완연한 가을입니다.\\n아침 저녁으로 쌀쌀...  \n",
       "3  안녕하세요.  무더위가 이어지는 8월 초입니다. 잘 지내고 계시죠?\\n더위보다 코로...  \n",
       "4  안녕하세요. 7월 7일이네요.\\n장마가 시작되어서 폭우가 내리는 곳이 많습니다.  ...  "
      ]
     },
     "execution_count": 42,
     "metadata": {},
     "output_type": "execute_result"
    }
   ],
   "source": [
    "df = pd.read_csv('C:/Workspace/python/빅데이터 지능형서비스 개발 팀프로젝트/Final Project/Data/KoGPT2_Data/Crawling Data/Crawling(문학광장_수필).csv')\n",
    "df.head()"
   ]
  },
  {
   "cell_type": "code",
   "execution_count": 49,
   "metadata": {},
   "outputs": [],
   "source": [
    "drop_title_list = []\n",
    "for i in range(len(df['제목'])):\n",
    "    if '[공지]' in df['제목'][i]:\n",
    "        drop_title_list.append(list(df['제목']).index(df['제목'][i]))"
   ]
  },
  {
   "cell_type": "code",
   "execution_count": 51,
   "metadata": {},
   "outputs": [],
   "source": [
    "df.drop(drop_title_list, inplace = True)\n",
    "df.reset_index(drop = True, inplace = True)"
   ]
  },
  {
   "cell_type": "code",
   "execution_count": 53,
   "metadata": {},
   "outputs": [
    {
     "data": {
      "text/plain": [
       "구름빵         410\n",
       "관리자         123\n",
       "웹관리자        118\n",
       "별똥별2호       108\n",
       "탈퇴 회원        60\n",
       "           ... \n",
       "아침해           1\n",
       "컴퓨터           1\n",
       "난나야           1\n",
       "euphoria      1\n",
       "ARRKAIGE      1\n",
       "Name: 글쓴이, Length: 1230, dtype: int64"
      ]
     },
     "execution_count": 53,
     "metadata": {},
     "output_type": "execute_result"
    }
   ],
   "source": [
    "df['글쓴이'].value_counts()"
   ]
  },
  {
   "cell_type": "code",
   "execution_count": 78,
   "metadata": {},
   "outputs": [],
   "source": [
    "df = df[df['글쓴이'] != '관리자']\n",
    "df = df[df['글쓴이'] != '웹관리자']\n",
    "df.reset_index(drop = True, inplace = True)"
   ]
  },
  {
   "cell_type": "code",
   "execution_count": 90,
   "metadata": {},
   "outputs": [],
   "source": [
    "df['내용'].to_csv('C:/Workspace/python/빅데이터 지능형서비스 개발 팀프로젝트/Final Project/Data/KoGPT2_Data/Crawling Data/Crawling(문학광장_수필).txt', index = False)"
   ]
  }
 ],
 "metadata": {
  "interpreter": {
   "hash": "fe3bab233825460445dbfeea6dcd52ef5815a3fa13c858fea07ac830aa383284"
  },
  "kernelspec": {
   "display_name": "Python 3.8.10 64-bit ('base': conda)",
   "language": "python",
   "name": "python3"
  },
  "language_info": {
   "codemirror_mode": {
    "name": "ipython",
    "version": 3
   },
   "file_extension": ".py",
   "mimetype": "text/x-python",
   "name": "python",
   "nbconvert_exporter": "python",
   "pygments_lexer": "ipython3",
   "version": "3.8.10"
  },
  "orig_nbformat": 4
 },
 "nbformat": 4,
 "nbformat_minor": 2
}
