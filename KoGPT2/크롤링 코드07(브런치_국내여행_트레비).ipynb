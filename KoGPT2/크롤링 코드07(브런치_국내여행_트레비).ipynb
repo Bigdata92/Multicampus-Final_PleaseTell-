{
 "cells": [
  {
   "cell_type": "code",
   "execution_count": 1,
   "metadata": {},
   "outputs": [],
   "source": [
    "# 필요 데이터 크롤링\n",
    "import requests\n",
    "import pandas as pd\n",
    "import time\n",
    "from selenium import webdriver\n",
    "from selenium.webdriver.common.keys import Keys\n",
    "from bs4 import BeautifulSoup\n",
    "from urllib.parse import quote\n",
    "from tqdm.notebook import tqdm\n",
    "from selenium.webdriver import ActionChains\n",
    "from selenium.webdriver.common.by import By"
   ]
  },
  {
   "cell_type": "code",
   "execution_count": 2,
   "metadata": {},
   "outputs": [
    {
     "name": "stderr",
     "output_type": "stream",
     "text": [
      "<ipython-input-2-c412015881cd>:1: DeprecationWarning: executable_path has been deprecated, please pass in a Service object\n",
      "  driver = webdriver.Chrome(executable_path = 'C:/Users/Bestc/Desktop/빅데이터 지능형 서비스 개발과정(멀티캠퍼스)/설치프로그램/Selenium/chromedriver.exe')\n"
     ]
    }
   ],
   "source": [
    "driver = webdriver.Chrome(executable_path = 'C:/Users/Bestc/Desktop/빅데이터 지능형 서비스 개발과정(멀티캠퍼스)/설치프로그램/Selenium/chromedriver.exe')\n",
    "URL = 'https://brunch.co.kr/magazine/domestic'\n",
    "driver.get(URL)"
   ]
  },
  {
   "cell_type": "code",
   "execution_count": 3,
   "metadata": {},
   "outputs": [
    {
     "data": {
      "application/vnd.jupyter.widget-view+json": {
       "model_id": "74039a8cb9e14c1d89068caa8a961a22",
       "version_major": 2,
       "version_minor": 0
      },
      "text/plain": [
       "  0%|          | 0/10 [00:00<?, ?it/s]"
      ]
     },
     "metadata": {},
     "output_type": "display_data"
    }
   ],
   "source": [
    "from tqdm.notebook import tqdm\n",
    "\n",
    "for _ in tqdm(range(10)):\n",
    "    driver.execute_script(\"window.scrollTo(0, document.body.scrollHeight);\")\n",
    "    time.sleep(3)"
   ]
  },
  {
   "cell_type": "code",
   "execution_count": null,
   "metadata": {},
   "outputs": [],
   "source": [
    "import re\n",
    "from hanspell import spell_checker # 최대 500자까지만 가능하기에 문장을 나눠서 반복해야함.\n",
    "def spell_check(sequence):\n",
    "    result = spell_checker.check(sequence)\n",
    "    checked_sequence = result.checked\n",
    "    return checked_sequence\n",
    "\n",
    "title_list = []\n",
    "content_list = []\n",
    "\n",
    "for i in tqdm(range(1, 309)): # 해당 페이지 글이 308개\n",
    "    driver.find_element(By.XPATH, f'/html/body/div[3]/div[2]/ul/li[{i}]/a').send_keys(Keys.CONTROL + \"\\n\")\n",
    "    time.sleep(3)\n",
    "    driver.switch_to.window(driver.window_handles[1])\n",
    "    title = driver.find_element(By.XPATH, f'/html/body/div[3]/div[1]/div[1]/div/div[3]/h1').text\n",
    "    title_list.append(title)\n",
    "    text = driver.find_element(By.XPATH, f'/html/body/div[3]/div[1]/div[2]/div[1]').text\n",
    "    text_list = []\n",
    "    for text in text.split('\\n'):\n",
    "        if text != '' and 'Artravel+' not in text and '좋아요' not in text and '댓글' not in text and 'Top' not in text\\\n",
    "            and '공유하기' not in text and '여행기' not in text and ':' not in text and 'Day' not in text and '0' != text\\\n",
    "            and '>' not in text and '경유' not in text and '-' not in text and '+' not in text and 'www' not in text and 'KRW' not in text\\\n",
    "            and '인천국제공항 (Incheon International Airport, ICN)' != text and '경유 1회' != text and '숙박' != text \\\n",
    "            and '민박 집이용 1일 약 15,000원 한달경비' != text and '1' != text and '2' != text and '3' != text and '4' != text\\\n",
    "            and '도시간 이동 약' != text and '항공료' != text and '항공' != text and '교통' != text:\n",
    "            text_list.append(text)\n",
    "    # 불필요한 문장 제거를 위해 앞뒤에 있는 메일주소 및 글 제목만 제외 / text_list[2:-4]\n",
    "    content = re.sub('[^ㄱ-ㅎㅏ-ㅣ가-힣0-9.()A-Za-z:?! ]', '', ' '.join(text_list[2:-4]))\n",
    "    # print(len(content.split('. ')))\n",
    "    content = content.replace(' )', ')')\n",
    "    content = content.replace('( ', '(')\n",
    "    content = content.replace('(중략)', ' ')\n",
    "    content = content.replace('  ', ' ')\n",
    "    content = content.replace('  ', ' ')\n",
    "    content_list.append(content)\n",
    "    driver.close()\n",
    "    driver.switch_to.window(driver.window_handles[0])"
   ]
  },
  {
   "cell_type": "code",
   "execution_count": null,
   "metadata": {},
   "outputs": [],
   "source": [
    "df_trip_travie = pd.DataFrame({'title' : title_list, 'content' : content_list})\n",
    "df_trip_travie.to_csv('C:/Workspace/python/빅데이터 지능형서비스 개발 팀프로젝트/Final Project/Data/KoGPT2_Data/Crawling Data/df_trip_travie.csv', index= False)\n",
    "df_trip_travie['content'].to_csv('C:/Workspace/python/빅데이터 지능형서비스 개발 팀프로젝트/Final Project/Data/KoGPT2_Data/Crawling Data/df_trip_travie.txt', index= False)"
   ]
  },
  {
   "cell_type": "code",
   "execution_count": null,
   "metadata": {},
   "outputs": [],
   "source": [
    "pd.read_csv('C:/Workspace/python/빅데이터 지능형서비스 개발 팀프로젝트/Final Project/Data/KoGPT2_Data/Crawling Data/df_trip_travie.csv').head()"
   ]
  }
 ],
 "metadata": {
  "interpreter": {
   "hash": "fe3bab233825460445dbfeea6dcd52ef5815a3fa13c858fea07ac830aa383284"
  },
  "kernelspec": {
   "display_name": "Python 3.8.10 64-bit ('base': conda)",
   "language": "python",
   "name": "python3"
  },
  "language_info": {
   "codemirror_mode": {
    "name": "ipython",
    "version": 3
   },
   "file_extension": ".py",
   "mimetype": "text/x-python",
   "name": "python",
   "nbconvert_exporter": "python",
   "pygments_lexer": "ipython3",
   "version": "3.8.10"
  },
  "orig_nbformat": 4
 },
 "nbformat": 4,
 "nbformat_minor": 2
}
