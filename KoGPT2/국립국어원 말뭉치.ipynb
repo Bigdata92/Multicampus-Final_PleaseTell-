{
 "cells": [
  {
   "cell_type": "code",
   "execution_count": 2,
   "metadata": {},
   "outputs": [],
   "source": [
    "import os\n",
    "import xml.etree.ElementTree as ET"
   ]
  },
  {
   "cell_type": "code",
   "execution_count": 13,
   "metadata": {},
   "outputs": [
    {
     "data": {
      "text/plain": [
       "10753"
      ]
     },
     "execution_count": 13,
     "metadata": {},
     "output_type": "execute_result"
    }
   ],
   "source": [
    "targetDir = \"C:\\\\Workspace\\\\python\\\\빅데이터 지능형서비스 개발 팀프로젝트\\\\Final Project\\\\Data\\\\국립국어원_말뭉치\\\\NIKL_NP_v1.1(비출판물)\\\\국립국어원 비출판물 말뭉치(버전 1.1)\"\n",
    "\n",
    "##targetDir에서 .xml파일 이름들 리스트로 가져오기\n",
    "file_list = os.listdir(targetDir)\n",
    "sjml_list = []\n",
    "for file in file_list:\n",
    "    if '.sjml' in file:\n",
    "        sjml_list.append(file)\n",
    "len(sjml_list)"
   ]
  },
  {
   "cell_type": "code",
   "execution_count": 192,
   "metadata": {},
   "outputs": [
    {
     "name": "stdout",
     "output_type": "stream",
     "text": [
      "원시\n",
      "비출판물 > 기타 > 아이돌실물후기\n",
      "드림콘서트후기\n",
      "개인글작성자\n",
      "제노 진짜 존나 착함 나같은 학생한테도 인사해줌 근데 이상하게 쎄해보임 나재민 얼굴 진짜 작음 태용 성격 진짜 안좋아보였음 왜냐면 코디가 그쪽아니라고 태용을 부르짖었는데 씹고 걍 감 런쥔 생각보다 얼굴은 단단해보였음 지성 인사잘했고 길쭉하고 목소리 괜찮앗음 재현 진짜싸가지없게 생겼고 우리가 바로 옆으로 지나갈 일이 있었는데 걍.. 우리를 빠순이 취급하는 차가운 눈동자를 봐버림 니 팬아니다 꿈깨라 도영도 진짜 싸가지없게 생겨서 약간 짜증남 쿤 진짜 온화해보엿음 ㄹㅇ 정우 인기 많게생김 잘생겻늠 이동혁 진짜 얜 실물이 일단 피부색부터가 남다름 나머진 기억 안 남 글고 무대에서 이동혁 라이브너무 잘해서 가슴을 울렸음.미라클 드림 커버무대는 탈빠해도 맘에 남을거같음 어리고 예쁜애들이 비오는 악조건속에서 넘어져도 잘해보겠다는 의지로 신나서 하는 야외무대를 어떻게 잊을 수가 잇겟음 싱싱하고 너무 사랑받는 자신을 믿을 수 없어하는 그런 태도 거의 환상임 진짜 지성이가 넘어졌는데 계속 카메라가 잡았음 걔가 넘어졌다 일어나고 웃을때까지 카메라가 계속 잡아서 뭐랄까 괜찮다고 보여주라고 카메라가 강요하는것 같아서 그건 좀 맘이 그랬음 무대 다들 잘해줬고 블온블 터치 고 보스 다 많이 봤던거라 특별히 더 감흥이 있고 그렇진 않았고 비오는데 무대 몸 안사리고 열심히 하는거가 눈에 보여서 아주 좋았음 나는 마지막 엔딩곡에 마크가 잡혔었는데 그게 너무 기억에 남음 엔딩곡으로 챔피언을 불럿는데 마지막에 걔가 원샷을 오래 받았었음 근데 팬들이 막 환호하니까 그걸 보고 자기가 사랑받는걸 얼떨떨해하고 고마워보이다가 웃는 그 모습이 너무 너무 기억에 남음 골든차일드진짜 관심 하나도 없는데 인사 너무 너무 잘해줌 진짜 너무 너무 착함 ㅠㅠ 대열빼고 다 생각보다 잘..말그대로 잘생겼음 더보이즈 뉴가 진짜 사회생활 잘함 진짜로 퇴장하다 눈 마주쳐서 입 막았는데 바로 인사해줌 아스트로 은우 빼고 다봤는데 사실 그럼 의미가 없긴함 그래도 문빈몸 존나 좋고 싸가지없게 생긴 잘생김임 나머지는 걍 다 싸가지도 없어 보이고 못생긴 재수없는 남돌의 전형이었음 근데 무대에서는 엄청 생글생글 어린 연하남같은 이미지팔아서 완전 신기하다고 생각했음\n"
     ]
    }
   ],
   "source": [
    "target_path = targetDir + '\\\\' + sjml_list[101]\n",
    "sjml_file = open(target_path, 'rt', encoding='UTF8')\n",
    "tree = ET.parse(sjml_file)\n",
    "root = tree.getroot()\n",
    "# print(root.getchildren())\n",
    "# for test in root:\n",
    "#     print(test.tag, test.attrib)\n",
    "iter_element00 = root.iter(tag = 'text')\n",
    "iter_element01 = root.iter(tag = 'fileInfo')\n",
    "iter_element02 = root.iter(tag = 'sourceInfo')\n",
    "for element01 in iter_element01:\n",
    "    print(element01.find('annoLevel').text)\n",
    "    print(element01.find('category').text)\n",
    "for element02 in iter_element02:\n",
    "    print(element02.find('title').text)\n",
    "    print(element02.find('author').text)\n",
    "for element00 in iter_element00:\n",
    "    element00_list = element00.findall('p')\n",
    "    sentence_list = []\n",
    "    for element00_N in element00_list:\n",
    "        sentence_list.append(element00_N.text)\n",
    "    print(' '.join(sentence_list))"
   ]
  },
  {
   "cell_type": "code",
   "execution_count": 101,
   "metadata": {},
   "outputs": [],
   "source": [
    "import pandas as pd\n",
    "import numpy as np"
   ]
  },
  {
   "cell_type": "code",
   "execution_count": 104,
   "metadata": {},
   "outputs": [
    {
     "name": "stdout",
     "output_type": "stream",
     "text": [
      "10753\n"
     ]
    },
    {
     "data": {
      "text/plain": [
       "['WDRW1900100013.sjml',\n",
       " 'WDRW1900100015.sjml',\n",
       " 'WDRW1900100023.sjml',\n",
       " 'WDRW1900100027.sjml',\n",
       " 'WDRW1900100031.sjml']"
      ]
     },
     "execution_count": 104,
     "metadata": {},
     "output_type": "execute_result"
    }
   ],
   "source": [
    "print(len(sjml_list))\n",
    "sjml_list[:5]"
   ]
  },
  {
   "cell_type": "code",
   "execution_count": 114,
   "metadata": {},
   "outputs": [
    {
     "data": {
      "text/plain": [
       "'WDRW1900100105.sjml'"
      ]
     },
     "execution_count": 114,
     "metadata": {},
     "output_type": "execute_result"
    }
   ],
   "source": [
    "sjml_list[31]"
   ]
  },
  {
   "cell_type": "code",
   "execution_count": 135,
   "metadata": {},
   "outputs": [
    {
     "data": {
      "application/vnd.jupyter.widget-view+json": {
       "model_id": "9391a6246e7e4ad1a851e645d592c606",
       "version_major": 2,
       "version_minor": 0
      },
      "text/plain": [
       "  0%|          | 0/10753 [00:00<?, ?it/s]"
      ]
     },
     "metadata": {},
     "output_type": "display_data"
    },
    {
     "name": "stdout",
     "output_type": "stream",
     "text": [
      "1209\n"
     ]
    },
    {
     "data": {
      "text/html": [
       "<div>\n",
       "<style scoped>\n",
       "    .dataframe tbody tr th:only-of-type {\n",
       "        vertical-align: middle;\n",
       "    }\n",
       "\n",
       "    .dataframe tbody tr th {\n",
       "        vertical-align: top;\n",
       "    }\n",
       "\n",
       "    .dataframe thead th {\n",
       "        text-align: right;\n",
       "    }\n",
       "</style>\n",
       "<table border=\"1\" class=\"dataframe\">\n",
       "  <thead>\n",
       "    <tr style=\"text-align: right;\">\n",
       "      <th></th>\n",
       "      <th>annoLevel</th>\n",
       "      <th>category</th>\n",
       "      <th>title</th>\n",
       "      <th>author</th>\n",
       "      <th>content</th>\n",
       "    </tr>\n",
       "  </thead>\n",
       "  <tbody>\n",
       "    <tr>\n",
       "      <th>0</th>\n",
       "      <td>원시</td>\n",
       "      <td>비출판물 &gt; 수필</td>\n",
       "      <td>아내의 생일상</td>\n",
       "      <td>김홍건</td>\n",
       "      <td>어제는 아내의 생일이었다. 생일을 맞이하여 아침을 준비하겠다고 오전 8시 30분부터...</td>\n",
       "    </tr>\n",
       "    <tr>\n",
       "      <th>1</th>\n",
       "      <td>원시</td>\n",
       "      <td>비출판물 &gt; 감상문</td>\n",
       "      <td>소금이 온다</td>\n",
       "      <td>김주원</td>\n",
       "      <td>나는소금이 나오는 게곡에 가보고 싶어진다.</td>\n",
       "    </tr>\n",
       "    <tr>\n",
       "      <th>2</th>\n",
       "      <td>원시</td>\n",
       "      <td>비출판물 &gt; 일기</td>\n",
       "      <td>졸업</td>\n",
       "      <td>김유라</td>\n",
       "      <td>졸업식이 취소되어서 너무 아쉽다. 취소 이유는 중국 우한에서 처음 발병한 신종 코로...</td>\n",
       "    </tr>\n",
       "    <tr>\n",
       "      <th>3</th>\n",
       "      <td>원시</td>\n",
       "      <td>비출판물 &gt; 감상문</td>\n",
       "      <td>감사일기</td>\n",
       "      <td>개인글작성자</td>\n",
       "      <td>우리는 살아감에있어서 감사보다는 늘 불평과 불만으로 부정적인 언어를 많이 사용하며 ...</td>\n",
       "    </tr>\n",
       "    <tr>\n",
       "      <th>4</th>\n",
       "      <td>원시</td>\n",
       "      <td>비출판물 &gt; 기타 &gt; 칼럼</td>\n",
       "      <td>환경과 패스트패션</td>\n",
       "      <td>개인글작성자</td>\n",
       "      <td>기후변화와 환경문제가 먼 미래의 이슈나 남의 얘기가 아니라는 점은 이제 주지의 사실...</td>\n",
       "    </tr>\n",
       "    <tr>\n",
       "      <th>...</th>\n",
       "      <td>...</td>\n",
       "      <td>...</td>\n",
       "      <td>...</td>\n",
       "      <td>...</td>\n",
       "      <td>...</td>\n",
       "    </tr>\n",
       "    <tr>\n",
       "      <th>9539</th>\n",
       "      <td>원시</td>\n",
       "      <td>비출판물 &gt; 일기</td>\n",
       "      <td>도서관가학원</td>\n",
       "      <td>김단호</td>\n",
       "      <td>8월 7일 수요일 날씨:변덕스러운날씨 나는오 늘 도서관가학원 을 갔 다 온디 엄마 ...</td>\n",
       "    </tr>\n",
       "    <tr>\n",
       "      <th>9540</th>\n",
       "      <td>원시</td>\n",
       "      <td>비출판물 &gt; 감상문</td>\n",
       "      <td>도깨비 감투</td>\n",
       "      <td>김주원</td>\n",
       "      <td>영감이 길을지나가다가 한감투를 밧는데 그걸 머리에 썼더니 안 보여서 사람에물건을 훔...</td>\n",
       "    </tr>\n",
       "    <tr>\n",
       "      <th>9541</th>\n",
       "      <td>원시</td>\n",
       "      <td>비출판물 &gt; 일기</td>\n",
       "      <td>할아버지와할머니 생신</td>\n",
       "      <td>김단호</td>\n",
       "      <td>8월 3일 날씨:쨍쨍하 면 시비가 많이온날 오늘은 할아버지와할머니가 생신을 같 이 ...</td>\n",
       "    </tr>\n",
       "    <tr>\n",
       "      <th>9542</th>\n",
       "      <td>원시</td>\n",
       "      <td>비출판물 &gt; 감상문</td>\n",
       "      <td>글독서</td>\n",
       "      <td>김주원</td>\n",
       "      <td>콩과 자라와 쇠똥과 소꼿이랑 멧돌이랑 멍석과 친구들이 할머니를 도와조서 자랑스럽다</td>\n",
       "    </tr>\n",
       "    <tr>\n",
       "      <th>9543</th>\n",
       "      <td>원시</td>\n",
       "      <td>비출판물 &gt; 감상문</td>\n",
       "      <td>땅속나라 도둑괴물</td>\n",
       "      <td>김주원</td>\n",
       "      <td>주인공이아내랑 집에가고 있었는데 괴물이 아내를 데려갔는데 주인공이 되차자서 자랑스럽다.</td>\n",
       "    </tr>\n",
       "  </tbody>\n",
       "</table>\n",
       "<p>9544 rows × 5 columns</p>\n",
       "</div>"
      ],
      "text/plain": [
       "     annoLevel        category        title  author  \\\n",
       "0           원시       비출판물 > 수필      아내의 생일상     김홍건   \n",
       "1           원시      비출판물 > 감상문       소금이 온다     김주원   \n",
       "2           원시       비출판물 > 일기           졸업     김유라   \n",
       "3           원시      비출판물 > 감상문         감사일기  개인글작성자   \n",
       "4           원시  비출판물 > 기타 > 칼럼    환경과 패스트패션  개인글작성자   \n",
       "...        ...             ...          ...     ...   \n",
       "9539        원시       비출판물 > 일기       도서관가학원     김단호   \n",
       "9540        원시      비출판물 > 감상문       도깨비 감투     김주원   \n",
       "9541        원시       비출판물 > 일기  할아버지와할머니 생신     김단호   \n",
       "9542        원시      비출판물 > 감상문          글독서     김주원   \n",
       "9543        원시      비출판물 > 감상문    땅속나라 도둑괴물     김주원   \n",
       "\n",
       "                                                content  \n",
       "0     어제는 아내의 생일이었다. 생일을 맞이하여 아침을 준비하겠다고 오전 8시 30분부터...  \n",
       "1                               나는소금이 나오는 게곡에 가보고 싶어진다.  \n",
       "2     졸업식이 취소되어서 너무 아쉽다. 취소 이유는 중국 우한에서 처음 발병한 신종 코로...  \n",
       "3     우리는 살아감에있어서 감사보다는 늘 불평과 불만으로 부정적인 언어를 많이 사용하며 ...  \n",
       "4     기후변화와 환경문제가 먼 미래의 이슈나 남의 얘기가 아니라는 점은 이제 주지의 사실...  \n",
       "...                                                 ...  \n",
       "9539  8월 7일 수요일 날씨:변덕스러운날씨 나는오 늘 도서관가학원 을 갔 다 온디 엄마 ...  \n",
       "9540  영감이 길을지나가다가 한감투를 밧는데 그걸 머리에 썼더니 안 보여서 사람에물건을 훔...  \n",
       "9541  8월 3일 날씨:쨍쨍하 면 시비가 많이온날 오늘은 할아버지와할머니가 생신을 같 이 ...  \n",
       "9542      콩과 자라와 쇠똥과 소꼿이랑 멧돌이랑 멍석과 친구들이 할머니를 도와조서 자랑스럽다  \n",
       "9543   주인공이아내랑 집에가고 있었는데 괴물이 아내를 데려갔는데 주인공이 되차자서 자랑스럽다.  \n",
       "\n",
       "[9544 rows x 5 columns]"
      ]
     },
     "execution_count": 135,
     "metadata": {},
     "output_type": "execute_result"
    }
   ],
   "source": [
    "from tqdm.notebook import tqdm\n",
    "anno_list, category_list, title_list, author_list, content_list = [], [], [], [], []\n",
    "error_list = []\n",
    "n = 0\n",
    "for i in tqdm(range(len(sjml_list))):\n",
    "    try:\n",
    "        target_path = targetDir + '\\\\' + sjml_list[i]\n",
    "        sjml_file = open(target_path, 'rt', encoding='UTF8')\n",
    "        tree = ET.parse(sjml_file)\n",
    "        root = tree.getroot()\n",
    "        iter_element00 = root.iter(tag = 'text')\n",
    "        iter_element01 = root.iter(tag = 'fileInfo')\n",
    "        iter_element02 = root.iter(tag = 'sourceInfo')\n",
    "        for element01 in iter_element01:\n",
    "            anno_list.append(element01.find('annoLevel').text)\n",
    "            category_list.append(element01.find('category').text)\n",
    "        for element02 in iter_element02:\n",
    "            title_list.append(element02.find('title').text)\n",
    "            author_list.append(element02.find('author').text)\n",
    "        for element00 in iter_element00:\n",
    "            element00_list = element00.findall('p')\n",
    "            sentence_list = []\n",
    "            for element00_N in element00_list:\n",
    "                sentence_list.append(element00_N.text)\n",
    "            content_list.append(' '.join(sentence_list))\n",
    "    except:\n",
    "        n += 1\n",
    "        error_list.append(sjml_list[i]) \n",
    "print(n)\n",
    "df = pd.DataFrame({'annoLevel' : anno_list, 'category' : category_list, 'title' : title_list, 'author' : author_list, 'content' : content_list})\n",
    "df"
   ]
  },
  {
   "cell_type": "code",
   "execution_count": 153,
   "metadata": {},
   "outputs": [
    {
     "name": "stdout",
     "output_type": "stream",
     "text": [
      "1209\n"
     ]
    }
   ],
   "source": [
    "import re\n",
    "print(len(error_list))\n",
    "df['category_ch'] = df.category.apply(lambda x: x.split('>')[1])\n",
    "df.category_ch = df.category_ch.apply(lambda x: re.sub('[^ㄱ-ㅎㅏ-ㅣ가-힣()]', '', x))\n",
    "df.category_ch.value_counts()\n",
    "df_ch = df.drop(['category', 'annoLevel', 'author'], axis = 1).copy()"
   ]
  },
  {
   "cell_type": "code",
   "execution_count": null,
   "metadata": {},
   "outputs": [],
   "source": [
    "df_ch.to_csv('C:/Workspace/python/빅데이터 지능형서비스 개발 팀프로젝트/Final Project/Data/국립국어원_말뭉치/비출판물(국립국어원).csv', index = False)"
   ]
  },
  {
   "cell_type": "code",
   "execution_count": 209,
   "metadata": {},
   "outputs": [
    {
     "data": {
      "text/html": [
       "<div>\n",
       "<style scoped>\n",
       "    .dataframe tbody tr th:only-of-type {\n",
       "        vertical-align: middle;\n",
       "    }\n",
       "\n",
       "    .dataframe tbody tr th {\n",
       "        vertical-align: top;\n",
       "    }\n",
       "\n",
       "    .dataframe thead th {\n",
       "        text-align: right;\n",
       "    }\n",
       "</style>\n",
       "<table border=\"1\" class=\"dataframe\">\n",
       "  <thead>\n",
       "    <tr style=\"text-align: right;\">\n",
       "      <th></th>\n",
       "      <th>title</th>\n",
       "      <th>content</th>\n",
       "      <th>category_ch</th>\n",
       "    </tr>\n",
       "  </thead>\n",
       "  <tbody>\n",
       "    <tr>\n",
       "      <th>0</th>\n",
       "      <td>아내의 생일상</td>\n",
       "      <td>어제는 아내의 생일이었다. 생일을 맞이하여 아침을 준비하겠다고 오전 8시 30분부터...</td>\n",
       "      <td>수필</td>\n",
       "    </tr>\n",
       "    <tr>\n",
       "      <th>1</th>\n",
       "      <td>소금이 온다</td>\n",
       "      <td>나는소금이 나오는 게곡에 가보고 싶어진다.</td>\n",
       "      <td>감상문</td>\n",
       "    </tr>\n",
       "    <tr>\n",
       "      <th>2</th>\n",
       "      <td>졸업</td>\n",
       "      <td>졸업식이 취소되어서 너무 아쉽다. 취소 이유는 중국 우한에서 처음 발병한 신종 코로...</td>\n",
       "      <td>일기</td>\n",
       "    </tr>\n",
       "    <tr>\n",
       "      <th>3</th>\n",
       "      <td>감사일기</td>\n",
       "      <td>우리는 살아감에있어서 감사보다는 늘 불평과 불만으로 부정적인 언어를 많이 사용하며 ...</td>\n",
       "      <td>감상문</td>\n",
       "    </tr>\n",
       "    <tr>\n",
       "      <th>4</th>\n",
       "      <td>환경과 패스트패션</td>\n",
       "      <td>기후변화와 환경문제가 먼 미래의 이슈나 남의 얘기가 아니라는 점은 이제 주지의 사실...</td>\n",
       "      <td>기타</td>\n",
       "    </tr>\n",
       "    <tr>\n",
       "      <th>...</th>\n",
       "      <td>...</td>\n",
       "      <td>...</td>\n",
       "      <td>...</td>\n",
       "    </tr>\n",
       "    <tr>\n",
       "      <th>9539</th>\n",
       "      <td>도서관가학원</td>\n",
       "      <td>8월 7일 수요일 날씨:변덕스러운날씨 나는오 늘 도서관가학원 을 갔 다 온디 엄마 ...</td>\n",
       "      <td>일기</td>\n",
       "    </tr>\n",
       "    <tr>\n",
       "      <th>9540</th>\n",
       "      <td>도깨비 감투</td>\n",
       "      <td>영감이 길을지나가다가 한감투를 밧는데 그걸 머리에 썼더니 안 보여서 사람에물건을 훔...</td>\n",
       "      <td>감상문</td>\n",
       "    </tr>\n",
       "    <tr>\n",
       "      <th>9541</th>\n",
       "      <td>할아버지와할머니 생신</td>\n",
       "      <td>8월 3일 날씨:쨍쨍하 면 시비가 많이온날 오늘은 할아버지와할머니가 생신을 같 이 ...</td>\n",
       "      <td>일기</td>\n",
       "    </tr>\n",
       "    <tr>\n",
       "      <th>9542</th>\n",
       "      <td>글독서</td>\n",
       "      <td>콩과 자라와 쇠똥과 소꼿이랑 멧돌이랑 멍석과 친구들이 할머니를 도와조서 자랑스럽다</td>\n",
       "      <td>감상문</td>\n",
       "    </tr>\n",
       "    <tr>\n",
       "      <th>9543</th>\n",
       "      <td>땅속나라 도둑괴물</td>\n",
       "      <td>주인공이아내랑 집에가고 있었는데 괴물이 아내를 데려갔는데 주인공이 되차자서 자랑스럽다.</td>\n",
       "      <td>감상문</td>\n",
       "    </tr>\n",
       "  </tbody>\n",
       "</table>\n",
       "<p>9544 rows × 3 columns</p>\n",
       "</div>"
      ],
      "text/plain": [
       "            title                                            content  \\\n",
       "0         아내의 생일상  어제는 아내의 생일이었다. 생일을 맞이하여 아침을 준비하겠다고 오전 8시 30분부터...   \n",
       "1          소금이 온다                            나는소금이 나오는 게곡에 가보고 싶어진다.   \n",
       "2              졸업  졸업식이 취소되어서 너무 아쉽다. 취소 이유는 중국 우한에서 처음 발병한 신종 코로...   \n",
       "3            감사일기  우리는 살아감에있어서 감사보다는 늘 불평과 불만으로 부정적인 언어를 많이 사용하며 ...   \n",
       "4       환경과 패스트패션  기후변화와 환경문제가 먼 미래의 이슈나 남의 얘기가 아니라는 점은 이제 주지의 사실...   \n",
       "...           ...                                                ...   \n",
       "9539       도서관가학원  8월 7일 수요일 날씨:변덕스러운날씨 나는오 늘 도서관가학원 을 갔 다 온디 엄마 ...   \n",
       "9540       도깨비 감투  영감이 길을지나가다가 한감투를 밧는데 그걸 머리에 썼더니 안 보여서 사람에물건을 훔...   \n",
       "9541  할아버지와할머니 생신  8월 3일 날씨:쨍쨍하 면 시비가 많이온날 오늘은 할아버지와할머니가 생신을 같 이 ...   \n",
       "9542          글독서      콩과 자라와 쇠똥과 소꼿이랑 멧돌이랑 멍석과 친구들이 할머니를 도와조서 자랑스럽다   \n",
       "9543    땅속나라 도둑괴물   주인공이아내랑 집에가고 있었는데 괴물이 아내를 데려갔는데 주인공이 되차자서 자랑스럽다.   \n",
       "\n",
       "     category_ch  \n",
       "0             수필  \n",
       "1            감상문  \n",
       "2             일기  \n",
       "3            감상문  \n",
       "4             기타  \n",
       "...          ...  \n",
       "9539          일기  \n",
       "9540         감상문  \n",
       "9541          일기  \n",
       "9542         감상문  \n",
       "9543         감상문  \n",
       "\n",
       "[9544 rows x 3 columns]"
      ]
     },
     "execution_count": 209,
     "metadata": {},
     "output_type": "execute_result"
    }
   ],
   "source": [
    "df_load = pd.read_csv('C:/Workspace/python/빅데이터 지능형서비스 개발 팀프로젝트/Final Project/Data/국립국어원_말뭉치/비출판물(국립국어원).csv')\n",
    "df_load"
   ]
  },
  {
   "cell_type": "code",
   "execution_count": 210,
   "metadata": {},
   "outputs": [
    {
     "data": {
      "text/plain": [
       "일기        3576\n",
       "수필        2036\n",
       "감상문       1393\n",
       "기타         825\n",
       "소설(동화)     753\n",
       "시(동시)      586\n",
       "편지글        375\n",
       "Name: category_ch, dtype: int64"
      ]
     },
     "execution_count": 210,
     "metadata": {},
     "output_type": "execute_result"
    }
   ],
   "source": [
    "df_load.category_ch.value_counts()"
   ]
  },
  {
   "cell_type": "code",
   "execution_count": 235,
   "metadata": {},
   "outputs": [
    {
     "data": {
      "text/plain": [
       "'수지는 눈앞에 놓인 종이를 만지작거린다. 모서리가 양장지로 감싸진 쪽지는 마치 수지가 이곳에 앉을 줄 알았다는 듯 바 맨 오른쪽 자리 위에 놓여있었다. 오늘 처음 발을 들인 바의 오묘한 분위기가 수지는 불쾌하지 않다. 오히려 익숙한 공간처럼 모든 것이 자연스럽다. 술병과 잔이 놓인 위치, 테이블과 의자의 배치, 바의 높이와 간격까지 언젠가 한 번 와본 듯한 느낌이다. 이렇게 분위기 좋은 바에 손님이 자신밖에 없다는 사실이 이상하다는 듯 고개를 갸우뚱하고는 내부를 찬찬히 살핀다. 바 안쪽에 진열된 술은 대부분 수지가 좋아하는 것들이다. 그중 그녀의 눈을 사로잡은 것은 라가불린 25년산. 평소 싱글몰트 위스키를 즐겨 마시는 수지로서는 단연 끌릴 수밖에 없는 술이다. 20년산이 넘어가는 순간 주머니 사정에 손이 떨리기 마련인데 오늘은 다 제쳐두고 마셔야겠다는 생각이 앞선다. 평소 여유로운 성격의 그녀지만 15분째 나타나지 않는 사장이 야속해진다. 메뉴판도 없는 것인지 아무 데도 보이지 않는다. 한숨을 쉰 뒤 좀 더 기다려보기로 마음먹은 수지의 머릿속에 문득 희수가 떠오른다. 희수는 그녀의 직장 동료로 오래전부터 그녀와 술 한잔하기를 한 해 계획에 추가했다. 왜 자신을 이렇게 좋아하는지 이해가 되지 않지만, 수지는 희수의 관심이 나쁘지 않다. 이전 직장에서 자신을 따라다니던 동기와는 다른 형태의 집착이랄까. 아니 어쩌면 희수는 집착이 아닐지도 모른다. 말만 늘어놓고 정작 오늘처럼 술을 마시는 날에는 사라져버리고 없는 희수가 어디서 무얼 하는지 궁금해진다. 수지는 집착의 주체가 희수가 아닐지도 모른다는 생각에 얼른 그를 지우고 다시 바를 쳐다본다. 대체 사장이라는 작자는 가게를 이토록 오래 비워두고 어디를 간 건지, 한없던 그녀의 여유로움도 바닥을 보일 때가 있는 것이다. 수지는 다시 가게의 문을 열고 나온다. 오른손에 들린 담배와 라이터, 그리고 바에 두고 온 가방은 그녀가 라가불린 25년산에 얼마나 큰 기대를 담았는지 여실히 보여준다. 사실 이렇게 한 번 마음 먹은 날에는 세워 둔 계획을 달성하고서야 직성이 풀리는 탓이다. 건너편 골목에서는 무슨 행사를 하는지 아리랑 노랫소리와 장구 소리가 울려 퍼진다. 종로답다고 생각하는 순간 노래는 끝이 난다. 조용해진 거리에 손에 들린 담배가 이어 소리를 낸다. 타닥타닥 타닥타닥 터벅터벅. 갑자기 가까워지는 걸음 소리에 가게 쪽으로 몸을 돌린 수지의 눈에 곧장 문을 열고 들어가는 실루엣이 보인다. 이유 모를 심호흡 뒤 가게로 들어간 그녀는 자신과 세 좌석 떨어진 곳에 앉은 예서를 응시한다.'"
      ]
     },
     "execution_count": 235,
     "metadata": {},
     "output_type": "execute_result"
    }
   ],
   "source": [
    "import re\n",
    "df_load.content = df_load.content.apply(lambda x: re.sub(\"[^ㄱ-ㅎㅏ-ㅣ가-힣A-Za-z0-9.,!?' ]\", '', x))\n",
    "df_load[df_load.category_ch == '소설(동화)'].reset_index(drop=True).content[43]"
   ]
  }
 ],
 "metadata": {
  "interpreter": {
   "hash": "fe3bab233825460445dbfeea6dcd52ef5815a3fa13c858fea07ac830aa383284"
  },
  "kernelspec": {
   "display_name": "Python 3.8.10 64-bit ('base': conda)",
   "language": "python",
   "name": "python3"
  },
  "language_info": {
   "codemirror_mode": {
    "name": "ipython",
    "version": 3
   },
   "file_extension": ".py",
   "mimetype": "text/x-python",
   "name": "python",
   "nbconvert_exporter": "python",
   "pygments_lexer": "ipython3",
   "version": "3.8.10"
  },
  "orig_nbformat": 4
 },
 "nbformat": 4,
 "nbformat_minor": 2
}
