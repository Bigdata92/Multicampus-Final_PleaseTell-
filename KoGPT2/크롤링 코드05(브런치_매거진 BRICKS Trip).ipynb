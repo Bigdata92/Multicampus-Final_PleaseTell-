{
 "cells": [
  {
   "cell_type": "code",
   "execution_count": 1,
   "metadata": {},
   "outputs": [],
   "source": [
    "# 필요 데이터 크롤링\n",
    "import requests\n",
    "import pandas as pd\n",
    "import time\n",
    "from selenium import webdriver\n",
    "from selenium.webdriver.common.keys import Keys\n",
    "from bs4 import BeautifulSoup\n",
    "from urllib.parse import quote\n",
    "from tqdm.notebook import tqdm\n",
    "from selenium.webdriver import ActionChains\n",
    "from selenium.webdriver.common.by import By"
   ]
  },
  {
   "cell_type": "code",
   "execution_count": 2,
   "metadata": {},
   "outputs": [
    {
     "name": "stderr",
     "output_type": "stream",
     "text": [
      "<ipython-input-2-6f00b532c80b>:1: DeprecationWarning: executable_path has been deprecated, please pass in a Service object\n",
      "  driver = webdriver.Chrome(executable_path = 'C:/Users/Bestc/Desktop/빅데이터 지능형 서비스 개발과정(멀티캠퍼스)/설치프로그램/Selenium/chromedriver.exe')\n"
     ]
    }
   ],
   "source": [
    "driver = webdriver.Chrome(executable_path = 'C:/Users/Bestc/Desktop/빅데이터 지능형 서비스 개발과정(멀티캠퍼스)/설치프로그램/Selenium/chromedriver.exe')\n",
    "URL = 'https://brunch.co.kr/magazine/brickstrip'\n",
    "driver.get(URL)"
   ]
  },
  {
   "cell_type": "code",
   "execution_count": 3,
   "metadata": {},
   "outputs": [
    {
     "data": {
      "application/vnd.jupyter.widget-view+json": {
       "model_id": "fbcc957eba9c48e5962e5ed00d7d3eb7",
       "version_major": 2,
       "version_minor": 0
      },
      "text/plain": [
       "  0%|          | 0/10 [00:00<?, ?it/s]"
      ]
     },
     "metadata": {},
     "output_type": "display_data"
    }
   ],
   "source": [
    "from tqdm.notebook import tqdm\n",
    "\n",
    "for _ in tqdm(range(10)):\n",
    "    driver.execute_script(\"window.scrollTo(0, document.body.scrollHeight);\")\n",
    "    time.sleep(3)"
   ]
  },
  {
   "cell_type": "code",
   "execution_count": 4,
   "metadata": {},
   "outputs": [
    {
     "data": {
      "application/vnd.jupyter.widget-view+json": {
       "model_id": "6d3c6a0655294508819e3e87e165c13b",
       "version_major": 2,
       "version_minor": 0
      },
      "text/plain": [
       "  0%|          | 0/106 [00:00<?, ?it/s]"
      ]
     },
     "metadata": {},
     "output_type": "display_data"
    }
   ],
   "source": [
    "import re\n",
    "from hanspell import spell_checker # 최대 500자까지만 가능하기에 문장을 나눠서 반복해야함.\n",
    "def spell_check(sequence):\n",
    "    result = spell_checker.check(sequence)\n",
    "    checked_sequence = result.checked\n",
    "    return checked_sequence\n",
    "\n",
    "title_list = []\n",
    "content_list = []\n",
    "\n",
    "for i in tqdm(range(1, 107)): # 해당 페이지 글이 106개\n",
    "    driver.find_element(By.XPATH, f'/html/body/div[3]/div[2]/ul/li[{i}]/a').send_keys(Keys.CONTROL + \"\\n\")\n",
    "    time.sleep(3)\n",
    "    driver.switch_to.window(driver.window_handles[1])\n",
    "    title = driver.find_element(By.XPATH, f'/html/body/div[3]/div[1]/div[1]/div/div[3]/h1').text\n",
    "    title_list.append(title)\n",
    "    text = driver.find_element(By.XPATH, f'/html/body/div[3]/div[1]/div[2]/div[1]').text\n",
    "    text_list = []\n",
    "    for text in text.split('\\n'):\n",
    "        if '여행 매거진 BRICKS' not in text and text != '' and '()' not in text:\n",
    "            text_list.append(text)\n",
    "    # 불필요한 문장 제거를 위해 앞뒤에 있는 메일주소 및 글 제목만 제외 / text_list[2:-4]\n",
    "    content = re.sub('[^ㄱ-ㅎㅏ-ㅣ가-힣0-9.()A-Za-z:?! ]', '', ' '.join(text_list[2:-4]))\n",
    "    # print(len(content.split('. ')))\n",
    "    content = content.replace(' )', ')')\n",
    "    content = content.replace('( ', '(')\n",
    "    content = content.replace('(중략)', ' ')\n",
    "    content = content.replace('  ', ' ')\n",
    "    content = content.replace('  ', ' ')\n",
    "    content_list.append(content)\n",
    "    driver.close()\n",
    "    driver.switch_to.window(driver.window_handles[0])"
   ]
  },
  {
   "cell_type": "code",
   "execution_count": 5,
   "metadata": {},
   "outputs": [],
   "source": [
    "df_trip_city = pd.DataFrame({'title' : title_list, 'content' : content_list})\n",
    "df_trip_city.to_csv('C:/Workspace/python/빅데이터 지능형서비스 개발 팀프로젝트/Final Project/Data/KoGPT2_Data/Crawling Data/df_trip_trip.csv', index= False)\n",
    "df_trip_city['content'].to_csv('C:/Workspace/python/빅데이터 지능형서비스 개발 팀프로젝트/Final Project/Data/KoGPT2_Data/Crawling Data/df_trip_trip.txt', index= False)"
   ]
  },
  {
   "cell_type": "code",
   "execution_count": 6,
   "metadata": {},
   "outputs": [
    {
     "data": {
      "text/plain": [
       "'아침을 먹으며 이런저런 이야기를 하니 분위기가 사뭇 좋았다. 이들에게 뭘 해주면 좋을까 생각하다가 요가 선생님이 만들어준 호흡 오일을 가져와서 마마에게 한 방울 권해봤다. 좋은 향은 누구나 좋아하지 않을까 하는 단순한 생각에서 요가원에서 가르쳐준 것처럼 한두 방울 손에 떨어트려서 한 뼘 정도 코앞에 손을 대고 깊은 호흡을 한 뒤 목에 바르라고 알려 드렸는데 생각보다 너무 좋아해서 깜짝 놀랐다. 이들에게는 내가 평생 처음 만나 보는 한국인이며 이들이 생각하는 한국의 이미지는 아름다운 여자다. 페루에서도 한국 드라마와 KPOP의 인기가 높은데 KPOP이 BTS까지 따라온 것에 비해 이곳 산속의 한국 드라마는 아직 천국의 계단과 드림 하이에 머물러 있다. 뻐꾸기 우는 페루의 산속에서 천국의 계단을 보면서 눈물을 줄줄 흘리는 마마를 상상하니 빙그레 웃음이 났다. 넬슨이 어머니가 어제 갑자기 손님을 치르느라 두통이 조금 있었는데 이 오일이 굉장히 효과가 좋은 것 같다 하신다고 통역해주었다. 마마는 넬슨에게도 때마침 아침 농사일을 마치고 현관문을 빼꼼 열고 들어오는 파파에게도 해보라며 어서어서 하고 떠밀었다. 그들은 내가 그들의 와츄마 약을 보며 신기해한 것처럼 아시아 여성이 가져온 새로운 약에 매우 감탄하는 분위기였다. 우리에게 남미가 신비와 환상의 대륙이듯 그들도 거울처럼 우리를 그렇게 보고 있었다. 잘 모르는 것은 언제나 두려움과 호기심의 대상이 되기 마련이다. 내게 여섯 종류의 다른 오일이 있으니 내일은 또 다른 오일을 선보이겠노라고 약속했다. 어제 열네 명의 손님들이 들이닥쳐서 저녁을 먹었기 때문에 접시와 숟가락 컵이 산처럼 쌓여 있었다. 오늘 할 일은 집 청소야. 테이블 좀 정리해줄래? 그동안 넬슨은 크리스티앙이 주관하는 제의 프로그램 포스터를 집 앞에 걸 틀을 만들었다. 마당에서 원형 톱으로 나무를 자르는 바람에 톱밥이 온 집 안에 구름처럼 날렸다. 나 같았으면 기겁을 하고 청소기 돌리랴 걸레로 닦으랴 호들갑 떨 만도 한데 이들은 흙에서 빚어진 인형처럼 흙과 가까이 살기 때문에 이렇게 자연에서 나는 먼지 정도는 아무렇지도 않은 것 같다. 앞치마를 했다고는 하지만 마마도 흙바닥에 깔개도 없이 주저앉아 마늘을 까는 것이 보통이다. 흙은 이들 주변 어디에나 있다. 그래 자동차 매연보다는 흙먼지가 낫지 않겠어 하고 마음을 편하게 먹기로 했다. 정리를 끝낸 내가 어슬렁거리자 넬슨이 그럼 설거지를 네가 하는 게 어때? 하고 묻는다. 설거지는 별로 하고 싶지 않은데 어떻게 거절하는 마음을 전하면 좋을까. 한껏 미소를 지으며 아아 혹시 장갑이 있니? 시치미를 떼고 되물었다. 맨손으로 이 많은 설거지를 하라니 그건 좀 너무하잖니. 넬슨은 내 마음을 눈치챘는지 그럼 비질을 하라고 빗자루를 넘겨준다. 그래 원래 설거지는 넬슨의 몫이었다. 흙은 이들 삶의 일부이다 헬퍼로서 호스트와 좋은 관계를 맺는 첫 번째 팁은 이쪽에서 먼저 도와줄까요? 하고 묻는 것이다. 그때는 시켜서 하는 일이 아닌 진정한 도움이 되니 내 쪽에서도 기분이 좋다. 별다른 노력이 필요하지 않은 일이라면 먼저 이쪽에서 돕겠다고 하는 편이 낫다. 그런 것들이 쌓이면 좋은 분위기를 형성할 수 있다. 두 번째 팁은 하고 싶지 않은 일에 대해서는 정확히 이야기하는 것이다. 그러나 그냥 하기 싫어라고 해서는 안 된다. 내 경우에는 정말 하고 싶지 않은 일이 아니라면 일단 하루 정도는 열심히 해보고 그래도 여전히 하기 싫으면 그때 가서 이야기한다. 또 정말 하고 싶지 않은 일은 왜 하고 싶지 않은지 예의 바르게 우회적으로 전달할 필요가 있다. 직장에서 일할 때도 물론 그렇지만 나는 헬퍼에게는 무엇보다 자존감이 대단히 중요하다고 생각한다. 내가 좋은 관계를 지속하며 오랫동안 머물 수 있던 곳들은 모두 헬퍼를 하나의 인격으로 존중했던 곳들이다. 허드렛일이나 하면서 공짜로 먹고 자는 사람을 헬퍼라고 생각하는 기미가 조금이라도 보이는 곳은 헬프엑스의 정신에 맞지 않는다. 우리가 별것 아니라고 생각했던 일들이 실은 매우 존중받아야 하는 노동이라는 사실은 좋은 재료로 좋은 음식을 만들어 내 몸을 먹이는 것을 비롯해 수많은 가사 노동 육아 그밖에 노동으로 존중받지 못하는 사회적 서비스들 시대가 변할수록 더욱 확실해지고 있다. 헬프엑스도 마찬가지로 노동에 대한 올바른 인정과 존중을 필연적으로 전제한다. 헬퍼는 단지 노동력만 제공하는 것이 아니다. 헬퍼는 외부인의 시선을 가져다준다. 건강한 자존감으로 무장한 헬퍼는 여행자의 유연성과 창의성 외국인의 신선한 관점을 선물처럼 가져온다. 그것은 현명한 이들이 그렇게도 갖고 싶어 하는 관점 바로 낯설게 보기다. 호스트는 헬퍼의 이러한 특성을 적극적으로 이해하고 활용해야 할 것이다. 헬퍼도 자신의 강점을 정확히 알고 하기 싫은 일을 억지로 할 바에는 차라리 솔직하게 이야기하고 마음이 가는 다른 일을 열심히 돕는 편이 낫다. 세 번째 팁은 호스트의 물건을 내 물건처럼 소중히 쓰는 것이다. 게스트하우스를 운영하며 물건을 낭비하는 사람이 얼마나 많았으면 넬슨이 휴지와 물은 개인적으로 사서 쓰란다. 유럽에서 헬프엑스를 하면서는 그런 일이 없었다. 처음에는 잠시 야박하다고 생각했으나 곧 합리적이라는 생각이 들었다. 나도 누군가를 내 집에 들였을 때 처음에는 그런 소모품은 개인이 알아서 구매해서 쓰길 바랐다. 이를테면 세탁 세제 같은 것. 사람들은 자기 것으로 생각해야 아끼는 법이다. 조금 나아간 생각이지만 호스트의 물건도 그럴진대 하물며 지구는 어떻겠는가. 어쨌든 내 물건을 자신의 물건처럼 아껴줄 것이라고 믿을 수 있는 사람들과는 뭐든 공유할 수 있지만 그렇게 신뢰가 쌓이기까지는 시간이 조금 필요하다. 헬퍼는 이러한 호스트의 입장을 이해하고 호스트의 사소한 물건 하나까지 존중하는 태도가 필요하다. 그리고 대화를 통해 이러한 생각을 호스트에게 조금은 어필할 필요가 있다. 비질을 다 하고 났더니 쉬라는데 사실 쉬어도 딱히 할 일이 없다. 첫날부터 일할 시간에 방 안에 들어가서 편하게 쉴 수는 없는 노릇이었다. 마마가 감자를 한 포대 가지고 나와서 깎기 시작하는 걸 보고 나도 슬그머니 칼을 들고 옆에 앉았다. 마마와 말이 거의 통하지 않지만 대충 그녀가 무슨 이야기를 하고 싶은지는 눈치로 알 수 있었다. 마마는 오늘도 예외 없이 원주민 복장을 하고 돌에 턱 걸터앉아서 슥슥 감자를 깎는다. 페루의 감자칼은 세로로 절반으로 잘린 꼬깔콘처럼 생겼다. 그 칼이 익숙하지 않아서 처음에는 과도를 집었지만 마마가 감자 칼 사용 방법을 알려줘서 금방 그것으로 바꿔 잡기로 했다. 검지로 살짝 누르듯이 돌려 깎는 것이 요령인데 조금 익숙해지니 수많은 감자를 깎기에 이만한 도구가 없다. 고깔의 끝으로는 싹이 난 부분까지 한 번에 파낼 수 있어서 또 다른 칼로 바꿔 잡고 마무리 손질할 필요도 없었다. 역시 감자의 나라 페루다. 세계의 약 5000종의 감자 중 3000종이 페루에 있고 세계감자연구소도 페루에 있다. 감자가 페루인의 식탁에서 얼마나 중요한지 페루에서는 매년 5월 30일을 감자의 날로 정해 놓고 기념하고 있을 정도다. 새끼 사슴이 감자 껍질을 먹으려고 코를 들이대고 새끼 고양이가 허리 숙인 내 어깨 위로 폴짝 뛰어 올라와 모자 끈을 잡으려고 장난을 치다가 꾸벅꾸벅 존다. 마마와 나는 몸으로 수다를 떨면서 반 포대의 감자를 깎았다. 흡족한 표정으로 마마가 말했다. Muchas Gracias (정말 고마워) De Nada (별말씀을) 내가 제일 잘하는 스페인어로 화답했다. 넬슨이 우아라스 시내에 볼일이 있다고 해서 우리는 느긋하게 아침을 보내고 (체감 상 비질 외에는 일도 별로 한 것 같지 않다. 감자 깎기와 마늘 까기는 한국에서 어머니를 도왔던 것에 비하면 애교 수준이다) 점심까지 든든히 먹은 다음 시내로 내려가는 미니버스를 탔다. 엊그제 도착한 또 다른 헬퍼인 스페인 커플 A와 V가 라마에게 풀을 먹이러 산에 다녀와서 합류했다. 아침에 산에 모자를 쓰지 않고 갔더니 A는 빡빡 민 머리가 따끔거린다고 했다. 화상을 입었나 봐. 시내로 가서 꼭 모자를 사겠다고 다짐하고 있었다. 넬슨의 집 앞에 아주 조그만 구멍가게가 하나 있는데 그 앞에서 당나귀와 양 등을 몰고 가는 원주민 아주머니들을 구경하면서 기다리다 보면 종점을 돌아 내려오는 버스를 탈 수 있다. 산을 올라오는 것은 1.5솔(한화 약 520원) 내려가는 것은 1.3솔이다. 나름 합리적이라고 할 수 있다. 고작 1.3솔 내는데 가진 것이 지갑에 있는 것이 20솔짜리 지폐뿐이라서 넬슨에게 돈을 빌렸다. 호스트의 집에서는 내 돈을 쓸 일이 별로 없어서 큰 지폐를 깨기가 힘들다. 구멍가게에 가서 맥주 한 병을 사고 100솔을 내면 주인아저씨가 깜짝 놀라며 매우 난감해한다. 산속의 비포장도로를 미니버스가 만화처럼 덜컹거리며 달려 내려간다. 우리나라 마을버스가 폐차 직전의 버스라고 하지만 이곳의 버스는 그 폐차를 고쳐서 겨우 굴리는 것 같다. 이곳저곳 칠이 벗겨지고 낡을 대로 낡은 이 가련한 미니버스는 덜컹거릴 때마다 부품이 하나씩 빠져서 어디론가 도망가 버리지 않을까 하고 탑승한 이에게 걱정마저 들게 한다. 산속을 오르내리는 미니버스 버스는 사람들을 잔뜩 싣고 달린다. 서로 허벅지와 어깨와 무릎이 붙었고 엉덩이가 큰 페루 아주머니는 의자에 반만 걸터앉을 수 있을 만큼 끼여 앉는데도 차장은 영원히 만족스럽지 않다는 듯 꾸역꾸역 사람을 태웠다. 엉덩이가 머리를 치고 가방이 귀를 때리지만 이 버스가 아니면 산에서 내려갈 방법이 없다는 것을 알고 있으니 모두 웃으며 양해한다. 서울의 지하철 9호선이 콩나물시루라면 윌카와인까지 올라오는 이 미니버스는 콩나물의 머리까지 꺾어버린 시루다. 허리를 꼿꼿이 세우면 내 앉은키로도 천장에 머리가 닿을락 말락할 정도라 자리에 앉지 못한 가여운 사람들은 기역 자든 니은 자든 몸을 꺾은 채 30분을 보내야 한다.'"
      ]
     },
     "execution_count": 6,
     "metadata": {},
     "output_type": "execute_result"
    }
   ],
   "source": [
    "pd.read_csv('C:/Workspace/python/빅데이터 지능형서비스 개발 팀프로젝트/Final Project/Data/KoGPT2_Data/Crawling Data/df_trip_trip.csv').content[5]"
   ]
  }
 ],
 "metadata": {
  "interpreter": {
   "hash": "fe3bab233825460445dbfeea6dcd52ef5815a3fa13c858fea07ac830aa383284"
  },
  "kernelspec": {
   "display_name": "Python 3.8.10 64-bit ('base': conda)",
   "language": "python",
   "name": "python3"
  },
  "language_info": {
   "codemirror_mode": {
    "name": "ipython",
    "version": 3
   },
   "file_extension": ".py",
   "mimetype": "text/x-python",
   "name": "python",
   "nbconvert_exporter": "python",
   "pygments_lexer": "ipython3",
   "version": "3.8.10"
  },
  "orig_nbformat": 4
 },
 "nbformat": 4,
 "nbformat_minor": 2
}
