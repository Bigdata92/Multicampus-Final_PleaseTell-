{
 "cells": [
  {
   "cell_type": "code",
   "execution_count": 3,
   "metadata": {},
   "outputs": [],
   "source": [
    "import os\n",
    "import json"
   ]
  },
  {
   "cell_type": "code",
   "execution_count": 56,
   "metadata": {},
   "outputs": [],
   "source": [
    "import json # 체크포인트를 로드하여 작업시 필요한 수치들 저장\n",
    "path = 'C:/Workspace/python/빅데이터 지능형서비스 개발 팀프로젝트/Final Project/Data/IC_Data/멀티모달 데이터/멀티모달/멀티모달_분야/'\n",
    "path_part = path + os.listdir(path)[0] + '/'\n",
    "path_part_dt01 = path_part + os.listdir(path_part)[0] + '/'\n",
    "for i in range(len(os.listdir(path_part_dt01))): \n",
    "    if 'mp4' in os.listdir(path_part_dt01)[i]:\n",
    "        video =  path_part_dt01 + os.listdir(path_part_dt01)[i]\n",
    "        os.remove(video)"
   ]
  },
  {
   "cell_type": "code",
   "execution_count": 108,
   "metadata": {},
   "outputs": [
    {
     "data": {
      "application/vnd.jupyter.widget-view+json": {
       "model_id": "61d328b514384afbb8071f4e27b48cb0",
       "version_major": 2,
       "version_minor": 0
      },
      "text/plain": [
       "  0%|          | 0/5 [00:00<?, ?it/s]"
      ]
     },
     "metadata": {},
     "output_type": "display_data"
    },
    {
     "data": {
      "application/vnd.jupyter.widget-view+json": {
       "model_id": "17074a0c65154011a2c970dc40df9fc9",
       "version_major": 2,
       "version_minor": 0
      },
      "text/plain": [
       "  0%|          | 0/600 [00:00<?, ?it/s]"
      ]
     },
     "metadata": {},
     "output_type": "display_data"
    },
    {
     "data": {
      "application/vnd.jupyter.widget-view+json": {
       "model_id": "e39be23fd1a948c0848425f727761e11",
       "version_major": 2,
       "version_minor": 0
      },
      "text/plain": [
       "  0%|          | 0/593553 [00:00<?, ?it/s]"
      ]
     },
     "metadata": {},
     "output_type": "display_data"
    }
   ],
   "source": [
    "from tqdm.notebook import tqdm\n",
    "\n",
    "video_list = []\n",
    "photo_list = []\n",
    "path = 'C:/Workspace/python/빅데이터 지능형서비스 개발 팀프로젝트/Final Project/Data/IC_Data/멀티모달 데이터/멀티모달/멀티모달_분야/'\n",
    "for t in tqdm(range(len(os.listdir(path)))):\n",
    "    path_part = path + os.listdir(path)[t] + '/'\n",
    "    for i in range(len(os.listdir(path_part))):\n",
    "        path_part_dt01 = path_part + os.listdir(path_part)[i] + '/'\n",
    "        for k in range(len(os.listdir(path_part_dt01))): \n",
    "            if 'mp4' in os.listdir(path_part_dt01)[k]:\n",
    "                video =  path_part_dt01 + os.listdir(path_part_dt01)[k]\n",
    "                video_list.append(video)\n",
    "        for folder_name in os.listdir(path_part_dt01):\n",
    "            if '.' not in folder_name:\n",
    "                path_part_dt02 = path_part_dt01 + folder_name + '/'\n",
    "        for folder_name in os.listdir(path_part_dt02):\n",
    "            if '.' not in folder_name:\n",
    "                path_part_dt03 = path_part_dt02 + folder_name + '/'\n",
    "                for photo in os.listdir(path_part_dt03)[1:]:\n",
    "                    photo_name = path_part_dt03 + photo\n",
    "                    photo_list.append(photo_name)   \n",
    "\n",
    "for video in tqdm(video_list):\n",
    "    os.remove(video)\n",
    "for photo in tqdm(photo_list):\n",
    "    os.remove(photo)"
   ]
  },
  {
   "cell_type": "code",
   "execution_count": 106,
   "metadata": {},
   "outputs": [
    {
     "data": {
      "text/plain": [
       "[]"
      ]
     },
     "execution_count": 106,
     "metadata": {},
     "output_type": "execute_result"
    }
   ],
   "source": [
    "photo_list"
   ]
  }
 ],
 "metadata": {
  "language_info": {
   "name": "python"
  },
  "orig_nbformat": 4
 },
 "nbformat": 4,
 "nbformat_minor": 2
}
