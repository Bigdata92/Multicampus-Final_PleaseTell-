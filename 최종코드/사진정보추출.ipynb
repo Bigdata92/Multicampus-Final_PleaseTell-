{
 "cells": [
  {
   "cell_type": "markdown",
   "metadata": {},
   "source": [
    "# 사진에서 정보추출"
   ]
  },
  {
   "cell_type": "code",
   "execution_count": 12,
   "metadata": {},
   "outputs": [],
   "source": [
    "from PIL import Image\n",
    "from PIL.ExifTags import TAGS\n",
    "\n",
    "img_path = 'C:/Workspace/python/빅데이터 지능형서비스 개발 팀프로젝트/Final Project/Homepage/static/images/Upload_Images/20211117_220231.jpg'\n",
    "image = Image.open(img_path)\n",
    "info = image._getexif();\n",
    "image.close()"
   ]
  },
  {
   "cell_type": "code",
   "execution_count": 25,
   "metadata": {},
   "outputs": [
    {
     "name": "stdout",
     "output_type": "stream",
     "text": [
      "{'ImageWidth': 4032, 'ImageLength': 1816, 'ResolutionUnit': 2, 'ExifOffset': 226, 'Make': 'samsung', 'Model': 'SM-G991N', 'Software': 'G991NKSS3AUIN', 'Orientation': 6, 'DateTime': '2021:11:17 22:02:31', 'YCbCrPositioning': 1, 'XResolution': 72.0, 'YResolution': 72.0, 'ExifVersion': b'0220', 'ShutterSpeedValue': 0.030303030303030304, 'ApertureValue': 1.69, 'DateTimeOriginal': '2021:11:17 22:02:31', 'DateTimeDigitized': '2021:11:17 22:02:31', 'ExposureBiasValue': 0.0, 'MaxApertureValue': 1.69, 'MeteringMode': 2, 'ColorSpace': 1, 'Flash': 0, 'FocalLength': 5.4, 'ExifImageWidth': 4032, 'ExifImageHeight': 1816, 'DigitalZoomRatio': 1.0, 'FocalLengthIn35mmFilm': 26, 'SceneCaptureType': 0, 'OffsetTime': '+09:00', 'OffsetTimeOriginal': '+09:00', 'ExposureTime': 0.030303030303030304, 'FNumber': 1.8, 'ImageUniqueID': 'R12LLMF00SM', 'ExposureProgram': 2, 'ISOSpeedRatings': 500, 'ExposureMode': 0, 'WhiteBalance': 0}\n"
     ]
    },
    {
     "data": {
      "text/plain": [
       "'2021:11:17 22:02:31'"
      ]
     },
     "execution_count": 25,
     "metadata": {},
     "output_type": "execute_result"
    }
   ],
   "source": [
    "taglabel = dict()\n",
    "\n",
    "for tag, value in info.items():\n",
    "    decoded = TAGS.get(tag, tag)\n",
    "    taglabel[decoded] = value\n",
    "\n",
    "print(taglabel)\n",
    "taglabel['DateTime']"
   ]
  },
  {
   "cell_type": "code",
   "execution_count": 29,
   "metadata": {},
   "outputs": [
    {
     "data": {
      "text/plain": [
       "'날짜 : 2021. 11. 17'"
      ]
     },
     "execution_count": 29,
     "metadata": {},
     "output_type": "execute_result"
    }
   ],
   "source": [
    "date = taglabel['DateTime']\n",
    "date_list = date.split()\n",
    "ymd = date_list[0]\n",
    "date = '날짜 : ' + '. '.join(ymd.split(':'))\n",
    "date"
   ]
  }
 ],
 "metadata": {
  "interpreter": {
   "hash": "fe3bab233825460445dbfeea6dcd52ef5815a3fa13c858fea07ac830aa383284"
  },
  "kernelspec": {
   "display_name": "Python 3.8.10 64-bit ('base': conda)",
   "language": "python",
   "name": "python3"
  },
  "language_info": {
   "codemirror_mode": {
    "name": "ipython",
    "version": 3
   },
   "file_extension": ".py",
   "mimetype": "text/x-python",
   "name": "python",
   "nbconvert_exporter": "python",
   "pygments_lexer": "ipython3",
   "version": "3.8.10"
  },
  "orig_nbformat": 4
 },
 "nbformat": 4,
 "nbformat_minor": 2
}
