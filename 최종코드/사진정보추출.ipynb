{
 "cells": [
  {
   "cell_type": "markdown",
   "metadata": {},
   "source": [
    "# 사진에서 정보추출(날짜정보)"
   ]
  },
  {
   "cell_type": "code",
   "execution_count": 6,
   "metadata": {},
   "outputs": [],
   "source": [
    "from PIL import Image\n",
    "from PIL.ExifTags import TAGS\n",
    "\n",
    "img_path = 'C:/Workspace/python/빅데이터 지능형서비스 개발 팀프로젝트/Final Project/Data/IC_Data/test_images/sea2.jpg'\n",
    "image = Image.open(img_path)\n",
    "info = image._getexif();\n",
    "image.close()"
   ]
  },
  {
   "cell_type": "code",
   "execution_count": 21,
   "metadata": {},
   "outputs": [
    {
     "name": "stdout",
     "output_type": "stream",
     "text": [
      "True\n"
     ]
    },
    {
     "data": {
      "text/plain": [
       "True"
      ]
     },
     "execution_count": 21,
     "metadata": {},
     "output_type": "execute_result"
    }
   ],
   "source": [
    "taglabel = dict()\n",
    "\n",
    "for tag, value in info.items():\n",
    "    decoded = TAGS.get(tag, tag)\n",
    "    taglabel[decoded] = value\n",
    "\n",
    "# print(taglabel)\n",
    "print('DateTimeOriginal' in taglabel.keys())\n",
    "'DateTime' in taglabel.keys()"
   ]
  },
  {
   "cell_type": "code",
   "execution_count": 23,
   "metadata": {},
   "outputs": [
    {
     "name": "stdout",
     "output_type": "stream",
     "text": [
      "2021:05:02 09:50:04\n"
     ]
    }
   ],
   "source": [
    "print(taglabel['DateTime'])"
   ]
  },
  {
   "cell_type": "code",
   "execution_count": 24,
   "metadata": {},
   "outputs": [
    {
     "data": {
      "text/plain": [
       "'날짜 : 2021. 05. 02'"
      ]
     },
     "execution_count": 24,
     "metadata": {},
     "output_type": "execute_result"
    }
   ],
   "source": [
    "date = taglabel['DateTime']\n",
    "date_list = date.split()\n",
    "ymd = date_list[0]\n",
    "date = '날짜 : ' + '. '.join(ymd.split(':'))\n",
    "date"
   ]
  },
  {
   "cell_type": "markdown",
   "metadata": {},
   "source": [
    "# 사진에서 정보추출(위치정보)"
   ]
  },
  {
   "cell_type": "code",
   "execution_count": 25,
   "metadata": {},
   "outputs": [
    {
     "data": {
      "text/plain": [
       "{1: 'N',\n",
       " 2: (38.0, 11.0, 32.43),\n",
       " 3: 'E',\n",
       " 4: (128.0, 36.0, 15.3),\n",
       " 5: b'\\x00',\n",
       " 6: 1.0,\n",
       " 29: '2021:05:02'}"
      ]
     },
     "execution_count": 25,
     "metadata": {},
     "output_type": "execute_result"
    }
   ],
   "source": [
    "taglabel['GPSInfo']"
   ]
  },
  {
   "cell_type": "code",
   "execution_count": 27,
   "metadata": {},
   "outputs": [],
   "source": [
    "import numpy as np\n",
    "latDeg = taglabel['GPSInfo'][2][0]\n",
    "latMin = taglabel['GPSInfo'][2][1]\n",
    "latSec = taglabel['GPSInfo'][2][2]\n",
    "# latDeg, latMin, latSec\n",
    "lonDeg = taglabel['GPSInfo'][4][0]\n",
    "lonMin = taglabel['GPSInfo'][4][1]\n",
    "lonSec = taglabel['GPSInfo'][4][2]\n",
    "# lonDeg, lonMin, lonSec\n",
    "x = (int(latDeg)+(int(latMin)/60)+(int(latSec)/3600))\n",
    "y = int(lonDeg)+(int(lonMin)/60)+(int(lonSec)/3600)\n",
    "Lat = f'''{str(int(latDeg))}°{str(int(latMin))}'{str(latSec)}\"{taglabel[\"GPSInfo\"][1]}'''\n",
    "Lon = str(int(lonDeg)) + \"°\" + (str(int(lonMin)) + \"'\") + (str(lonSec) + '\"') + taglabel['GPSInfo'][3]"
   ]
  },
  {
   "cell_type": "code",
   "execution_count": 29,
   "metadata": {},
   "outputs": [
    {
     "data": {
      "text/plain": [
       "51"
      ]
     },
     "execution_count": 29,
     "metadata": {},
     "output_type": "execute_result"
    }
   ],
   "source": [
    "# key 호출\n",
    "filename= 'C:/Workspace/python/빅데이터 지능형서비스 개발 팀프로젝트/Final Project/Data/mapkey.txt'\n",
    "\n",
    "with open(filename) as f:\n",
    "  api_key = f.read()\n",
    "client_id = api_key.split('\\n')[0]\n",
    "client_secret = api_key.split('\\n')[1]\n",
    "len(api_key)"
   ]
  },
  {
   "cell_type": "code",
   "execution_count": 30,
   "metadata": {},
   "outputs": [
    {
     "name": "stdout",
     "output_type": "stream",
     "text": [
      "{'status': {'code': 0, 'name': 'ok', 'message': 'done'}, 'results': [{'name': 'legalcode', 'code': {'id': '4221010800', 'type': 'L', 'mappingId': '01210108'}, 'region': {'area0': {'name': 'kr', 'coords': {'center': {'crs': '', 'x': 0.0, 'y': 0.0}}}, 'area1': {'name': '강원도', 'coords': {'center': {'crs': 'EPSG:4326', 'x': 128.3115261, 'y': 37.8603672}}, 'alias': '강원'}, 'area2': {'name': '속초시', 'coords': {'center': {'crs': 'EPSG:4326', 'x': 128.59184, 'y': 38.207169}}}, 'area3': {'name': '조양동', 'coords': {'center': {'crs': 'EPSG:4326', 'x': 128.590788, 'y': 38.187618}}}, 'area4': {'name': '', 'coords': {'center': {'crs': '', 'x': 0.0, 'y': 0.0}}}}}]}\n"
     ]
    }
   ],
   "source": [
    "# 위치정보 추출(api 활용)\n",
    "import requests\n",
    "\n",
    "url = f\"https://naveropenapi.apigw.ntruss.com/map-reversegeocode/v2/gc?coords={y},{x}&sourcecrs=epsg:4326&orders=legalcode&output=json&orders=addr,admcode,roadaddr\"\n",
    "\n",
    "payload={}\n",
    "headers = {\n",
    "  'X-NCP-APIGW-API-KEY-ID': client_id,\n",
    "  'X-NCP-APIGW-API-KEY': client_secret\n",
    "}\n",
    "\n",
    "response = requests.get(url, headers=headers, data=payload).json()\n",
    "print(response)"
   ]
  },
  {
   "cell_type": "code",
   "execution_count": 33,
   "metadata": {},
   "outputs": [
    {
     "data": {
      "text/plain": [
       "'강원도 속초시'"
      ]
     },
     "execution_count": 33,
     "metadata": {},
     "output_type": "execute_result"
    }
   ],
   "source": [
    "response['results'][0]['region']['area1']['name'] + ' ' + response['results'][0]['region']['area2']['name']"
   ]
  },
  {
   "cell_type": "markdown",
   "metadata": {},
   "source": [
    "# 사진에서 정보추출(기상정보)"
   ]
  },
  {
   "cell_type": "code",
   "execution_count": 47,
   "metadata": {},
   "outputs": [
    {
     "data": {
      "text/html": [
       "<div>\n",
       "<style scoped>\n",
       "    .dataframe tbody tr th:only-of-type {\n",
       "        vertical-align: middle;\n",
       "    }\n",
       "\n",
       "    .dataframe tbody tr th {\n",
       "        vertical-align: top;\n",
       "    }\n",
       "\n",
       "    .dataframe thead th {\n",
       "        text-align: right;\n",
       "    }\n",
       "</style>\n",
       "<table border=\"1\" class=\"dataframe\">\n",
       "  <thead>\n",
       "    <tr style=\"text-align: right;\">\n",
       "      <th></th>\n",
       "      <th>지점</th>\n",
       "      <th>지점명</th>\n",
       "      <th>관리관서</th>\n",
       "    </tr>\n",
       "  </thead>\n",
       "  <tbody>\n",
       "    <tr>\n",
       "      <th>0</th>\n",
       "      <td>90</td>\n",
       "      <td>속초</td>\n",
       "      <td>강원지방기상청</td>\n",
       "    </tr>\n",
       "    <tr>\n",
       "      <th>1</th>\n",
       "      <td>93</td>\n",
       "      <td>북춘천</td>\n",
       "      <td>춘천기상대</td>\n",
       "    </tr>\n",
       "    <tr>\n",
       "      <th>2</th>\n",
       "      <td>95</td>\n",
       "      <td>철원</td>\n",
       "      <td>강원지방기상청</td>\n",
       "    </tr>\n",
       "    <tr>\n",
       "      <th>3</th>\n",
       "      <td>98</td>\n",
       "      <td>동두천</td>\n",
       "      <td>수도권기상청</td>\n",
       "    </tr>\n",
       "    <tr>\n",
       "      <th>4</th>\n",
       "      <td>99</td>\n",
       "      <td>파주</td>\n",
       "      <td>수도권기상청</td>\n",
       "    </tr>\n",
       "    <tr>\n",
       "      <th>...</th>\n",
       "      <td>...</td>\n",
       "      <td>...</td>\n",
       "      <td>...</td>\n",
       "    </tr>\n",
       "    <tr>\n",
       "      <th>90</th>\n",
       "      <td>285</td>\n",
       "      <td>합천</td>\n",
       "      <td>울산기상대</td>\n",
       "    </tr>\n",
       "    <tr>\n",
       "      <th>91</th>\n",
       "      <td>288</td>\n",
       "      <td>밀양</td>\n",
       "      <td>울산기상대</td>\n",
       "    </tr>\n",
       "    <tr>\n",
       "      <th>92</th>\n",
       "      <td>289</td>\n",
       "      <td>산청</td>\n",
       "      <td>창원기상대</td>\n",
       "    </tr>\n",
       "    <tr>\n",
       "      <th>93</th>\n",
       "      <td>294</td>\n",
       "      <td>거제</td>\n",
       "      <td>부산지방기상청</td>\n",
       "    </tr>\n",
       "    <tr>\n",
       "      <th>94</th>\n",
       "      <td>295</td>\n",
       "      <td>남해</td>\n",
       "      <td>부산지방기상청</td>\n",
       "    </tr>\n",
       "  </tbody>\n",
       "</table>\n",
       "<p>95 rows × 3 columns</p>\n",
       "</div>"
      ],
      "text/plain": [
       "     지점  지점명     관리관서\n",
       "0    90   속초  강원지방기상청\n",
       "1    93  북춘천    춘천기상대\n",
       "2    95   철원  강원지방기상청\n",
       "3    98  동두천   수도권기상청\n",
       "4    99   파주   수도권기상청\n",
       "..  ...  ...      ...\n",
       "90  285   합천    울산기상대\n",
       "91  288   밀양    울산기상대\n",
       "92  289   산청    창원기상대\n",
       "93  294   거제  부산지방기상청\n",
       "94  295   남해  부산지방기상청\n",
       "\n",
       "[95 rows x 3 columns]"
      ]
     },
     "execution_count": 47,
     "metadata": {},
     "output_type": "execute_result"
    }
   ],
   "source": [
    "filename= 'C:/Workspace/python/빅데이터 지능형서비스 개발 팀프로젝트/Final Project/Data/areacode.csv'\n",
    "ac = pd.read_csv(filename)\n",
    "sido_list = list(ac['지점명'].copy())\n",
    "ac"
   ]
  },
  {
   "cell_type": "code",
   "execution_count": 65,
   "metadata": {},
   "outputs": [
    {
     "name": "stdout",
     "output_type": "stream",
     "text": [
      "{'response': {'header': {'resultCode': '00', 'resultMsg': 'NORMAL_SERVICE'}, 'body': {'dataType': 'JSON', 'items': {'item': [{'stnId': '90', 'stnNm': '속초', 'tm': '2021-12-05', 'avgTa': '4.7', 'minTa': '-0.2', 'minTaHrmt': '532', 'maxTa': '12.0', 'maxTaHrmt': '1425', 'mi10MaxRn': '', 'mi10MaxRnHrmt': '', 'hr1MaxRn': '', 'hr1MaxRnHrmt': '', 'sumRnDur': '', 'sumRn': '', 'maxInsWs': '4.8', 'maxInsWsWd': '110', 'maxInsWsHrmt': '1321', 'maxWs': '3.0', 'maxWsWd': '140', 'maxWsHrmt': '1225', 'avgWs': '1.5', 'hr24SumRws': '1338', 'maxWd': '270', 'avgTd': '-6.5', 'minRhm': '29', 'minRhmHrmt': '1450', 'avgRhm': '44.4', 'avgPv': '3.8', 'avgPa': '1026.0', 'maxPs': '1030.6', 'maxPsHrmt': '1002', 'minPs': '1026.4', 'minPsHrmt': '2340', 'avgPs': '1028.2', 'ssDur': '9.6', 'sumSsHr': '8.9', 'hr1MaxIcsrHrmt': '', 'hr1MaxIcsr': '', 'sumGsr': '', 'ddMefs': '', 'ddMefsHrmt': '', 'ddMes': '', 'ddMesHrmt': '', 'sumDpthFhsc': '', 'avgTca': '0.1', 'avgLmac': '0.0', 'avgTs': '3.8', 'minTg': '-2.3', 'avgCm5Te': '', 'avgCm10Te': '', 'avgCm20Te': '', 'avgCm30Te': '', 'avgM05Te': '', 'avgM10Te': '', 'avgM15Te': '', 'avgM30Te': '', 'avgM50Te': '', 'sumLrgEv': '', 'sumSmlEv': '', 'n99Rn': '', 'iscs': '', 'sumFogDur': ''}]}, 'pageNo': 1, 'numOfRows': 10, 'totalCount': 1}}}\n"
     ]
    }
   ],
   "source": [
    "import requests\n",
    "import json\n",
    "import pandas as pd\n",
    "\n",
    "# key 암호화\n",
    "filename= 'C:/Workspace/python/빅데이터 지능형서비스 개발 팀프로젝트/Final Project/Data/weather.txt'\n",
    "\n",
    "with open(filename) as f:\n",
    "  api_key = f.read()\n",
    "len(api_key)\n",
    "\n",
    "\n",
    "filename= 'C:/Workspace/python/빅데이터 지능형서비스 개발 팀프로젝트/Final Project/Data/areacode.csv'\n",
    "ac = pd.read_csv(filename)\n",
    "\n",
    "# 날짜 지정\n",
    "startDt = '20211205' \n",
    "si = '속초시'\n",
    "# 지역 코드 선택\n",
    "\n",
    "for location in ac.지점명:\n",
    "    if location in si:\n",
    "         area = ac[ac.지점명 == location].지점\n",
    "\n",
    "stnIds = area\n",
    "url = 'http://apis.data.go.kr/1360000/AsosDalyInfoService/getWthrDataList'\n",
    "params ={'serviceKey' : api_key, 'pageNo' : '1', 'numOfRows' : '10', 'dataType' : 'json', 'dataCd' : 'ASOS', 'dateCd' : 'DAY', 'startDt' : startDt, 'endDt' : startDt, 'stnIds' : stnIds }\n",
    "\n",
    "response = requests.get(url, params=params).json()\n",
    "print(response)"
   ]
  },
  {
   "cell_type": "code",
   "execution_count": 74,
   "metadata": {},
   "outputs": [
    {
     "data": {
      "text/plain": [
       "'44.4'"
      ]
     },
     "execution_count": 74,
     "metadata": {},
     "output_type": "execute_result"
    }
   ],
   "source": [
    "# ['avgRhm', 'avgTs', 'sumRn', 'ddMes']\n",
    "response['response']['body']['items']['item'][0].keys()\n",
    "response['response']['body']['items']['item'][0]['avgRhm']"
   ]
  }
 ],
 "metadata": {
  "interpreter": {
   "hash": "fe3bab233825460445dbfeea6dcd52ef5815a3fa13c858fea07ac830aa383284"
  },
  "kernelspec": {
   "display_name": "Python 3.8.10 64-bit ('base': conda)",
   "language": "python",
   "name": "python3"
  },
  "language_info": {
   "codemirror_mode": {
    "name": "ipython",
    "version": 3
   },
   "file_extension": ".py",
   "mimetype": "text/x-python",
   "name": "python",
   "nbconvert_exporter": "python",
   "pygments_lexer": "ipython3",
   "version": "3.8.10"
  },
  "orig_nbformat": 4
 },
 "nbformat": 4,
 "nbformat_minor": 2
}
