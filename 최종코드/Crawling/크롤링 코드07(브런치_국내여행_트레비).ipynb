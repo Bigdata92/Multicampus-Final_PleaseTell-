{
 "cells": [
  {
   "cell_type": "code",
   "execution_count": 1,
   "metadata": {},
   "outputs": [],
   "source": [
    "# 필요 데이터 크롤링\n",
    "import requests\n",
    "import pandas as pd\n",
    "import time\n",
    "from selenium import webdriver\n",
    "from selenium.webdriver.common.keys import Keys\n",
    "from bs4 import BeautifulSoup\n",
    "from urllib.parse import quote\n",
    "from tqdm.notebook import tqdm\n",
    "from selenium.webdriver import ActionChains\n",
    "from selenium.webdriver.common.by import By"
   ]
  },
  {
   "cell_type": "code",
   "execution_count": 2,
   "metadata": {},
   "outputs": [
    {
     "name": "stderr",
     "output_type": "stream",
     "text": [
      "<ipython-input-2-c412015881cd>:1: DeprecationWarning: executable_path has been deprecated, please pass in a Service object\n",
      "  driver = webdriver.Chrome(executable_path = 'C:/Users/Bestc/Desktop/빅데이터 지능형 서비스 개발과정(멀티캠퍼스)/설치프로그램/Selenium/chromedriver.exe')\n"
     ]
    }
   ],
   "source": [
    "driver = webdriver.Chrome(executable_path = 'C:/Users/Bestc/Desktop/빅데이터 지능형 서비스 개발과정(멀티캠퍼스)/설치프로그램/Selenium/chromedriver.exe')\n",
    "URL = 'https://brunch.co.kr/magazine/domestic'\n",
    "driver.get(URL)"
   ]
  },
  {
   "cell_type": "code",
   "execution_count": null,
   "metadata": {},
   "outputs": [],
   "source": [
    "from tqdm.notebook import tqdm\n",
    "\n",
    "for _ in tqdm(range(30)):\n",
    "    driver.execute_script(\"window.scrollTo(0, document.body.scrollHeight);\")\n",
    "    time.sleep(3)"
   ]
  },
  {
   "cell_type": "code",
   "execution_count": 6,
   "metadata": {},
   "outputs": [
    {
     "data": {
      "application/vnd.jupyter.widget-view+json": {
       "model_id": "affbba735fe04e828bdad7f34884bf2b",
       "version_major": 2,
       "version_minor": 0
      },
      "text/plain": [
       "  0%|          | 0/308 [00:00<?, ?it/s]"
      ]
     },
     "metadata": {},
     "output_type": "display_data"
    }
   ],
   "source": [
    "import re\n",
    "from hanspell import spell_checker # 최대 500자까지만 가능하기에 문장을 나눠서 반복해야함.\n",
    "def spell_check(sequence):\n",
    "    result = spell_checker.check(sequence)\n",
    "    checked_sequence = result.checked\n",
    "    return checked_sequence\n",
    "\n",
    "title_list = []\n",
    "content_list = []\n",
    "\n",
    "for i in tqdm(range(1, 309)): # 해당 페이지 글이 308개\n",
    "    driver.find_element(By.XPATH, f'/html/body/div[3]/div[2]/ul/li[{i}]/a').send_keys(Keys.CONTROL + \"\\n\")\n",
    "    time.sleep(3)\n",
    "    driver.switch_to.window(driver.window_handles[1])\n",
    "    title = driver.find_element(By.XPATH, f'/html/body/div[3]/div[1]/div[1]/div/div[3]/h1').text\n",
    "    title_list.append(title)\n",
    "    text = driver.find_element(By.XPATH, f'/html/body/div[3]/div[1]/div[2]/div[1]').text\n",
    "    text_list = []\n",
    "    for text in text.split('\\n'):\n",
    "        if text != '' and 'Artravel+' not in text and '좋아요' not in text and '댓글' not in text and 'Top' not in text\\\n",
    "            and '공유하기' not in text and '여행기' not in text and ':' not in text and 'Day' not in text and '0' != text\\\n",
    "            and '>' not in text and '경유' not in text and '-' not in text and '+' not in text and 'www' not in text and 'KRW' not in text\\\n",
    "            and '인천국제공항 (Incheon International Airport, ICN)' != text and '경유 1회' != text and '숙박' != text \\\n",
    "            and '민박 집이용 1일 약 15,000원 한달경비' != text and '1' != text and '2' != text and '3' != text and '4' != text\\\n",
    "            and '도시간 이동 약' != text and '항공료' != text and '항공' != text and '교통' != text:\n",
    "            text_list.append(text)\n",
    "    # 불필요한 문장 제거를 위해 앞뒤에 있는 메일주소 및 글 제목만 제외 / text_list[2:-4]\n",
    "    content = re.sub('[^ㄱ-ㅎㅏ-ㅣ가-힣0-9.()A-Za-z:?! ]', '', ' '.join(text_list[2:-4]))\n",
    "    # print(len(content.split('. ')))\n",
    "    content = content.replace(' )', ')')\n",
    "    content = content.replace('( ', '(')\n",
    "    content = content.replace('(중략)', ' ')\n",
    "    content = content.replace('  ', ' ')\n",
    "    content = content.replace('  ', ' ')\n",
    "    content_list.append(content)\n",
    "    driver.close()\n",
    "    driver.switch_to.window(driver.window_handles[0])"
   ]
  },
  {
   "cell_type": "code",
   "execution_count": 7,
   "metadata": {},
   "outputs": [],
   "source": [
    "df_trip_travie = pd.DataFrame({'title' : title_list, 'content' : content_list})\n",
    "df_trip_travie.to_csv('C:/Workspace/python/빅데이터 지능형서비스 개발 팀프로젝트/Final Project/Data/KoGPT2_Data/Crawling Data/df_trip_travie.csv', index= False)\n",
    "df_trip_travie['content'].to_csv('C:/Workspace/python/빅데이터 지능형서비스 개발 팀프로젝트/Final Project/Data/KoGPT2_Data/Crawling Data/df_trip_travie.txt', index= False)"
   ]
  },
  {
   "cell_type": "code",
   "execution_count": 12,
   "metadata": {},
   "outputs": [],
   "source": [
    "df_trip_travie = pd.read_csv('C:/Workspace/python/빅데이터 지능형서비스 개발 팀프로젝트/Final Project/Data/KoGPT2_Data/Crawling Data/df_trip_travie.csv')"
   ]
  },
  {
   "cell_type": "code",
   "execution_count": 16,
   "metadata": {},
   "outputs": [
    {
     "data": {
      "text/plain": [
       "'숲 내음 가득한 길 부귀 메타세쿼이아 길 부귀 메타세쿼이아 길 부귀 메타세쿼이아길 모래재 메타세콰이어길 산채 불고기를 맛볼 수 있는 한우촌 한우촌의 대표 메뉴 산채 불고기 서울에서 출발해 진안에 이르면 어느덧 점심때가 된다. 각종 산나물과 불고기가 조화를 이루는 산채 불고기는 어떨까? 한우촌은 산채 불고기 한우 구이 흑돼지 앞다리 사태 수육 대수리(다슬기의 진안 방언) 수제비 등을 파는 곳이다. 각종 계절 산나물과 불고기를 더한 산채 불고기는 다른 데서는 쉽게 접할 수 없는 요리이고 수삼 우엉 더덕으로 만든 약초뿌리 잡채도 이곳에서 맛볼 수 있는 별미다. 지금도 한창 메뉴를 개발하는 중이어서 조금 바뀔 수도 있다고 하니 연락해 보고 가자. 한우촌 한우촌 전북 진안군 진안읍 대성길 8 마조마을 감 수확 체험 진안에는 감나무가 골목마다 가로수를 이루는 마을이 있다. 씨 없는 감으로 주목받는 마조마을이다. 다른 데서 감나무를 가져와 심어도 씨가 안 생기고 이곳 나무를 다른 지역에 심으면 다시 씨가 생기는데 이유가 밝혀지지 않아 불가사의로 남았다. 마조마을 감 수확 체험 절기상 한로가 지나는 10월 중순 무렵이면 감 수확 체험이 시작되어 주변 여행자들이 많이 찾는다. 홍시 따기 곶감 만들기 캠프파이어 등에 몰두하다 보면 산골 마을의 따뜻한 정취와 인심이 듬뿍 느껴진다. 마조마을 전라북도 진안군 정천면 봉학로 640 마조마을 전북 진안군 정천면 봉학리 1138 진안을 대표하는 호수 용담호 휴관 중인 용담호 미술관에서 퍼포먼스를 선보인 김선이 무용가 진안을 여행하다 보면 어느새 호수길의 절경을 마주하게 된다. 진안에서 빼놓을 수 없는 명소인 용담호다. 호수를 따라가다 보면 용담호 사진 문화관 용담호 미술관 등도 볼 수 있는데 용담호 미술관은 현재 휴관 상태지만 향후 예술 행사가 열릴 수도 있다고 하니 기억해 두자. 호반 여러 곳에 망향의 동산도 세워져 있는데 금강 상류에 댐이 건설될 때 인공 호수인 용담호가 생기면서 주변 마을들이 수몰됐던 역사를 기리는 장소다. 용담호 용담호 사진문화관 용담호 미술관 용담호 전북 진안군 정천면 모정리 용담호사진문화관 전북 진안군 정천면 진용로 1911 용담호미술관 전북 진안군 용담면 진용로 2216 하가막 마을의 요새 천반산 천반산 의암 바위 부근 첩첩산중이 연꽃처럼 겹쳐있는 진안읍 가막리에 가면 조선 중기의 문신 정여립의 이야기가 서려 있는 천반산이 있다. 정여립은 혁신적인 사상가로서 천하는 일정한 주인이 따로 없다 누구라도 임금으로 섬길 수 있다라는 이론을 펼쳤다. 이로 인해 선조의 미움을 사서 지방으로 내려와 천반산에 머물게 됐고 역모로 몰려 끝내 자결했다고 전해진다. 천반산 등반은 편도 약 한 시간 정도 걸리며 깎아지르는 능선과 투명한 계곡물이 이색적인 풍광을 이룬다. 주변에 자연휴양림이 조성돼 있어서 쉬었다 가기도 좋다. 천반산등산로 천반산 자연 휴양림 천반산 천반산자연휴양림캠핑장 세계적인 명소 마이산 마이산 숫마이봉 진안 여행의 클라이맥스는 프랑스 미쉐린 그린 가이드에서 별 3개를 받은 마이산이다. 마이산 등반을 따로 하지 않아도 진안을 여행하다 보면 어디서든 마이산을 바라볼 수 있다. 흔히 동쪽에 있는 봉우리를 숫마이봉 서쪽에 있는 봉우리를 암마이봉이라 하는데 모양을 보면 어째서 그런 이름이 붙었는지 금방 알 수 있다. 숫마이봉은 680m 암마이봉은 686m이며 숫마이봉은 난코스로 등산이 불가하다. 마이산'"
      ]
     },
     "execution_count": 16,
     "metadata": {},
     "output_type": "execute_result"
    }
   ],
   "source": [
    "df_trip_travie.content[3]"
   ]
  }
 ],
 "metadata": {
  "interpreter": {
   "hash": "fe3bab233825460445dbfeea6dcd52ef5815a3fa13c858fea07ac830aa383284"
  },
  "kernelspec": {
   "display_name": "Python 3.8.10 64-bit ('base': conda)",
   "language": "python",
   "name": "python3"
  },
  "language_info": {
   "codemirror_mode": {
    "name": "ipython",
    "version": 3
   },
   "file_extension": ".py",
   "mimetype": "text/x-python",
   "name": "python",
   "nbconvert_exporter": "python",
   "pygments_lexer": "ipython3",
   "version": "3.8.10"
  },
  "orig_nbformat": 4
 },
 "nbformat": 4,
 "nbformat_minor": 2
}
