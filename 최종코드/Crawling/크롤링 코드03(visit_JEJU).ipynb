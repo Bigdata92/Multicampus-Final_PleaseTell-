{
 "cells": [
  {
   "cell_type": "code",
   "execution_count": 2,
   "metadata": {},
   "outputs": [],
   "source": [
    "# 필요 데이터 크롤링\n",
    "import requests\n",
    "import pandas as pd\n",
    "import time\n",
    "from selenium import webdriver\n",
    "from selenium.webdriver.common.keys import Keys\n",
    "from bs4 import BeautifulSoup\n",
    "from urllib.parse import quote\n",
    "from tqdm.notebook import tqdm\n",
    "from selenium.webdriver import ActionChains\n",
    "from selenium.webdriver.common.by import By"
   ]
  },
  {
   "cell_type": "code",
   "execution_count": null,
   "metadata": {},
   "outputs": [],
   "source": [
    "from tqdm.notebook import tqdm\n",
    "\n",
    "driver = webdriver.Chrome(executable_path = 'C:/Users/Bestc/Desktop/빅데이터 지능형 서비스 개발과정(멀티캠퍼스)/설치프로그램/Selenium/chromedriver.exe')\n",
    "URL = 'https://m.visitjeju.net/kr/detail/list?menuId=DOM_000001719001000000&cate1cd=cate0000000005#p1&region2cd&pageSize=6&sortListType=likecnt&viewType=thumb'\n",
    "driver.get(URL)\n",
    "driver.find_element(By.XPATH, f'//*[@id=\"scrollPoint\"]/div[1]/div[2]/span/select/option[5]').click()\n",
    "time.sleep(3)\n",
    "\n",
    "store_list = []\n",
    "content_list = []\n",
    "page_num = 1\n",
    "\n",
    "for num in tqdm(range(1, 11)):\n",
    "    for i in range(1,7):\n",
    "        try:\n",
    "            driver.execute_script(\"window.scrollTo(0, document.body.scrollHeight);\")\n",
    "            driver.find_element(By.XPATH, f'//*[@id=\"scrollPoint\"]/div[3]/ul/li[{i}]/a').send_keys(Keys.CONTROL + \"\\n\")\n",
    "            time.sleep(2)\n",
    "            driver.switch_to.window(driver.window_handles[1])\n",
    "            # print(driver.find_element(By.XPATH, f'//*[@id=\"content\"]/div/div/div/div[1]/div[2]/div[1]/div[1]/h3').text)\n",
    "            store = driver.find_element(By.XPATH, f'//*[@id=\"content\"]/div/div/div/div[1]/div[2]/div[1]/div[1]/h3').text\n",
    "            content = driver.find_element(By.XPATH, f'//*[@id=\"content\"]/div/div/div/div[2]/div/div/div').text\n",
    "            store_list.append(store)\n",
    "            content_list.append(content)\n",
    "            time.sleep(2)\n",
    "            driver.close()\n",
    "            driver.switch_to.window(driver.window_handles[0])\n",
    "        except:\n",
    "            print(f'{page_num}페이지 {i}번째 게시물 크롤링 실패')\n",
    "    driver.find_element(By.XPATH, f'//*[@id=\"footer\"]/div[4]/button/span').click()\n",
    "    time.sleep(2)\n",
    "    driver.find_element(By.XPATH, f'//*[@id=\"paging\"]/div/a[7]').click()\n",
    "    time.sleep(2)\n",
    "    page_num += 1"
   ]
  },
  {
   "cell_type": "code",
   "execution_count": 10,
   "metadata": {},
   "outputs": [
    {
     "data": {
      "text/plain": [
       "0"
      ]
     },
     "execution_count": 10,
     "metadata": {},
     "output_type": "execute_result"
    }
   ],
   "source": [
    "pd.DataFrame({'가게이름' : store_list, '소개' : content_list}).duplicated().sum()"
   ]
  }
 ],
 "metadata": {
  "interpreter": {
   "hash": "fe3bab233825460445dbfeea6dcd52ef5815a3fa13c858fea07ac830aa383284"
  },
  "kernelspec": {
   "display_name": "Python 3.8.10 64-bit ('base': conda)",
   "language": "python",
   "name": "python3"
  },
  "language_info": {
   "codemirror_mode": {
    "name": "ipython",
    "version": 3
   },
   "file_extension": ".py",
   "mimetype": "text/x-python",
   "name": "python",
   "nbconvert_exporter": "python",
   "pygments_lexer": "ipython3",
   "version": "3.8.10"
  },
  "orig_nbformat": 4
 },
 "nbformat": 4,
 "nbformat_minor": 2
}
