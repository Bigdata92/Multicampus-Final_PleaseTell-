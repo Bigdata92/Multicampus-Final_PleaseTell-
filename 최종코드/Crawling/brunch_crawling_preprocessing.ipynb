{
 "cells": [
  {
   "cell_type": "code",
   "execution_count": 1,
   "metadata": {},
   "outputs": [
    {
     "name": "stderr",
     "output_type": "stream",
     "text": [
      "������ ��θ� ã�� �� �����ϴ�.\n",
      "������ ��θ� ã�� �� �����ϴ�.\n"
     ]
    }
   ],
   "source": [
    "!pip install selenium > /dev/null\n",
    "!pip install webdriver-manager > /dev/null"
   ]
  },
  {
   "cell_type": "code",
   "execution_count": 1,
   "metadata": {},
   "outputs": [],
   "source": [
    "# 무한루프 돌리다가 저장하고 싶으면 중단하고 중간중간 pickle로 저장해뒀던 파일 불러와서 설정한 텝 숫자 명시 후 csv로 저장\n",
    "import selenium\n",
    "import warnings\n",
    "warnings.filterwarnings(\"ignore\")\n",
    "\n",
    "from selenium import webdriver\n",
    "from selenium.webdriver import ActionChains\n",
    "\n",
    "from selenium.webdriver.common.keys import Keys\n",
    "from selenium.webdriver.common.by import By\n",
    "\n",
    "from selenium.webdriver.support import expected_conditions as EC\n",
    "from selenium.webdriver.support.ui import Select\n",
    "from selenium.webdriver.support.ui import WebDriverWait\n",
    "from webdriver_manager.chrome import ChromeDriverManager\n",
    "\n",
    "import pandas as pd\n",
    "import numpy as np\n",
    "import pickle\n",
    "import time"
   ]
  },
  {
   "cell_type": "code",
   "execution_count": 6,
   "metadata": {},
   "outputs": [
    {
     "name": "stderr",
     "output_type": "stream",
     "text": [
      "\n",
      "\n",
      "====== WebDriver manager ======\n",
      "Current google-chrome version is 96.0.4664\n",
      "Get LATEST chromedriver version for 96.0.4664 google-chrome\n",
      "Driver [C:\\Users\\song\\.wdm\\drivers\\chromedriver\\win32\\96.0.4664.45\\chromedriver.exe] found in cache\n"
     ]
    },
    {
     "name": "stdout",
     "output_type": "stream",
     "text": [
      "brunch: 1 ~ 19\n",
      "brunch: 20 ~ 38\n",
      "brunch: 39 ~ 57\n",
      "brunch: 58 ~ 76\n",
      "brunch: 77 ~ 95\n",
      "brunch: 96 ~ 114\n",
      "brunch: 115 ~ 133\n",
      "brunch: 134 ~ 152\n",
      "brunch: 153 ~ 171\n",
      "brunch: 172 ~ 190\n",
      "brunch: 191 ~ 209\n",
      "brunch: 210 ~ 228\n",
      "brunch: 229 ~ 247\n",
      "brunch: 248 ~ 266\n",
      "brunch: 267 ~ 285\n",
      "brunch: 286 ~ 304\n",
      "brunch: 305 ~ 323\n",
      "brunch: 324 ~ 342\n",
      "brunch: 343 ~ 361\n",
      "brunch: 362 ~ 380\n",
      "brunch: 381 ~ 399\n",
      "brunch: 400 ~ 418\n",
      "brunch: 419 ~ 437\n",
      "brunch: 438 ~ 456\n",
      "brunch: 457 ~ 475\n",
      "brunch: 476 ~ 494\n",
      "brunch: 495 ~ 513\n",
      "brunch: 514 ~ 532\n",
      "brunch: 533 ~ 551\n",
      "brunch: 552 ~ 570\n",
      "brunch: 571 ~ 589\n",
      "brunch: 590 ~ 608\n",
      "brunch: 609 ~ 627\n",
      "brunch: 628 ~ 646\n",
      "brunch: 647 ~ 665\n",
      "brunch: 666 ~ 684\n",
      "brunch: 685 ~ 703\n",
      "brunch: 704 ~ 722\n",
      "brunch: 723 ~ 741\n",
      "brunch: 742 ~ 760\n",
      "brunch: 761 ~ 779\n",
      "brunch: 780 ~ 798\n",
      "brunch: 799 ~ 817\n",
      "brunch: 818 ~ 836\n",
      "brunch: 837 ~ 855\n",
      "brunch: 856 ~ 874\n",
      "brunch: 875 ~ 893\n",
      "brunch: 894 ~ 912\n",
      "brunch: 913 ~ 931\n",
      "brunch: 932 ~ 950\n",
      "brunch: 951 ~ 969\n",
      "brunch: 970 ~ 988\n",
      "brunch: 989 ~ 1007\n",
      "brunch: 1008 ~ 1026\n",
      "brunch: 1027 ~ 1045\n",
      "brunch: 1046 ~ 1064\n",
      "brunch: 1065 ~ 1083\n"
     ]
    }
   ],
   "source": [
    "webdriver_options = webdriver.ChromeOptions()\n",
    "webdriver_options.add_argument('headless')\n",
    "driver = webdriver.Chrome(ChromeDriverManager().install(), options=webdriver_options)\n",
    "# 크롬 창 안띄우고 싶으면 위 주석 제거\n",
    "\n",
    "driver.maximize_window()\n",
    "driver.implicitly_wait(2)\n",
    "\n",
    "# 브런치 접근\n",
    "driver.get(url='https://brunch.co.kr/')\n",
    "\n",
    "# 감성 에세이 텝 접근\n",
    "driver.find_element_by_css_selector('#mArticle > div.keywords > div.keyword_list_wrap > div > a:nth-child(24)').click()\n",
    "driver.switch_to.window(driver.window_handles[-1])\n",
    "driver.get_window_position(driver.window_handles[-1])\n",
    "time.sleep(1)\n",
    "\n",
    "'''\n",
    "{\"일상\":1, \"에세이\":2, \"감성에세이\":3, \"일상에세이\":4, \"감성\":5, \"수필\":6,\n",
    " \"감성글\":7, \"사진에세이\":8, \"산문\":9, \"포토에세이\":10, \"감성일기\":11, \"산문집\":12, \"힐링에세이\":13}\n",
    "'''\n",
    "# 수필 텝 접근\n",
    "acting_point = driver.find_element_by_css_selector('#keywordItemListBlock > a:nth-child(6)')\n",
    "driver.execute_script(\"arguments[0].click();\", acting_point)\n",
    "# driver.find_element_by_css_selector('#keywordItemListBlock > a:nth-child(12)').click()\n",
    "driver.switch_to.window(driver.window_handles[-1])\n",
    "driver.get_window_position(driver.window_handles[-1])\n",
    "time.sleep(1)\n",
    "\n",
    "start_page = 1\n",
    "save_count = 2\n",
    "result = {'title':[], 'context':[]}\n",
    "last_height = driver.execute_script(\"return document.body.scrollHeight\")\n",
    "SCROLL_PAUSE_TIME = 1\n",
    "\n",
    "while True:\n",
    "    print(\"brunch: {} ~ {}\".format(start_page, start_page+18))\n",
    "    for page in range(start_page, start_page+19):\n",
    "        try:\n",
    "            # 감성 에세이 페이지 내에 있는 각 문서별로 접근\n",
    "            acting_point = driver.find_element_by_css_selector(\n",
    "                f'#wrapArticle > div.wrap_article_list.\\#keyword_related_contents > ul > li:nth-child({page}) > a')\n",
    "            driver.execute_script(\"arguments[0].click();\", acting_point)\n",
    "            \n",
    "            driver.switch_to.window(driver.window_handles[-1])\n",
    "            driver.get_window_position(driver.window_handles[-1])\n",
    "            driver.implicitly_wait(2)\n",
    "        except:\n",
    "            pass\n",
    " \n",
    "        try:\n",
    "            # 각 문서 제목 저장, 존재하지 않을 시 누락 값 전달\n",
    "            title = driver.find_element_by_css_selector(\"div.cover_cell.cover_direction_left > h1\").text\n",
    "            result['title'].append(title)\n",
    "        except:\n",
    "            result['title'].append(np.nan)\n",
    "\n",
    "        try:\n",
    "            # 각 문서 텍스트 저장, 존재하지 않을 시 누락 값 전달\n",
    "            context = driver.find_element_by_css_selector(\"div.wrap_body_frame > div.wrap_body.text_align_left.finish_txt\").text\n",
    "            result['context'].append(context)\n",
    "        except:\n",
    "            result['context'].append(np.nan)\n",
    "\n",
    "        driver.close()\n",
    "        driver.switch_to.window(driver.window_handles[2])\n",
    "        driver.get_window_position(driver.window_handles[2])\n",
    "    \n",
    "    # 무한 스크롤\n",
    "    driver.execute_script(\"window.scrollTo(0, document.body.scrollHeight);\")\n",
    "    time.sleep(SCROLL_PAUSE_TIME)\n",
    "    new_height = driver.execute_script(\"return document.body.scrollHeight\")\n",
    "    if new_height == last_height:\n",
    "        break\n",
    "    last_height = new_height\n",
    "    time.sleep(SCROLL_PAUSE_TIME)\n",
    "    \n",
    "    # 스크롤 내린 후 페이지 목록 전달\n",
    "    start_page += 19\n",
    "    \n",
    "    # 19개 이상 탐색했을때 저장\n",
    "    if start_page // 19 == save_count:\n",
    "        save_count += 1\n",
    "        # 결과 리스트 저장해둘 경로 설정\n",
    "        with open(\"./result.pickle\", \"wb\") as f:\n",
    "            pickle.dump(result, f)"
   ]
  },
  {
   "cell_type": "code",
   "execution_count": 2,
   "metadata": {},
   "outputs": [],
   "source": [
    "# 실행 중단 후 저장된 결과 로드\n",
    "with open(\"./result.pickle\", \"rb\") as f:\n",
    "    result = pickle.load(f)\n",
    "\n",
    "result_df = pd.DataFrame(result)\n",
    "# result_df.dropna()\n",
    "# result_df.sort_values('title')\n",
    "\n",
    "'''\n",
    "{\"일상\":1, \"에세이\":2, \"감성에세이\":3, \"일상에세이\":4, \"감성\":5, \"수필\":6,\n",
    " \"감성글\":7, \"사진에세이\":8, \"산문\":9, \"포토에세이\":10, \"감성일기\":11, \"산문집\":12, \"힐링에세이\":13}\n",
    "'''\n",
    "result_df.to_csv(\"./result_6.csv\", index=False)"
   ]
  },
  {
   "cell_type": "code",
   "execution_count": 4,
   "metadata": {},
   "outputs": [
    {
     "data": {
      "text/html": [
       "<div>\n",
       "<style scoped>\n",
       "    .dataframe tbody tr th:only-of-type {\n",
       "        vertical-align: middle;\n",
       "    }\n",
       "\n",
       "    .dataframe tbody tr th {\n",
       "        vertical-align: top;\n",
       "    }\n",
       "\n",
       "    .dataframe thead th {\n",
       "        text-align: right;\n",
       "    }\n",
       "</style>\n",
       "<table border=\"1\" class=\"dataframe\">\n",
       "  <thead>\n",
       "    <tr style=\"text-align: right;\">\n",
       "      <th></th>\n",
       "      <th>title</th>\n",
       "      <th>context</th>\n",
       "    </tr>\n",
       "  </thead>\n",
       "  <tbody>\n",
       "    <tr>\n",
       "      <th>0</th>\n",
       "      <td>제30화 : 마중물과 꾸중물</td>\n",
       "      <td>옛날 우물에서 물을 길을 때 바닥이 얕으면 그냥 바가지로 푸면 되지만, 좀 깊은...</td>\n",
       "    </tr>\n",
       "    <tr>\n",
       "      <th>1</th>\n",
       "      <td>나의 배급날 풍경</td>\n",
       "      <td>'선생님~저 내일 배급 타러 가요.'\\n언제나처럼 당당하게 내일 할머니를 모시고 배...</td>\n",
       "    </tr>\n",
       "    <tr>\n",
       "      <th>2</th>\n",
       "      <td>NaN</td>\n",
       "      <td>'너는 사랑받기 위해 태어난 존재야'\\n\\n웃기는 말이다. 저런 말들을 가르치는 곳...</td>\n",
       "    </tr>\n",
       "    <tr>\n",
       "      <th>3</th>\n",
       "      <td>빛나라, 그럼 너는 1광년 밖에서도 눈부실 것이다.</td>\n",
       "      <td>NaN</td>\n",
       "    </tr>\n",
       "    <tr>\n",
       "      <th>4</th>\n",
       "      <td>잡문</td>\n",
       "      <td>杂文(307)\\n\\n겨울이 온다.\\n건듯 부는 상수리나무 이파리가 끈질기게 매달려 ...</td>\n",
       "    </tr>\n",
       "    <tr>\n",
       "      <th>...</th>\n",
       "      <td>...</td>\n",
       "      <td>...</td>\n",
       "    </tr>\n",
       "    <tr>\n",
       "      <th>1059</th>\n",
       "      <td>내 삶 속에서 문득 떠오르는 물음</td>\n",
       "      <td>내 삶 속에서 문득 떠오르는 물음 “누구를 위한 삶인가”\\n\\n여름 하늘의 뭉게구름...</td>\n",
       "    </tr>\n",
       "    <tr>\n",
       "      <th>1060</th>\n",
       "      <td>착한 사람들이 살기 힘든 세상</td>\n",
       "      <td>\"너 바보야?\"\\n\"호구가 되면 안 돼\"\\n\"너 너무 순수한 거 아니야?\"\\n\\n ...</td>\n",
       "    </tr>\n",
       "    <tr>\n",
       "      <th>1061</th>\n",
       "      <td>주말 오전 나 홀로 산책</td>\n",
       "      <td>NaN</td>\n",
       "    </tr>\n",
       "    <tr>\n",
       "      <th>1062</th>\n",
       "      <td>자신의 존재를 부정하는 비둘기</td>\n",
       "      <td>NaN</td>\n",
       "    </tr>\n",
       "    <tr>\n",
       "      <th>1063</th>\n",
       "      <td>6. 자전거 보조바퀴</td>\n",
       "      <td>아파트 단지내에 모든 것들이 모여있던 어린시절에 지금과는 다르게 아이들은 넘쳐났었다...</td>\n",
       "    </tr>\n",
       "  </tbody>\n",
       "</table>\n",
       "<p>1064 rows × 2 columns</p>\n",
       "</div>"
      ],
      "text/plain": [
       "                             title  \\\n",
       "0                  제30화 : 마중물과 꾸중물   \n",
       "1                        나의 배급날 풍경   \n",
       "2                              NaN   \n",
       "3     빛나라, 그럼 너는 1광년 밖에서도 눈부실 것이다.   \n",
       "4                               잡문   \n",
       "...                            ...   \n",
       "1059            내 삶 속에서 문득 떠오르는 물음   \n",
       "1060              착한 사람들이 살기 힘든 세상   \n",
       "1061                 주말 오전 나 홀로 산책   \n",
       "1062              자신의 존재를 부정하는 비둘기   \n",
       "1063                   6. 자전거 보조바퀴   \n",
       "\n",
       "                                                context  \n",
       "0       옛날 우물에서 물을 길을 때 바닥이 얕으면 그냥 바가지로 푸면 되지만, 좀 깊은...  \n",
       "1     '선생님~저 내일 배급 타러 가요.'\\n언제나처럼 당당하게 내일 할머니를 모시고 배...  \n",
       "2     '너는 사랑받기 위해 태어난 존재야'\\n\\n웃기는 말이다. 저런 말들을 가르치는 곳...  \n",
       "3                                                   NaN  \n",
       "4     杂文(307)\\n\\n겨울이 온다.\\n건듯 부는 상수리나무 이파리가 끈질기게 매달려 ...  \n",
       "...                                                 ...  \n",
       "1059  내 삶 속에서 문득 떠오르는 물음 “누구를 위한 삶인가”\\n\\n여름 하늘의 뭉게구름...  \n",
       "1060  \"너 바보야?\"\\n\"호구가 되면 안 돼\"\\n\"너 너무 순수한 거 아니야?\"\\n\\n ...  \n",
       "1061                                                NaN  \n",
       "1062                                                NaN  \n",
       "1063  아파트 단지내에 모든 것들이 모여있던 어린시절에 지금과는 다르게 아이들은 넘쳐났었다...  \n",
       "\n",
       "[1064 rows x 2 columns]"
      ]
     },
     "execution_count": 4,
     "metadata": {},
     "output_type": "execute_result"
    }
   ],
   "source": [
    "df_6 = pd.read_csv(\"./result_6.csv\")\n",
    "df_6"
   ]
  },
  {
   "cell_type": "code",
   "execution_count": 5,
   "metadata": {},
   "outputs": [],
   "source": [
    "# 브런치 데이터 중복 제거 및 지문 중 누락값이 포함된 행 제거\n",
    "def basic_preprocess(df):\n",
    "    df.drop_duplicates('context', inplace=True)\n",
    "    df.dropna(subset=['context'], inplace=True)\n",
    "    return df"
   ]
  },
  {
   "cell_type": "code",
   "execution_count": 6,
   "metadata": {},
   "outputs": [],
   "source": [
    "df_6 = basic_preprocess(df_6)"
   ]
  },
  {
   "cell_type": "markdown",
   "metadata": {},
   "source": [
    "* 전처리"
   ]
  },
  {
   "cell_type": "code",
   "execution_count": 11,
   "metadata": {},
   "outputs": [
    {
     "name": "stderr",
     "output_type": "stream",
     "text": [
      "������ ��θ� ã�� �� �����ϴ�.\n"
     ]
    }
   ],
   "source": [
    "# !pip install soynlp -q > /dev/null"
   ]
  },
  {
   "cell_type": "code",
   "execution_count": 13,
   "metadata": {},
   "outputs": [],
   "source": [
    "import re\n",
    "from soynlp.normalizer import *\n",
    "\n",
    "def preprocessing(text):\n",
    "    # 문제를 일으킬 수 있는 문자 제거\n",
    "    bad_chars = {\"\\u200b\": \"\", \"…\": \" ... \", \"\\ufeff\": \"\"}\n",
    "    for bad_char in bad_chars:\n",
    "        text = text.replace(bad_char, bad_chars[bad_char])\n",
    "        \n",
    "    error_chars = {\"\\u3000\": \" \", \"\\u2009\": \" \", \"\\u2002\": \" \", \"\\xa0\":\" \"}\n",
    "    for error_char in error_chars:\n",
    "        text = text.replace(error_char, error_chars[error_char])\n",
    "    \n",
    "    # 이메일 제거\n",
    "    text = re.sub(r\"[a-zA-Z0-9+-_.]+@[a-zA-Z0-9-]+\\.[a-zA-Z0-9-.]+\", \"[이메일]\", text).strip()\n",
    "    \n",
    "    # \"#문자\" 형식 어절 제거\n",
    "    text = re.sub(r\"#\\S+\", \"\", text).strip()\n",
    "    \n",
    "    # \"@문자\" 형식 어절 제거\n",
    "    text = re.sub(r\"@\\w+\", \"\", text).strip()\n",
    "    \n",
    "    # URL 제거\n",
    "    text = re.sub(r\"(http|https)?:\\/\\/\\S+\\b|www\\.(\\w+\\.)+\\S*\", \"[웹주소]\", text).strip()\n",
    "    text = re.sub(r\"pic\\.(\\w+\\.)+\\S*\", \"[웹주소]\", text).strip()\n",
    "    \n",
    "    # 뉴스 저작권 관련 텍스트 제거\n",
    "    re_patterns = [\n",
    "        r\"\\<저작권자(\\(c\\)|ⓒ|©|\\(Copyright\\)|(\\(c\\))|(\\(C\\))).+?\\>\",\n",
    "        r\"저작권자\\(c\\)|ⓒ|©|(Copyright)|(\\(c\\))|(\\(C\\))\"\n",
    "    ]\n",
    "    \n",
    "    for re_pattern in re_patterns:\n",
    "        text = re.sub(re_pattern, \"\", text).strip()\n",
    "    \n",
    "    # 뉴스 내 포함된 이미지에 대한 레이블 제거\n",
    "    text = re.sub(r\"\\(출처 ?= ?.+\\) |\\(사진 ?= ?.+\\) |\\(자료 ?= ?.+\\)| \\(자료사진\\) |사진=.+기자 \", \"\", text).strip()\n",
    "    \n",
    "    # 중복 문자 처리\n",
    "    text = repeat_normalize(text, num_repeats=2).strip()\n",
    "    \n",
    "    # 문제를 일으킬 수 있는 구두점 치환\n",
    "    punct_mapping = {\"‘\": \"'\", \"₹\": \"e\", \"´\": \"'\", \"°\": \"\", \"€\": \"e\", \"™\": \"tm\", \"√\": \" sqrt \", \"×\": \"x\", \"²\": \"2\", \"—\": \"-\", \"–\": \"-\", \"’\": \"'\", \"_\": \"-\", \"`\": \"'\", '“': '\"', '”': '\"', '“': '\"', \"£\": \"e\", '∞': 'infinity', 'θ': 'theta', '÷': '/', 'α': 'alpha', '•': '.', 'à': 'a', '−': '-', 'β': 'beta', '∅': '', '³': '3', 'π': 'pi', }\n",
    "    for p in punct_mapping:\n",
    "        text = text.replace(p, punct_mapping[p])\n",
    "    \n",
    "    # 연속된 공백 치환\n",
    "    text = re.sub(r\"\\s+\", \" \", text).strip()\n",
    "    \n",
    "    # 개행 문자 \"\\n\" 제거\n",
    "    text = text.replace('\\n', '')\n",
    "    \n",
    "    return text"
   ]
  },
  {
   "cell_type": "code",
   "execution_count": 14,
   "metadata": {},
   "outputs": [],
   "source": [
    "# 허깅페이스 데이터 셋 라이브러리 활용, 빠른 전처리\n",
    "def dataset_preprocessing(examples):\n",
    "    examples['context'] = preprocessing(examples['context'])\n",
    "    return examples"
   ]
  },
  {
   "cell_type": "code",
   "execution_count": 16,
   "metadata": {},
   "outputs": [],
   "source": [
    "# !pip install datasets"
   ]
  },
  {
   "cell_type": "code",
   "execution_count": 19,
   "metadata": {},
   "outputs": [
    {
     "name": "stderr",
     "output_type": "stream",
     "text": [
      "100%|██████████| 908/908 [00:02<00:00, 431.11ex/s]\n"
     ]
    }
   ],
   "source": [
    "from datasets import Dataset\n",
    "\n",
    "# 허깅페이스 데이터셋 형태로 변환\n",
    "Dataset_all = Dataset.from_pandas(df_6)\n",
    "\n",
    "# 전처리 함수 적용\n",
    "Dataset_all = Dataset_all.map(dataset_preprocessing)"
   ]
  },
  {
   "cell_type": "code",
   "execution_count": 20,
   "metadata": {},
   "outputs": [],
   "source": [
    "# 판다스 데이터프레임 형태로 전환\n",
    "df_preprocessed = Dataset_all.to_pandas()"
   ]
  },
  {
   "cell_type": "markdown",
   "metadata": {},
   "source": [
    "* 전처리 결과 확인"
   ]
  },
  {
   "cell_type": "code",
   "execution_count": 22,
   "metadata": {},
   "outputs": [
    {
     "data": {
      "text/html": [
       "<div>\n",
       "<style scoped>\n",
       "    .dataframe tbody tr th:only-of-type {\n",
       "        vertical-align: middle;\n",
       "    }\n",
       "\n",
       "    .dataframe tbody tr th {\n",
       "        vertical-align: top;\n",
       "    }\n",
       "\n",
       "    .dataframe thead th {\n",
       "        text-align: right;\n",
       "    }\n",
       "</style>\n",
       "<table border=\"1\" class=\"dataframe\">\n",
       "  <thead>\n",
       "    <tr style=\"text-align: right;\">\n",
       "      <th></th>\n",
       "      <th>title</th>\n",
       "      <th>context</th>\n",
       "    </tr>\n",
       "  </thead>\n",
       "  <tbody>\n",
       "    <tr>\n",
       "      <th>0</th>\n",
       "      <td>제30화 : 마중물과 꾸중물</td>\n",
       "      <td>옛날 우물에서 물을 길을 때 바닥이 얕으면 그냥 바가지로 푸면 되지만, 좀 깊은 곳...</td>\n",
       "    </tr>\n",
       "    <tr>\n",
       "      <th>1</th>\n",
       "      <td>나의 배급날 풍경</td>\n",
       "      <td>'선생님~저 내일 배급 타러 가요.' 언제나처럼 당당하게 내일 할머니를 모시고 배급...</td>\n",
       "    </tr>\n",
       "    <tr>\n",
       "      <th>2</th>\n",
       "      <td>None</td>\n",
       "      <td>'너는 사랑받기 위해 태어난 존재야' 웃기는 말이다. 저런 말들을 가르치는 곳들이 ...</td>\n",
       "    </tr>\n",
       "    <tr>\n",
       "      <th>3</th>\n",
       "      <td>잡문</td>\n",
       "      <td>杂文(307) 겨울이 온다. 건듯 부는 상수리나무 이파리가 끈질기게 매달려 찬 바람...</td>\n",
       "    </tr>\n",
       "    <tr>\n",
       "      <th>4</th>\n",
       "      <td>전쟁 시절의 병정놀이</td>\n",
       "      <td>요즈음 넷플릭스에서 제작한 '오징어게임'이란 드라마가 대단한 선풍을 일으키고 있다....</td>\n",
       "    </tr>\n",
       "    <tr>\n",
       "      <th>...</th>\n",
       "      <td>...</td>\n",
       "      <td>...</td>\n",
       "    </tr>\n",
       "    <tr>\n",
       "      <th>903</th>\n",
       "      <td>\"이기 머꼬?\"</td>\n",
       "      <td>남편의 외사촌 형님들 두 부부를 모시고 점심 식사 자리를 마련했다. 70을 전후한 ...</td>\n",
       "    </tr>\n",
       "    <tr>\n",
       "      <th>904</th>\n",
       "      <td>롤 모델</td>\n",
       "      <td>\"엄마 나가자.\" 극장 앞 식당에 자리를 잡고 앉자마자 은별은 엉거주춤 일어나려 했...</td>\n",
       "    </tr>\n",
       "    <tr>\n",
       "      <th>905</th>\n",
       "      <td>내 삶 속에서 문득 떠오르는 물음</td>\n",
       "      <td>내 삶 속에서 문득 떠오르는 물음 \"누구를 위한 삶인가\" 여름 하늘의 뭉게구름은 세...</td>\n",
       "    </tr>\n",
       "    <tr>\n",
       "      <th>906</th>\n",
       "      <td>착한 사람들이 살기 힘든 세상</td>\n",
       "      <td>\"너 바보야?\" \"호구가 되면 안 돼\" \"너 너무 순수한 거 아니야?\" 이런 말들을...</td>\n",
       "    </tr>\n",
       "    <tr>\n",
       "      <th>907</th>\n",
       "      <td>6. 자전거 보조바퀴</td>\n",
       "      <td>아파트 단지내에 모든 것들이 모여있던 어린시절에 지금과는 다르게 아이들은 넘쳐났었다...</td>\n",
       "    </tr>\n",
       "  </tbody>\n",
       "</table>\n",
       "<p>908 rows × 2 columns</p>\n",
       "</div>"
      ],
      "text/plain": [
       "                  title                                            context\n",
       "0       제30화 : 마중물과 꾸중물  옛날 우물에서 물을 길을 때 바닥이 얕으면 그냥 바가지로 푸면 되지만, 좀 깊은 곳...\n",
       "1             나의 배급날 풍경  '선생님~저 내일 배급 타러 가요.' 언제나처럼 당당하게 내일 할머니를 모시고 배급...\n",
       "2                  None  '너는 사랑받기 위해 태어난 존재야' 웃기는 말이다. 저런 말들을 가르치는 곳들이 ...\n",
       "3                    잡문  杂文(307) 겨울이 온다. 건듯 부는 상수리나무 이파리가 끈질기게 매달려 찬 바람...\n",
       "4           전쟁 시절의 병정놀이  요즈음 넷플릭스에서 제작한 '오징어게임'이란 드라마가 대단한 선풍을 일으키고 있다....\n",
       "..                  ...                                                ...\n",
       "903            \"이기 머꼬?\"  남편의 외사촌 형님들 두 부부를 모시고 점심 식사 자리를 마련했다. 70을 전후한 ...\n",
       "904                롤 모델  \"엄마 나가자.\" 극장 앞 식당에 자리를 잡고 앉자마자 은별은 엉거주춤 일어나려 했...\n",
       "905  내 삶 속에서 문득 떠오르는 물음  내 삶 속에서 문득 떠오르는 물음 \"누구를 위한 삶인가\" 여름 하늘의 뭉게구름은 세...\n",
       "906    착한 사람들이 살기 힘든 세상  \"너 바보야?\" \"호구가 되면 안 돼\" \"너 너무 순수한 거 아니야?\" 이런 말들을...\n",
       "907         6. 자전거 보조바퀴  아파트 단지내에 모든 것들이 모여있던 어린시절에 지금과는 다르게 아이들은 넘쳐났었다...\n",
       "\n",
       "[908 rows x 2 columns]"
      ]
     },
     "execution_count": 22,
     "metadata": {},
     "output_type": "execute_result"
    }
   ],
   "source": [
    "df_preprocessed.drop('__index_level_0__', axis=1, inplace=True)\n",
    "df_preprocessed"
   ]
  },
  {
   "cell_type": "code",
   "execution_count": 24,
   "metadata": {},
   "outputs": [
    {
     "data": {
      "text/plain": [
       "\"옛날 우물에서 물을 길을 때 바닥이 얕으면 그냥 바가지로 푸면 되지만, 좀 깊은 곳의 물을 푸려면 도르래를 매달고 두레박을 오르내리게 했다. 이도 세월이 흐르면서 좀 덜 힘들이며 길을 수 있는 방법이 없는가 하여 모색하다가 만들어낸 기구가 바로 펌프다. 펌프질 하는 모습이 마치 풀을 자르는 작두와 같다고 하여 '작두펌프'라 하는데, 사실 경상도에선 펌프라 하지 않고 다들 '뽐뿌'라 한다. 이런 작두펌프를 이용하려면 반드시 마중물이 필요하다. '마중물'은 펌프질을 할 때 물을 끌어올리기 위하여 미리 들이붓는 물을 뜻한다. 물은 어느 그릇에 담든 수평을 유지하려는 성질이 있는데 이 원리를 이용하여 만든 기구가 바로 작두펌프다. 즉 마중물을 부으면 펌프관 내부에 순간적으로 물의 높이가 바닥 물의 높이보다 높아지며, 펌프관 내부 물의 압력도 높아진다. 이때 펌프질 하면 펌프관 내부 물의 압력이 더욱 높아지고, 그로 인해 펌프관 내부의 공기도 밀려 빠져나오고 결국 물이 쉽게 나오게 된다. 그러니까 '마중물'은 깊숙한 우물 속의 물을 이끌어내는, 즉 '깨끗한 물을 마중하러 나가는 물'이란 뜻이니 참으로 멋지고 고운 우리말이 아닌가. 즉 아무리 성능 좋은 펌프라도 마중물을 먼저 넣지 않고는 결코 물을 끌어올릴 수가 없다. 말하자면 마중물이 꼭 필요하다. 그래서 이 고운 마중물이란 말을 '깨달음을 얻은 사람'을 비유할 때 종종 쓴다. 득도한 스님은 '부처님의 자비를 전하는 마중물'로, 올곧게 살다가 간 그리스도 신자는 '예수님의 사랑을 전하는 마중물'로, 아인슈타인과 같은 위대한 과학자는 '과학 발전의 마중물'로... 그런데 왜 마중물 얘기에 꾸중물이 나오는 걸까? '꾸중물(표준어는 '구정물')'은 '무엇을 씻거나 빨거나 하여 더러워진 물'을 가리키는데... 마중물과 꾸중물은 얼른 보기에 아무 관련 없어 보일 게다. 허나 한 번이라도 시골에서 펌프질을 해 본 사람이라면 이 둘이 연결돼 있음을 눈치 채리라. 처음 마중물을 넣고 펌프질 했을 때 올라오는 물은 우리가 바로 쓸 수 있는 깨끗한 물이 아니다. 아무리 깨끗한 마중물을 사용했다 하더라도 마중물에 이어 올라오는 물은 흙탕물에 다름없는 꾸중물이다. 이는 도로공사나 물탱크 청소 등으로 하여 수돗물이 잠시 끊기었다가 다시 들어올 때 그 물을 본 사람이라면 고개를 끄덕이리라. 호스에 끼어 있던 때(찌꺼기 또는 녹)가 함께 나오는 바람에 오물이 섞인 꾸중물, 즉 버려야 할 물이 먼저 나온다. 깨끗한 물을 얻기 위해선 더러운 물을 먼저 받아야 하는 역설. 꾸중물 없이는 깨끗한 물도 없다는 이 묘한 이치. 어떨 땐 한 바가지쯤 나오면 바뀌지만 가끔 댓 바가지도 더 되는 꾸중물을 버려야만 깨끗한 물을 얻을 때도 있다. 깨끗한 물은 더러운 물이 다 빠져나오고 난 다음에야 나오기 때문이다. 그래선지 사람들은 마중물만 기억할 뿐 꾸중물은 버려야 할 물로만 여긴다. 헌데 꾸중물이 나오지 않는다면 어떨까? 결코 깨끗한 물을 받을 수 없다. 반드시 꾸중물이 먼저 나와야 깨끗한 물이 따라 나오니까. (현재도 판매되고 있는 작두펌프) 전에는 마중물이란 낱말이 좋았고 마중물 같은 사람이 우러러보였다. 그렇지 않은가. '부처님의 자비를 전하는 마중물'이니, '예수님의 사랑을 전하는 마중물'이니, '과학 발전의 마중물' 등의 쓰임만 봐도 얼마나 깔쌈한가? 거기에 비하면 꾸중물이란 말의 어감이 별로 좋지 않을 뿐만 아니라 쓰임도 좋지 않다. '꾸중물(구정물)을 하수구에 버리다.' '꾸중물(구정물)을 뒤집어쓴 것같이 기분이 좋지 않다.' 이런 예문만 봐도 그렇지 않은가? 그런데 가만 생각해 보자. 처음부터 깨끗한 물이 나오지 않고 꾸중물이 다 빠지고 난 뒤에야 깨끗한 물이 나온다. 이 이치가 우리 사는 세상에 그대로 적용된다. 아침 출근길에 깨끗이 정리된 인도 위를 걷게 되면 기분도 상쾌해진다. 직장에 들어섰을 때도 마찬가지다. 대걸레질 깨끗이 한 복도를 걸어도 그러니까. 또 직장에 우선 처리할 일이 있어 평소에 달리 새벽에 나와 본 사람들은 알리라. 신새벽에 길을 쓸고 있는 분들, 건물 복도에서 대걸레로 밀고 있는 분들. 그렇다. 청소하다 보면 오물도 묻고 먼지도 들이키고 한다. 그 몸은 꾸중물이 된다. 그러기에 주변을 깨끗이 만든다. 높은 자리에 앉아 깨끗한 물로 행세하는 사람들, 사람들의 본보기가 되어 이름이 빛나는 마중물 같은 사람들... 허나 우리가 잊고 있지만 비록 자기 몸이 더러워질지언정 이웃을, 사회를, 국가를 위해 묵묵히 일하는 이름 없는 사람들도 있다. 오늘 새벽에도 깨끗한 세상을 꾸미기 위해 때를 묻히고 있는 무명의 '꾸중물'들에게 이 글을 바친다.\""
      ]
     },
     "execution_count": 24,
     "metadata": {},
     "output_type": "execute_result"
    }
   ],
   "source": [
    "df_preprocessed['context'][0]"
   ]
  },
  {
   "cell_type": "code",
   "execution_count": 26,
   "metadata": {},
   "outputs": [],
   "source": [
    "df_preprocessed.to_csv('./df_preprocessed.csv', index=False)"
   ]
  },
  {
   "cell_type": "code",
   "execution_count": null,
   "metadata": {},
   "outputs": [],
   "source": []
  }
 ],
 "metadata": {
  "interpreter": {
   "hash": "5b67bca468cb95ed3833e23e098bafe2988590e56076f1a81517cb98314e9407"
  },
  "kernelspec": {
   "display_name": "Python 3.8.8 64-bit ('base': conda)",
   "language": "python",
   "name": "python3"
  },
  "language_info": {
   "codemirror_mode": {
    "name": "ipython",
    "version": 3
   },
   "file_extension": ".py",
   "mimetype": "text/x-python",
   "name": "python",
   "nbconvert_exporter": "python",
   "pygments_lexer": "ipython3",
   "version": "3.8.8"
  },
  "orig_nbformat": 4
 },
 "nbformat": 4,
 "nbformat_minor": 2
}
